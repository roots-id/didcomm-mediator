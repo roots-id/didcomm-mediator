{
 "cells": [
  {
   "cell_type": "code",
   "execution_count": 18,
   "metadata": {},
   "outputs": [],
   "source": [
    "import json\n",
    "import base64\n",
    "import qrcode\n",
    "import requests\n",
    "import datetime\n",
    "import urllib.parse\n",
    "import uuid\n",
    "import matplotlib.pyplot as plt\n",
    "from pymongo import MongoClient\n",
    "from typing import Optional, List\n",
    "from didcomm.common.types import DID, VerificationMethodType, VerificationMaterial, VerificationMaterialFormat\n",
    "from didcomm.did_doc.did_doc import DIDDoc, VerificationMethod, DIDCommService\n",
    "from didcomm.did_doc.did_resolver import DIDResolver\n",
    "from didcomm.message import Message, FromPrior\n",
    "from didcomm.secrets.secrets_resolver_demo import SecretsResolverDemo\n",
    "from didcomm.unpack import unpack, UnpackResult\n",
    "from didcomm.common.resolvers import ResolversConfig\n",
    "from didcomm.pack_encrypted import pack_encrypted, PackEncryptedConfig, PackEncryptedResult\n",
    "from peerdid.core.did_doc_types import DIDCommServicePeerDID\n",
    "from didcomm.secrets.secrets_util import generate_x25519_keys_as_jwk_dict, generate_ed25519_keys_as_jwk_dict, jwk_to_secret\n",
    "from peerdid import peer_did\n",
    "from peerdid.did_doc import DIDDocPeerDID\n",
    "from didcomm.message import Attachment, AttachmentDataJson\n",
    "from peerdid.types import VerificationMaterialAuthentication, VerificationMethodTypeAuthentication, VerificationMaterialAgreement, VerificationMethodTypeAgreement, VerificationMaterialFormatPeerDID"
   ]
  },
  {
   "cell_type": "code",
   "execution_count": null,
   "metadata": {},
   "outputs": [],
   "source": []
  },
  {
   "cell_type": "markdown",
   "metadata": {},
   "source": [
    "## Helper function"
   ]
  },
  {
   "cell_type": "code",
   "execution_count": 19,
   "metadata": {},
   "outputs": [],
   "source": [
    "import requests\n",
    "import base58, base64\n",
    "import base64\n",
    "def base64url_decode(input):\n",
    "    rem = len(input) % 4\n",
    "\n",
    "    if rem > 0:\n",
    "        input += b'=' * (4 - rem)\n",
    "\n",
    "    return base64.urlsafe_b64decode(input)\n",
    "\n",
    "#base64 url encode\n",
    "def base64url_encode(input):\n",
    "    return base64.urlsafe_b64encode(input).rstrip(b'=')\n",
    "\n",
    "\n",
    "def base58_to_jwk(base58secret, crv):\n",
    "    \"\"\"\n",
    "    Converts a base58-encoded secret to a JWK dict.\n",
    "    :param base58secret: base58-encoded secret\n",
    "    :return: JWK dict\n",
    "    \"\"\"\n",
    "    hex_key = base58.b58decode(base58secret)\n",
    "    base64d = base64url_encode(hex_key).decode()\n",
    "    jwk = {\n",
    "        \"kty\": \"OKP\",\n",
    "        \"crv\": crv,\n",
    "        \"x\": base64d,\n",
    "        'kid': uuid.uuid4().hex\n",
    "    }\n",
    "    return jwk\n",
    "\n",
    "from pprint import pprint\n",
    "def resolve_did_web(did: str) -> DIDDoc:\n",
    "    \"\"\"Resolve DIDDoc from did:web\"\"\"\n",
    "    #remove did:web: from did\n",
    "    did = did[8:]\n",
    "    #split on : and join with /\n",
    "    path = \"https://\"+ \"/\".join(did.split(\":\")) +'/.well-known/did.json'\n",
    "    did_doc_json = requests.get(path).json()\n",
    "    # pprint(did_doc_json,)\n",
    "    a = DIDDoc(\n",
    "        did=did_doc_json['id'],\n",
    "        key_agreement_kids=['did:web:verifiable.ink#1'],\n",
    "        authentication_kids=['did:web:verifiable.ink#0'],\n",
    "        verification_methods=[\n",
    "        VerificationMethod(\n",
    "            id=did_doc_json['verificationMethod'][0]['id'],\n",
    "            type=VerificationMethodType.JSON_WEB_KEY_2020,\n",
    "            controller=did_doc_json['verificationMethod'][0]['controller'],\n",
    "            verification_material=VerificationMaterial(\n",
    "                format=VerificationMaterialFormat.JWK,\n",
    "                \n",
    "                value=json.dumps(base58_to_jwk('3zSE11h82KtPYPj8p9cTgzr6yDWFYEsfM19xc1K5vjKY','Ed25519'))\n",
    "            )\n",
    "        ),\n",
    "        VerificationMethod(\n",
    "            id=did_doc_json['verificationMethod'][1]['id'],\n",
    "            type=VerificationMethodType.JSON_WEB_KEY_2020,\n",
    "            controller=did_doc_json['verificationMethod'][1]['controller'],\n",
    "            verification_material=VerificationMaterial(\n",
    "                format=VerificationMaterialFormat.JWK,\n",
    "                value=json.dumps(base58_to_jwk('3zSE11h82KtPYPj8p9cTgzr6yDWFYEsfM19xc1K5vjKY','X25519'))\n",
    "            )\n",
    "        )],\n",
    "        didcomm_services=[DIDCommService(\n",
    "            id=did_doc_json['service'][0]['id'],\n",
    "            service_endpoint=did_doc_json['service'][0]['serviceEndpoint'],\n",
    "            routing_keys=[],\n",
    "            accept=did_doc_json['service'][0]['accept']\n",
    "        )]\n",
    "        \n",
    "    )\n",
    "\n",
    "    return a\n",
    "doc = resolve_did_web('did:web:verifiable.ink')\n"
   ]
  },
  {
   "cell_type": "code",
   "execution_count": null,
   "metadata": {},
   "outputs": [],
   "source": [
    "\n",
    "    "
   ]
  },
  {
   "cell_type": "code",
   "execution_count": null,
   "metadata": {},
   "outputs": [],
   "source": []
  },
  {
   "cell_type": "code",
   "execution_count": 20,
   "metadata": {},
   "outputs": [],
   "source": [
    "# import requests,os\n",
    "\n",
    "# url= 'https://purl.imsglobal.org/spec/ob/v3p0/context.json'\n",
    "# context_name='test-context'\n",
    "\n",
    "# #get context text\n",
    "# ctx = requests.get('https://purl.imsglobal.org/spec/ob/v3p0/context.json').content\n",
    "# #make it node friendly\n",
    "# ctx_new = 'module.exports=' + ctx.decode('utf-8') \n",
    "# #write the context to the file\n",
    "# cwd = os.getcwd()\n",
    "# with open(f'/Users/alex/Projects/rootid/rootswallet/node_modules/@sphereon/rn-vc-js/lib/contexts/'+context_name+'.js', 'w') as f:\n",
    "#     f.write(ctx_new)\n",
    "# #read /Users/alex/Projects/rootid/rootswallet/node_modules/@sphereon/rn-vc-js/lib/contexts/index.js into an array\n",
    "# with open(f'/Users/alex/Projects/rootid/rootswallet/node_modules/@sphereon/rn-vc-js/lib/contexts/index.js') as f:\n",
    "#     lines = f.readlines()\n",
    "# #find all the index of the lines that start with 'https'\n",
    "# indexes = [i for i, s in enumerate(lines) if 'https' in s]\n",
    "# #find the line with the last context mapping\n",
    "# latest = indexes.pop()\n",
    "# #add context mapping line so the file is downloaded is rechable to the documentLoader\n",
    "# lines.insert(latest+1,f'  \\'{url}\\': require(\\'./{context_name}\\'),\\n')\n",
    "# #write the new lines to the file\n",
    "# with open('/Users/alex/Projects/rootid/rootswallet/node_modules/@sphereon/rn-vc-js/lib/contexts/index.js', 'w') as f:\n",
    "#     f.writelines(lines)"
   ]
  },
  {
   "cell_type": "code",
   "execution_count": 21,
   "metadata": {},
   "outputs": [
    {
     "name": "stdout",
     "output_type": "stream",
     "text": [
      "/Users/alex/Projects/rootid/didcomm-mediator/sample-notebooks\n"
     ]
    }
   ],
   "source": [
    "# import os \n",
    "# cwd = os.getcwd()\n",
    "# print(cwd)"
   ]
  },
  {
   "cell_type": "code",
   "execution_count": 22,
   "metadata": {},
   "outputs": [],
   "source": [
    "secrets_resolver = SecretsResolverDemo()"
   ]
  },
  {
   "cell_type": "code",
   "execution_count": 23,
   "metadata": {},
   "outputs": [],
   "source": [
    "\n",
    "\n",
    "class DidUniversalResolver(DIDResolver):\n",
    "    async def resolve(self, did: DID) -> DIDDoc:\n",
    "        if did.startswith(\"did:peer\"):\n",
    "            did_doc_json = peer_did.resolve_peer_did(did, format = VerificationMaterialFormatPeerDID.JWK)\n",
    "            did_doc = DIDDocPeerDID.from_json(did_doc_json)\n",
    "\n",
    "            return DIDDoc(\n",
    "                did=did_doc.did,\n",
    "                key_agreement_kids = did_doc.agreement_kids,\n",
    "                authentication_kids = did_doc.auth_kids,\n",
    "                verification_methods = [\n",
    "                    VerificationMethod(\n",
    "                        id = m.id,\n",
    "                        type = VerificationMethodType.JSON_WEB_KEY_2020,\n",
    "                        controller = m.controller,\n",
    "                        verification_material = VerificationMaterial(\n",
    "                            format = VerificationMaterialFormat.JWK,\n",
    "                            value = json.dumps(m.ver_material.value)\n",
    "                        )\n",
    "                    )\n",
    "                    for m in did_doc.authentication + did_doc.key_agreement\n",
    "                ],\n",
    "                didcomm_services = [\n",
    "                    DIDCommService(\n",
    "                        id = s.id,\n",
    "                        service_endpoint = s.service_endpoint,\n",
    "                        routing_keys = s.routing_keys,\n",
    "                        accept = s.accept\n",
    "                    )\n",
    "                    for s in did_doc.service\n",
    "                    if isinstance(s, DIDCommServicePeerDID)\n",
    "                ] if did_doc.service else []\n",
    "            )\n",
    "        else:\n",
    "            return resolve_did_web(did)\n"
   ]
  },
  {
   "cell_type": "code",
   "execution_count": null,
   "metadata": {},
   "outputs": [],
   "source": []
  },
  {
   "cell_type": "code",
   "execution_count": 24,
   "metadata": {},
   "outputs": [],
   "source": [
    "async def create_peer_did(self,\n",
    "                        auth_keys_count: int = 1,\n",
    "                        agreement_keys_count: int = 1,\n",
    "                        service_endpoint: Optional[str] = None,\n",
    "                        service_routing_keys: Optional[List[str]] = None\n",
    "                        ) -> str:\n",
    "        # 1. generate keys in JWK format\n",
    "        agreem_keys = [generate_x25519_keys_as_jwk_dict() for _ in range(agreement_keys_count)]\n",
    "        auth_keys = [generate_ed25519_keys_as_jwk_dict() for _ in range(auth_keys_count)]\n",
    "\n",
    "        # 2. prepare the keys for peer DID lib\n",
    "        agreem_keys_peer_did = [\n",
    "            VerificationMaterialAgreement(\n",
    "                type=VerificationMethodTypeAgreement.JSON_WEB_KEY_2020,\n",
    "                format=VerificationMaterialFormatPeerDID.JWK,\n",
    "                value=k[1],\n",
    "            )\n",
    "            for k in agreem_keys\n",
    "        ]\n",
    "        auth_keys_peer_did = [\n",
    "            VerificationMaterialAuthentication(\n",
    "                type=VerificationMethodTypeAuthentication.JSON_WEB_KEY_2020,\n",
    "                format=VerificationMaterialFormatPeerDID.JWK,\n",
    "                value=k[1],\n",
    "            )\n",
    "            for k in auth_keys\n",
    "        ]\n",
    "\n",
    "        # 3. generate service\n",
    "        service = None\n",
    "        if service_endpoint:\n",
    "            service = json.dumps(\n",
    "                DIDCommServicePeerDID(\n",
    "                    id=\"new-id\",\n",
    "                    service_endpoint=service_endpoint, routing_keys=service_routing_keys,\n",
    "                    accept=[\"didcomm/v2\"]\n",
    "                ).to_dict()\n",
    "            )\n",
    "        # 4. call peer DID lib\n",
    "        # if we have just one key (auth), then use numalg0 algorithm\n",
    "        # otherwise use numalg2 algorithm\n",
    "        if len(auth_keys_peer_did) == 1 and not agreem_keys_peer_did and not service:\n",
    "            did = peer_did.create_peer_did_numalgo_0(auth_keys_peer_did[0])\n",
    "        else:\n",
    "            did = peer_did.create_peer_did_numalgo_2(\n",
    "                encryption_keys=agreem_keys_peer_did,\n",
    "                signing_keys=auth_keys_peer_did,\n",
    "                service=service,\n",
    "            )\n",
    "\n",
    "        # 5. set KIDs as in DID DOC for secrets and store the secret in the secrets resolver\n",
    "        did_doc = DIDDocPeerDID.from_json(peer_did.resolve_peer_did(did))\n",
    "        for auth_key, kid in zip(auth_keys, did_doc.auth_kids):\n",
    "            private_key = auth_key[0]\n",
    "            private_key[\"kid\"] = kid\n",
    "            await secrets_resolver.add_key(jwk_to_secret(private_key))\n",
    "\n",
    "        for agreem_key, kid in zip(agreem_keys, did_doc.agreement_kids):\n",
    "            private_key = agreem_key[0]\n",
    "            private_key[\"kid\"] = kid\n",
    "            await secrets_resolver.add_key(jwk_to_secret(private_key))\n",
    "\n",
    "        return did, auth_keys[0]\n"
   ]
  },
  {
   "cell_type": "code",
   "execution_count": 25,
   "metadata": {},
   "outputs": [],
   "source": [
    "_tmpp_did_holder, _tmpp_keys_holder_jwk  = await create_peer_did( 1,1, service_endpoint=\"https://example.com\")\n"
   ]
  },
  {
   "cell_type": "code",
   "execution_count": 39,
   "metadata": {},
   "outputs": [
    {
     "data": {
      "text/plain": [
       "({'crv': 'Ed25519',\n",
       "  'x': 'vUNE4zA7G6GiAbSOl591o_WrWqbvKTJa4eSLWzjoPjk',\n",
       "  'd': 'kpjhLmPnFGBXA6N-_cpZqSXpcT0ER0ZQlP_8sDW7fnk',\n",
       "  'kty': 'OKP',\n",
       "  'kid': 'did:peer:2.Ez6LSnRkrkowwK1DNVngsPGknLoA1AW8GTMv9FP1erZXtPSxu.Vz6MksC4bNj7jLmjha8VyLnfgnpqaAL5AzN5HkGgRYr3SJhdz.SeyJpZCI6Im5ldy1pZCIsInQiOiJkbSIsInMiOiJodHRwczovL2V4YW1wbGUuY29tIiwiYSI6WyJkaWRjb21tL3YyIl19#6MksC4bNj7jLmjha8VyLnfgnpqaAL5AzN5HkGgRYr3SJhdz'},\n",
       " {'crv': 'Ed25519',\n",
       "  'x': 'vUNE4zA7G6GiAbSOl591o_WrWqbvKTJa4eSLWzjoPjk',\n",
       "  'kty': 'OKP',\n",
       "  'kid': '9eJYENR8_SJF_1cV8HWfeqJTB4t6FJakbFc1DkT4wJI'})"
      ]
     },
     "execution_count": 39,
     "metadata": {},
     "output_type": "execute_result"
    }
   ],
   "source": [
    "_tmpp_keys_holder_jwk"
   ]
  },
  {
   "cell_type": "code",
   "execution_count": 37,
   "metadata": {},
   "outputs": [
    {
     "data": {
      "text/plain": [
       "{'id': 'did:peer:2.Ez6LSnRkrkowwK1DNVngsPGknLoA1AW8GTMv9FP1erZXtPSxu.Vz6MksC4bNj7jLmjha8VyLnfgnpqaAL5AzN5HkGgRYr3SJhdz.SeyJpZCI6Im5ldy1pZCIsInQiOiJkbSIsInMiOiJodHRwczovL2V4YW1wbGUuY29tIiwiYSI6WyJkaWRjb21tL3YyIl19',\n",
       " 'authentication': [{'id': 'did:peer:2.Ez6LSnRkrkowwK1DNVngsPGknLoA1AW8GTMv9FP1erZXtPSxu.Vz6MksC4bNj7jLmjha8VyLnfgnpqaAL5AzN5HkGgRYr3SJhdz.SeyJpZCI6Im5ldy1pZCIsInQiOiJkbSIsInMiOiJodHRwczovL2V4YW1wbGUuY29tIiwiYSI6WyJkaWRjb21tL3YyIl19#6MksC4bNj7jLmjha8VyLnfgnpqaAL5AzN5HkGgRYr3SJhdz',\n",
       "   'type': 'Ed25519VerificationKey2020',\n",
       "   'controller': 'did:peer:2.Ez6LSnRkrkowwK1DNVngsPGknLoA1AW8GTMv9FP1erZXtPSxu.Vz6MksC4bNj7jLmjha8VyLnfgnpqaAL5AzN5HkGgRYr3SJhdz.SeyJpZCI6Im5ldy1pZCIsInQiOiJkbSIsInMiOiJodHRwczovL2V4YW1wbGUuY29tIiwiYSI6WyJkaWRjb21tL3YyIl19',\n",
       "   'publicKeyMultibase': 'z6MksC4bNj7jLmjha8VyLnfgnpqaAL5AzN5HkGgRYr3SJhdz'}],\n",
       " 'keyAgreement': [{'id': 'did:peer:2.Ez6LSnRkrkowwK1DNVngsPGknLoA1AW8GTMv9FP1erZXtPSxu.Vz6MksC4bNj7jLmjha8VyLnfgnpqaAL5AzN5HkGgRYr3SJhdz.SeyJpZCI6Im5ldy1pZCIsInQiOiJkbSIsInMiOiJodHRwczovL2V4YW1wbGUuY29tIiwiYSI6WyJkaWRjb21tL3YyIl19#6LSnRkrkowwK1DNVngsPGknLoA1AW8GTMv9FP1erZXtPSxu',\n",
       "   'type': 'X25519KeyAgreementKey2020',\n",
       "   'controller': 'did:peer:2.Ez6LSnRkrkowwK1DNVngsPGknLoA1AW8GTMv9FP1erZXtPSxu.Vz6MksC4bNj7jLmjha8VyLnfgnpqaAL5AzN5HkGgRYr3SJhdz.SeyJpZCI6Im5ldy1pZCIsInQiOiJkbSIsInMiOiJodHRwczovL2V4YW1wbGUuY29tIiwiYSI6WyJkaWRjb21tL3YyIl19',\n",
       "   'publicKeyMultibase': 'z6LSnRkrkowwK1DNVngsPGknLoA1AW8GTMv9FP1erZXtPSxu'}],\n",
       " 'service': [{'id': 'did:peer:2.Ez6LSnRkrkowwK1DNVngsPGknLoA1AW8GTMv9FP1erZXtPSxu.Vz6MksC4bNj7jLmjha8VyLnfgnpqaAL5AzN5HkGgRYr3SJhdz.SeyJpZCI6Im5ldy1pZCIsInQiOiJkbSIsInMiOiJodHRwczovL2V4YW1wbGUuY29tIiwiYSI6WyJkaWRjb21tL3YyIl19#didcommmessaging-0',\n",
       "   'type': 'DIDCommMessaging',\n",
       "   'serviceEndpoint': 'https://example.com',\n",
       "   'accept': ['didcomm/v2']}]}"
      ]
     },
     "execution_count": 37,
     "metadata": {},
     "output_type": "execute_result"
    }
   ],
   "source": [
    "_tmp_did_doc = json.loads(peer_did.resolve_peer_did(_tmpp_did_holder))\n",
    "_tmp_did_doc"
   ]
  },
  {
   "cell_type": "code",
   "execution_count": 26,
   "metadata": {},
   "outputs": [
    {
     "name": "stdout",
     "output_type": "stream",
     "text": [
      "did_holder did:peer:2.Ez6LSgYTCJbiHEYTvxGm28hRLfYEthdEg4Z6xkUu9ytQRqTGr.Vz6MkrcDP4f9ddywn1nmVBKk3RwYX4kpHwjhjgz49KrQCSBmj.SeyJpZCI6Im5ldy1pZCIsInQiOiJkbSIsInMiOiJodHRwczovL2V4YW1wbGUuY29tIiwiYSI6WyJkaWRjb21tL3YyIl0sInIiOlsiZGlkOnBlZXI6Mi5FejZMU25Sa3Jrb3d3SzFETlZuZ3NQR2tuTG9BMUFXOEdUTXY5RlAxZXJaWHRQU3h1LlZ6Nk1rc0M0Yk5qN2pMbWpoYThWeUxuZmducHFhQUw1QXpONUhrR2dSWXIzU0poZHouU2V5SnBaQ0k2SW01bGR5MXBaQ0lzSW5RaU9pSmtiU0lzSW5NaU9pSm9kSFJ3Y3pvdkwyVjRZVzF3YkdVdVkyOXRJaXdpWVNJNld5SmthV1JqYjIxdEwzWXlJbDE5Il19\n"
     ]
    }
   ],
   "source": [
    "did_holder, keys_holder_jwk  = await create_peer_did( 1,1, service_endpoint=\"https://example.com\", service_routing_keys=[_tmpp_did_holder])\n",
    "print(\"did_holder\", did_holder)"
   ]
  },
  {
   "cell_type": "code",
   "execution_count": null,
   "metadata": {},
   "outputs": [],
   "source": []
  },
  {
   "cell_type": "code",
   "execution_count": 27,
   "metadata": {},
   "outputs": [
    {
     "name": "stdout",
     "output_type": "stream",
     "text": [
      "did_doc_holder DIDDoc(did='did:peer:2.Ez6LSgYTCJbiHEYTvxGm28hRLfYEthdEg4Z6xkUu9ytQRqTGr.Vz6MkrcDP4f9ddywn1nmVBKk3RwYX4kpHwjhjgz49KrQCSBmj.SeyJpZCI6Im5ldy1pZCIsInQiOiJkbSIsInMiOiJodHRwczovL2V4YW1wbGUuY29tIiwiYSI6WyJkaWRjb21tL3YyIl0sInIiOlsiZGlkOnBlZXI6Mi5FejZMU25Sa3Jrb3d3SzFETlZuZ3NQR2tuTG9BMUFXOEdUTXY5RlAxZXJaWHRQU3h1LlZ6Nk1rc0M0Yk5qN2pMbWpoYThWeUxuZmducHFhQUw1QXpONUhrR2dSWXIzU0poZHouU2V5SnBaQ0k2SW01bGR5MXBaQ0lzSW5RaU9pSmtiU0lzSW5NaU9pSm9kSFJ3Y3pvdkwyVjRZVzF3YkdVdVkyOXRJaXdpWVNJNld5SmthV1JqYjIxdEwzWXlJbDE5Il19', key_agreement_kids=['did:peer:2.Ez6LSgYTCJbiHEYTvxGm28hRLfYEthdEg4Z6xkUu9ytQRqTGr.Vz6MkrcDP4f9ddywn1nmVBKk3RwYX4kpHwjhjgz49KrQCSBmj.SeyJpZCI6Im5ldy1pZCIsInQiOiJkbSIsInMiOiJodHRwczovL2V4YW1wbGUuY29tIiwiYSI6WyJkaWRjb21tL3YyIl0sInIiOlsiZGlkOnBlZXI6Mi5FejZMU25Sa3Jrb3d3SzFETlZuZ3NQR2tuTG9BMUFXOEdUTXY5RlAxZXJaWHRQU3h1LlZ6Nk1rc0M0Yk5qN2pMbWpoYThWeUxuZmducHFhQUw1QXpONUhrR2dSWXIzU0poZHouU2V5SnBaQ0k2SW01bGR5MXBaQ0lzSW5RaU9pSmtiU0lzSW5NaU9pSm9kSFJ3Y3pvdkwyVjRZVzF3YkdVdVkyOXRJaXdpWVNJNld5SmthV1JqYjIxdEwzWXlJbDE5Il19#6LSgYTCJbiHEYTvxGm28hRLfYEthdEg4Z6xkUu9ytQRqTGr'], authentication_kids=['did:peer:2.Ez6LSgYTCJbiHEYTvxGm28hRLfYEthdEg4Z6xkUu9ytQRqTGr.Vz6MkrcDP4f9ddywn1nmVBKk3RwYX4kpHwjhjgz49KrQCSBmj.SeyJpZCI6Im5ldy1pZCIsInQiOiJkbSIsInMiOiJodHRwczovL2V4YW1wbGUuY29tIiwiYSI6WyJkaWRjb21tL3YyIl0sInIiOlsiZGlkOnBlZXI6Mi5FejZMU25Sa3Jrb3d3SzFETlZuZ3NQR2tuTG9BMUFXOEdUTXY5RlAxZXJaWHRQU3h1LlZ6Nk1rc0M0Yk5qN2pMbWpoYThWeUxuZmducHFhQUw1QXpONUhrR2dSWXIzU0poZHouU2V5SnBaQ0k2SW01bGR5MXBaQ0lzSW5RaU9pSmtiU0lzSW5NaU9pSm9kSFJ3Y3pvdkwyVjRZVzF3YkdVdVkyOXRJaXdpWVNJNld5SmthV1JqYjIxdEwzWXlJbDE5Il19#6MkrcDP4f9ddywn1nmVBKk3RwYX4kpHwjhjgz49KrQCSBmj'], verification_methods=[VerificationMethod(id='did:peer:2.Ez6LSgYTCJbiHEYTvxGm28hRLfYEthdEg4Z6xkUu9ytQRqTGr.Vz6MkrcDP4f9ddywn1nmVBKk3RwYX4kpHwjhjgz49KrQCSBmj.SeyJpZCI6Im5ldy1pZCIsInQiOiJkbSIsInMiOiJodHRwczovL2V4YW1wbGUuY29tIiwiYSI6WyJkaWRjb21tL3YyIl0sInIiOlsiZGlkOnBlZXI6Mi5FejZMU25Sa3Jrb3d3SzFETlZuZ3NQR2tuTG9BMUFXOEdUTXY5RlAxZXJaWHRQU3h1LlZ6Nk1rc0M0Yk5qN2pMbWpoYThWeUxuZmducHFhQUw1QXpONUhrR2dSWXIzU0poZHouU2V5SnBaQ0k2SW01bGR5MXBaQ0lzSW5RaU9pSmtiU0lzSW5NaU9pSm9kSFJ3Y3pvdkwyVjRZVzF3YkdVdVkyOXRJaXdpWVNJNld5SmthV1JqYjIxdEwzWXlJbDE5Il19#6MkrcDP4f9ddywn1nmVBKk3RwYX4kpHwjhjgz49KrQCSBmj', type=<VerificationMethodType.JSON_WEB_KEY_2020: 1>, controller='did:peer:2.Ez6LSgYTCJbiHEYTvxGm28hRLfYEthdEg4Z6xkUu9ytQRqTGr.Vz6MkrcDP4f9ddywn1nmVBKk3RwYX4kpHwjhjgz49KrQCSBmj.SeyJpZCI6Im5ldy1pZCIsInQiOiJkbSIsInMiOiJodHRwczovL2V4YW1wbGUuY29tIiwiYSI6WyJkaWRjb21tL3YyIl0sInIiOlsiZGlkOnBlZXI6Mi5FejZMU25Sa3Jrb3d3SzFETlZuZ3NQR2tuTG9BMUFXOEdUTXY5RlAxZXJaWHRQU3h1LlZ6Nk1rc0M0Yk5qN2pMbWpoYThWeUxuZmducHFhQUw1QXpONUhrR2dSWXIzU0poZHouU2V5SnBaQ0k2SW01bGR5MXBaQ0lzSW5RaU9pSmtiU0lzSW5NaU9pSm9kSFJ3Y3pvdkwyVjRZVzF3YkdVdVkyOXRJaXdpWVNJNld5SmthV1JqYjIxdEwzWXlJbDE5Il19', verification_material=VerificationMaterial(format=<VerificationMaterialFormat.JWK: 1>, value='{\"kty\": \"OKP\", \"crv\": \"Ed25519\", \"x\": \"tJd1OS1gEL6Wp4IC37oZRlsaWgmL3R-E4YKldjm7vcI\"}')), VerificationMethod(id='did:peer:2.Ez6LSgYTCJbiHEYTvxGm28hRLfYEthdEg4Z6xkUu9ytQRqTGr.Vz6MkrcDP4f9ddywn1nmVBKk3RwYX4kpHwjhjgz49KrQCSBmj.SeyJpZCI6Im5ldy1pZCIsInQiOiJkbSIsInMiOiJodHRwczovL2V4YW1wbGUuY29tIiwiYSI6WyJkaWRjb21tL3YyIl0sInIiOlsiZGlkOnBlZXI6Mi5FejZMU25Sa3Jrb3d3SzFETlZuZ3NQR2tuTG9BMUFXOEdUTXY5RlAxZXJaWHRQU3h1LlZ6Nk1rc0M0Yk5qN2pMbWpoYThWeUxuZmducHFhQUw1QXpONUhrR2dSWXIzU0poZHouU2V5SnBaQ0k2SW01bGR5MXBaQ0lzSW5RaU9pSmtiU0lzSW5NaU9pSm9kSFJ3Y3pvdkwyVjRZVzF3YkdVdVkyOXRJaXdpWVNJNld5SmthV1JqYjIxdEwzWXlJbDE5Il19#6LSgYTCJbiHEYTvxGm28hRLfYEthdEg4Z6xkUu9ytQRqTGr', type=<VerificationMethodType.JSON_WEB_KEY_2020: 1>, controller='did:peer:2.Ez6LSgYTCJbiHEYTvxGm28hRLfYEthdEg4Z6xkUu9ytQRqTGr.Vz6MkrcDP4f9ddywn1nmVBKk3RwYX4kpHwjhjgz49KrQCSBmj.SeyJpZCI6Im5ldy1pZCIsInQiOiJkbSIsInMiOiJodHRwczovL2V4YW1wbGUuY29tIiwiYSI6WyJkaWRjb21tL3YyIl0sInIiOlsiZGlkOnBlZXI6Mi5FejZMU25Sa3Jrb3d3SzFETlZuZ3NQR2tuTG9BMUFXOEdUTXY5RlAxZXJaWHRQU3h1LlZ6Nk1rc0M0Yk5qN2pMbWpoYThWeUxuZmducHFhQUw1QXpONUhrR2dSWXIzU0poZHouU2V5SnBaQ0k2SW01bGR5MXBaQ0lzSW5RaU9pSmtiU0lzSW5NaU9pSm9kSFJ3Y3pvdkwyVjRZVzF3YkdVdVkyOXRJaXdpWVNJNld5SmthV1JqYjIxdEwzWXlJbDE5Il19', verification_material=VerificationMaterial(format=<VerificationMaterialFormat.JWK: 1>, value='{\"kty\": \"OKP\", \"crv\": \"X25519\", \"x\": \"SE_qBMDj5lpPHOqHfBsTigf2VMvI3BOBui6Wmng2Gl8\"}'))], didcomm_services=[DIDCommService(id='did:peer:2.Ez6LSgYTCJbiHEYTvxGm28hRLfYEthdEg4Z6xkUu9ytQRqTGr.Vz6MkrcDP4f9ddywn1nmVBKk3RwYX4kpHwjhjgz49KrQCSBmj.SeyJpZCI6Im5ldy1pZCIsInQiOiJkbSIsInMiOiJodHRwczovL2V4YW1wbGUuY29tIiwiYSI6WyJkaWRjb21tL3YyIl0sInIiOlsiZGlkOnBlZXI6Mi5FejZMU25Sa3Jrb3d3SzFETlZuZ3NQR2tuTG9BMUFXOEdUTXY5RlAxZXJaWHRQU3h1LlZ6Nk1rc0M0Yk5qN2pMbWpoYThWeUxuZmducHFhQUw1QXpONUhrR2dSWXIzU0poZHouU2V5SnBaQ0k2SW01bGR5MXBaQ0lzSW5RaU9pSmtiU0lzSW5NaU9pSm9kSFJ3Y3pvdkwyVjRZVzF3YkdVdVkyOXRJaXdpWVNJNld5SmthV1JqYjIxdEwzWXlJbDE5Il19#didcommmessaging-0', service_endpoint='https://example.com', routing_keys=['did:peer:2.Ez6LSnRkrkowwK1DNVngsPGknLoA1AW8GTMv9FP1erZXtPSxu.Vz6MksC4bNj7jLmjha8VyLnfgnpqaAL5AzN5HkGgRYr3SJhdz.SeyJpZCI6Im5ldy1pZCIsInQiOiJkbSIsInMiOiJodHRwczovL2V4YW1wbGUuY29tIiwiYSI6WyJkaWRjb21tL3YyIl19'], accept=['didcomm/v2'])])\n"
     ]
    }
   ],
   "source": [
    "#resolve did peer\n",
    "did_doc_holder = await DidUniversalResolver().resolve(did_holder)\n",
    "print(\"did_doc_holder\", did_doc_holder)"
   ]
  },
  {
   "cell_type": "code",
   "execution_count": 28,
   "metadata": {},
   "outputs": [
    {
     "data": {
      "text/plain": [
       "{'id': 'did:peer:2.Ez6LSgYTCJbiHEYTvxGm28hRLfYEthdEg4Z6xkUu9ytQRqTGr.Vz6MkrcDP4f9ddywn1nmVBKk3RwYX4kpHwjhjgz49KrQCSBmj.SeyJpZCI6Im5ldy1pZCIsInQiOiJkbSIsInMiOiJodHRwczovL2V4YW1wbGUuY29tIiwiYSI6WyJkaWRjb21tL3YyIl0sInIiOlsiZGlkOnBlZXI6Mi5FejZMU25Sa3Jrb3d3SzFETlZuZ3NQR2tuTG9BMUFXOEdUTXY5RlAxZXJaWHRQU3h1LlZ6Nk1rc0M0Yk5qN2pMbWpoYThWeUxuZmducHFhQUw1QXpONUhrR2dSWXIzU0poZHouU2V5SnBaQ0k2SW01bGR5MXBaQ0lzSW5RaU9pSmtiU0lzSW5NaU9pSm9kSFJ3Y3pvdkwyVjRZVzF3YkdVdVkyOXRJaXdpWVNJNld5SmthV1JqYjIxdEwzWXlJbDE5Il19',\n",
       " 'authentication': [{'id': 'did:peer:2.Ez6LSgYTCJbiHEYTvxGm28hRLfYEthdEg4Z6xkUu9ytQRqTGr.Vz6MkrcDP4f9ddywn1nmVBKk3RwYX4kpHwjhjgz49KrQCSBmj.SeyJpZCI6Im5ldy1pZCIsInQiOiJkbSIsInMiOiJodHRwczovL2V4YW1wbGUuY29tIiwiYSI6WyJkaWRjb21tL3YyIl0sInIiOlsiZGlkOnBlZXI6Mi5FejZMU25Sa3Jrb3d3SzFETlZuZ3NQR2tuTG9BMUFXOEdUTXY5RlAxZXJaWHRQU3h1LlZ6Nk1rc0M0Yk5qN2pMbWpoYThWeUxuZmducHFhQUw1QXpONUhrR2dSWXIzU0poZHouU2V5SnBaQ0k2SW01bGR5MXBaQ0lzSW5RaU9pSmtiU0lzSW5NaU9pSm9kSFJ3Y3pvdkwyVjRZVzF3YkdVdVkyOXRJaXdpWVNJNld5SmthV1JqYjIxdEwzWXlJbDE5Il19#6MkrcDP4f9ddywn1nmVBKk3RwYX4kpHwjhjgz49KrQCSBmj',\n",
       "   'type': 'Ed25519VerificationKey2020',\n",
       "   'controller': 'did:peer:2.Ez6LSgYTCJbiHEYTvxGm28hRLfYEthdEg4Z6xkUu9ytQRqTGr.Vz6MkrcDP4f9ddywn1nmVBKk3RwYX4kpHwjhjgz49KrQCSBmj.SeyJpZCI6Im5ldy1pZCIsInQiOiJkbSIsInMiOiJodHRwczovL2V4YW1wbGUuY29tIiwiYSI6WyJkaWRjb21tL3YyIl0sInIiOlsiZGlkOnBlZXI6Mi5FejZMU25Sa3Jrb3d3SzFETlZuZ3NQR2tuTG9BMUFXOEdUTXY5RlAxZXJaWHRQU3h1LlZ6Nk1rc0M0Yk5qN2pMbWpoYThWeUxuZmducHFhQUw1QXpONUhrR2dSWXIzU0poZHouU2V5SnBaQ0k2SW01bGR5MXBaQ0lzSW5RaU9pSmtiU0lzSW5NaU9pSm9kSFJ3Y3pvdkwyVjRZVzF3YkdVdVkyOXRJaXdpWVNJNld5SmthV1JqYjIxdEwzWXlJbDE5Il19',\n",
       "   'publicKeyMultibase': 'z6MkrcDP4f9ddywn1nmVBKk3RwYX4kpHwjhjgz49KrQCSBmj'}],\n",
       " 'keyAgreement': [{'id': 'did:peer:2.Ez6LSgYTCJbiHEYTvxGm28hRLfYEthdEg4Z6xkUu9ytQRqTGr.Vz6MkrcDP4f9ddywn1nmVBKk3RwYX4kpHwjhjgz49KrQCSBmj.SeyJpZCI6Im5ldy1pZCIsInQiOiJkbSIsInMiOiJodHRwczovL2V4YW1wbGUuY29tIiwiYSI6WyJkaWRjb21tL3YyIl0sInIiOlsiZGlkOnBlZXI6Mi5FejZMU25Sa3Jrb3d3SzFETlZuZ3NQR2tuTG9BMUFXOEdUTXY5RlAxZXJaWHRQU3h1LlZ6Nk1rc0M0Yk5qN2pMbWpoYThWeUxuZmducHFhQUw1QXpONUhrR2dSWXIzU0poZHouU2V5SnBaQ0k2SW01bGR5MXBaQ0lzSW5RaU9pSmtiU0lzSW5NaU9pSm9kSFJ3Y3pvdkwyVjRZVzF3YkdVdVkyOXRJaXdpWVNJNld5SmthV1JqYjIxdEwzWXlJbDE5Il19#6LSgYTCJbiHEYTvxGm28hRLfYEthdEg4Z6xkUu9ytQRqTGr',\n",
       "   'type': 'X25519KeyAgreementKey2020',\n",
       "   'controller': 'did:peer:2.Ez6LSgYTCJbiHEYTvxGm28hRLfYEthdEg4Z6xkUu9ytQRqTGr.Vz6MkrcDP4f9ddywn1nmVBKk3RwYX4kpHwjhjgz49KrQCSBmj.SeyJpZCI6Im5ldy1pZCIsInQiOiJkbSIsInMiOiJodHRwczovL2V4YW1wbGUuY29tIiwiYSI6WyJkaWRjb21tL3YyIl0sInIiOlsiZGlkOnBlZXI6Mi5FejZMU25Sa3Jrb3d3SzFETlZuZ3NQR2tuTG9BMUFXOEdUTXY5RlAxZXJaWHRQU3h1LlZ6Nk1rc0M0Yk5qN2pMbWpoYThWeUxuZmducHFhQUw1QXpONUhrR2dSWXIzU0poZHouU2V5SnBaQ0k2SW01bGR5MXBaQ0lzSW5RaU9pSmtiU0lzSW5NaU9pSm9kSFJ3Y3pvdkwyVjRZVzF3YkdVdVkyOXRJaXdpWVNJNld5SmthV1JqYjIxdEwzWXlJbDE5Il19',\n",
       "   'publicKeyMultibase': 'z6LSgYTCJbiHEYTvxGm28hRLfYEthdEg4Z6xkUu9ytQRqTGr'}],\n",
       " 'service': [{'id': 'did:peer:2.Ez6LSgYTCJbiHEYTvxGm28hRLfYEthdEg4Z6xkUu9ytQRqTGr.Vz6MkrcDP4f9ddywn1nmVBKk3RwYX4kpHwjhjgz49KrQCSBmj.SeyJpZCI6Im5ldy1pZCIsInQiOiJkbSIsInMiOiJodHRwczovL2V4YW1wbGUuY29tIiwiYSI6WyJkaWRjb21tL3YyIl0sInIiOlsiZGlkOnBlZXI6Mi5FejZMU25Sa3Jrb3d3SzFETlZuZ3NQR2tuTG9BMUFXOEdUTXY5RlAxZXJaWHRQU3h1LlZ6Nk1rc0M0Yk5qN2pMbWpoYThWeUxuZmducHFhQUw1QXpONUhrR2dSWXIzU0poZHouU2V5SnBaQ0k2SW01bGR5MXBaQ0lzSW5RaU9pSmtiU0lzSW5NaU9pSm9kSFJ3Y3pvdkwyVjRZVzF3YkdVdVkyOXRJaXdpWVNJNld5SmthV1JqYjIxdEwzWXlJbDE5Il19#didcommmessaging-0',\n",
       "   'type': 'DIDCommMessaging',\n",
       "   'serviceEndpoint': 'https://example.com',\n",
       "   'routingKeys': ['did:peer:2.Ez6LSnRkrkowwK1DNVngsPGknLoA1AW8GTMv9FP1erZXtPSxu.Vz6MksC4bNj7jLmjha8VyLnfgnpqaAL5AzN5HkGgRYr3SJhdz.SeyJpZCI6Im5ldy1pZCIsInQiOiJkbSIsInMiOiJodHRwczovL2V4YW1wbGUuY29tIiwiYSI6WyJkaWRjb21tL3YyIl19'],\n",
       "   'accept': ['didcomm/v2']}]}"
      ]
     },
     "execution_count": 28,
     "metadata": {},
     "output_type": "execute_result"
    }
   ],
   "source": [
    "issuer_did_doc = json.loads(peer_did.resolve_peer_did(did_holder))\n",
    "issuer_did_doc"
   ]
  },
  {
   "cell_type": "code",
   "execution_count": 29,
   "metadata": {},
   "outputs": [
    {
     "name": "stdout",
     "output_type": "stream",
     "text": [
      "{'epk': <authlib.jose.rfc8037.okp_key.OKPKey object at 0x11b2fbeb0>, 'header': {'epk': {'crv': 'X25519', 'x': 'RnEowZvxhtuZrEfKLg4Ll8-Po_j7zerEkCCZj38gLC0', 'kty': 'OKP'}}, 'cek': b'E\\xc9\\xff\\xf3\\xe0\\xe6\\x04\\x86F\\x06\\x84T\\xc5\\xdc\\xf2kC\\x99\\xe1C7\\xfb\\xd8\\xf8\\x1a/\\x06W\\x12a\\\\\\xa6\\xc9\\xfe\\xa5\\x88\\xef\\xff\\x84wX\\xd6\\x0f\\xb0\\xa1\\xb8\\x964\\x9d\\xd8\\xb5\\x05\\x08\\xf4\\x15\\xba\\xe9\\xf36Q\\xb4\\xc4\\xe5\\x0e'}\n"
     ]
    }
   ],
   "source": [
    "\n",
    "holder_response_message = Message(\n",
    "    custom_headers = [{\n",
    "        \"return_route\": \"all\"}],\n",
    "    id = str(uuid.uuid4()),\n",
    "    # pthid = received_msg_decoded[\"id\"],\n",
    "    type = \"https://didcomm.org/issue-credential/3.0/propose-credential\",\n",
    "    frm = did_holder,\n",
    "    to = ['did:web:verifiable.ink'],\n",
    "    body= {}      \n",
    ")\n",
    "\n",
    "holder_packed_msg = await pack_encrypted(\n",
    "    resolvers_config = ResolversConfig(\n",
    "        secrets_resolver = secrets_resolver,\n",
    "        did_resolver = DidUniversalResolver()\n",
    "    ),\n",
    "    message = holder_response_message,\n",
    "    frm = did_holder,\n",
    "    to = 'did:web:verifiable.ink',\n",
    "    sign_frm = None,\n",
    "    pack_config = PackEncryptedConfig(protect_sender_id=False,forward=False)\n",
    ")"
   ]
  },
  {
   "cell_type": "code",
   "execution_count": 40,
   "metadata": {},
   "outputs": [
    {
     "name": "stdout",
     "output_type": "stream",
     "text": [
      "<Response [400]>\n"
     ]
    }
   ],
   "source": [
    "json.loads(holder_packed_msg.packed_msg)\n",
    "headers = {\"Content-Type\": \"application/didcomm-encrypted+json\"}\n",
    "resp = requests.post('https://verifiable.ink/didcomm/', headers=headers, json =json.loads(holder_packed_msg.packed_msg))\n",
    "print(resp)\n",
    "\n"
   ]
  },
  {
   "cell_type": "code",
   "execution_count": 31,
   "metadata": {},
   "outputs": [
    {
     "data": {
      "text/plain": [
       "{'protected': 'eyJ0eXAiOiJhcHBsaWNhdGlvbi9kaWRjb21tLWVuY3J5cHRlZCtqc29uIiwiYWxnIjoiRUNESC0xUFUrQTI1NktXIiwiZW5jIjoiQTI1NkNCQy1IUzUxMiIsImFwdSI6IlpHbGtPbkJsWlhJNk1pNUZlalpNVTJkWlZFTktZbWxJUlZsVWRuaEhiVEk0YUZKTVpsbEZkR2hrUldjMFdqWjRhMVYxT1hsMFVWSnhWRWR5TGxaNk5rMXJjbU5FVURSbU9XUmtlWGR1TVc1dFZrSkxhek5TZDFsWU5HdHdTSGRxYUdwbmVqUTVTM0pSUTFOQ2JXb3VVMlY1U25CYVEwazJTVzAxYkdSNU1YQmFRMGx6U1c1UmFVOXBTbXRpVTBselNXNU5hVTlwU205a1NGSjNZM3B2ZGt3eVZqUlpWekYzWWtkVmRWa3lPWFJKYVhkcFdWTkpObGQ1U210aFYxSnFZakl4ZEV3eldYbEpiREJ6U1c1SmFVOXNjMmxhUjJ4clQyNUNiRnBZU1RaTmFUVkdaV3BhVFZVeU5WTmhNMHB5WWpOa00xTjZSa1ZVYkZwMVdqTk9VVkl5ZEhWVVJ6bENUVlZHV0U5RlpGVlVXRmsxVW14QmVGcFlTbUZYU0ZKUlZUTm9NVXhzV2paT2F6RnlZekJOTUZsck5YRk9NbkJOWWxkd2IxbFVhRmRsVlhoMVdtMWtkV05JUm1oUlZYY3hVVmh3VDA1VmFISlNNbVJUVjFoSmVsVXdjRzlhU0c5MVZUSldOVk51UW1GUk1Hc3lVMWN3TVdKSFVqVk5XRUpoVVRCc2VsTlhOVkpoVlRsd1UyMTBhVlV3YkhwVFZ6Vk9ZVlU1Y0ZOdE9XdFRSa296V1ROd2RtUnJkM2xXYWxKYVZucEdNMWxyWkZaa1ZtdDVUMWhTU21GWVpIQlhWazVLVG14a05WTnRkR2hXTVVweFdXcEplR1JGZDNwWFdHeEtZa1JGTlVsc01Ua2pOa3hUWjFsVVEwcGlhVWhGV1ZSMmVFZHRNamhvVWt4bVdVVjBhR1JGWnpSYU5uaHJWWFU1ZVhSUlVuRlVSM0kiLCJhcHYiOiJ1LWhQbWNlNVdBbDhhUjZYQ1Y4eTBiSGpvbExuNjRGU19qWEdIT1BLZE80Iiwic2tpZCI6ImRpZDpwZWVyOjIuRXo2TFNnWVRDSmJpSEVZVHZ4R20yOGhSTGZZRXRoZEVnNFo2eGtVdTl5dFFScVRHci5WejZNa3JjRFA0ZjlkZHl3bjFubVZCS2szUndZWDRrcEh3amhqZ3o0OUtyUUNTQm1qLlNleUpwWkNJNkltNWxkeTFwWkNJc0luUWlPaUprYlNJc0luTWlPaUpvZEhSd2N6b3ZMMlY0WVcxd2JHVXVZMjl0SWl3aVlTSTZXeUprYVdSamIyMXRMM1l5SWwwc0luSWlPbHNpWkdsa09uQmxaWEk2TWk1RmVqWk1VMjVTYTNKcmIzZDNTekZFVGxadVozTlFSMnR1VEc5Qk1VRlhPRWRVVFhZNVJsQXhaWEphV0hSUVUzaDFMbFo2TmsxcmMwTTBZazVxTjJwTWJXcG9ZVGhXZVV4dVptZHVjSEZoUVV3MVFYcE9OVWhyUjJkU1dYSXpVMHBvWkhvdVUyVjVTbkJhUTBrMlNXMDFiR1I1TVhCYVEwbHpTVzVSYVU5cFNtdGlVMGx6U1c1TmFVOXBTbTlrU0ZKM1kzcHZka3d5VmpSWlZ6RjNZa2RWZFZreU9YUkphWGRwV1ZOSk5sZDVTbXRoVjFKcVlqSXhkRXd6V1hsSmJERTVJbDE5IzZMU2dZVENKYmlIRVlUdnhHbTI4aFJMZllFdGhkRWc0WjZ4a1V1OXl0UVJxVEdyIiwiZXBrIjp7ImNydiI6IlgyNTUxOSIsIngiOiJSbkVvd1p2eGh0dVpyRWZLTGc0TGw4LVBvX2o3emVyRWtDQ1pqMzhnTEMwIiwia3R5IjoiT0tQIn19',\n",
       " 'recipients': [{'header': {'kid': 'did:web:verifiable.ink#1'},\n",
       "   'encrypted_key': 'AJoFg9Dj9NJRtZyp4bwb59YVWNV8gdA9S8dwDkletGe-t8Hklwe95jdBnlCwx5ZsxUDK61mLRoEw1klYoGeDTyPkPsyRanUJ'}],\n",
       " 'iv': 'XmaQMSrSy3pj3CPD9bAhdA',\n",
       " 'ciphertext': 'tgYHyM5G-aU4Vq_aHuxmFGAn3B6X2xENBwEkPcIj_41Vyl8-AzGStiKiLAN8hMB8rCcjlqWO5uohlFW5TgkS5TgQz0-tYBX9x1tYZGGsALaOgEbegK1tKiuSjbkQwfRpBxWa_2Ajgf7rLrOYSPtdPqn8jLg16sGOc4djbhjaA7sZgjkxQpWMgCS22DiwtXlEss-ka5wtUEVsposSdIxuEr91jbqjpC-aeQctD-dD1B2Wc_SPO0hM8W_1ARArZYyRx7ON6Rw-E5PWyxJNGQ-QwNxfG7MaIWO9faWe2Co-4yTBUbotVBPEIUOX9aznaMAYD1a1QxAgigrSdHefgJJUHXUmXKVBnKsuFLU9QLuiI7w-GLSzZmLOQJZHK9WeAHLJ2B_ndp1q_ylq3s4a05LShvr2UV-FrVDAbBty4oEt4XQHGSA7AhCM-SOpMY9kT9iQZxNZoelXKbFnnKZNPSZzLsnri5HcvdNMZ0_4pniqY82HbZFa6PhFur13wcGAYHwkX1API9-jnLkg2Nitx0TrlnQq4o0sCp1S8m52mR3srDc21zrylbah-f7ivhlgQS-mGASRgIfq9juQRhQGJZywct4MvpMV6CaOsX2gPcUHHX3Bd6y6l4ax50EmzzLZSV-JgfKZJfk6BjlY3A2oMZolqF91a0bi1tQU4BkQ_0C7FsiJ1o1FJB1BZOY7LuJWJeLfwInC2dM6XGSuiL9MVVypgsamAz9aZETIiUpGjL7tPcIhJScdJGBZptU3rIJXYMn2yPEOj1abtZOxboHj_v4Mjf7J8rnzNYZ6m3tA-e58hdsBTty1NFyVwOspyrBT3CI67TEt3epLTQO96FVjM4OvHWTWiGMU31eWj6FXfd2XEsCrqxj8T_detyrx1UtEPEj4393Evf5wycMQoh-yZqNLkz7dqDcrQMJPirT3rSUobEJOTheZk_FR5auEziRbULY0h1Q2ZXZIzbv5Zly2pAqcZg',\n",
       " 'tag': 'A1qEZneEbFyhszqUVt3lKdhO5ZzOzdlvSB_d_g4SqPw'}"
      ]
     },
     "execution_count": 31,
     "metadata": {},
     "output_type": "execute_result"
    }
   ],
   "source": [
    "json.loads(holder_packed_msg.packed_msg)"
   ]
  },
  {
   "cell_type": "code",
   "execution_count": null,
   "metadata": {},
   "outputs": [],
   "source": []
  },
  {
   "cell_type": "markdown",
   "metadata": {},
   "source": [
    "### Reading issuer OOB message"
   ]
  },
  {
   "cell_type": "code",
   "execution_count": 98,
   "metadata": {},
   "outputs": [
    {
     "name": "stdout",
     "output_type": "stream",
     "text": [
      "http://127.0.0.1:8000?_oob=eyJ0eXBlIjoiaHR0cHM6Ly9kaWRjb21tLm9yZy9vdXQtb2YtYmFuZC8yLjAvaW52aXRhdGlvbiIsImlkIjoiYmJhNTY1N2QtZjNjOC00ZWU3LWIxMGEtMjU3ZmM2OTVmMDI5IiwiZnJvbSI6ImRpZDpwZWVyOjIuRXo2TFNvcmZ5SlBYcHNFQWJ2Z1Z6eVBQZ3hvYllSQUtydWk2Q1l1S3p2QzJYRWR4Ny5WejZNa3BmWHhCc3B1WnBCQWRyQ2VXTFc0a2t3aEFmeThyWHdQVjhRQzQzdERlb1dILlNleUpwWkNJNkltNWxkeTFwWkNJc0luUWlPaUprYlNJc0luTWlPaUpvZEhSd09pOHZNVEkzTGpBdU1DNHhPamd3TURBaUxDSmhJanBiSW1ScFpHTnZiVzB2ZGpJaVhYMCIsImJvZHkiOnsiZ29hbF9jb2RlIjoic3RyZWFtbGluZWQtdmMiLCJhY2NlcHQiOlsiZGlkY29tbS92MiJdLCJpc3N1ZXJfa2V5IjoiZGlkOmtleTp6Nk1rcURWWnZBaTd4ekJIYzVKcEFxREFzQ2JQd0Vra0hXeHZjbkdMaG5WMlZKZlMifX0\n"
     ]
    }
   ],
   "source": [
    "# oob_url = requests.get(\"https://mediator.rootsid.cloud/oob_url\").text\n",
    "oob_url = requests.get(\"http://127.0.0.1:8000/invitation_url\").text\n",
    "print(oob_url)"
   ]
  },
  {
   "cell_type": "code",
   "execution_count": 99,
   "metadata": {},
   "outputs": [
    {
     "name": "stdout",
     "output_type": "stream",
     "text": [
      "{'type': 'https://didcomm.org/out-of-band/2.0/invitation', 'id': 'bba5657d-f3c8-4ee7-b10a-257fc695f029', 'from': 'did:peer:2.Ez6LSorfyJPXpsEAbvgVzyPPgxobYRAKrui6CYuKzvC2XEdx7.Vz6MkpfXxBspuZpBAdrCeWLW4kkwhAfy8rXwPV8QC43tDeoWH.SeyJpZCI6Im5ldy1pZCIsInQiOiJkbSIsInMiOiJodHRwOi8vMTI3LjAuMC4xOjgwMDAiLCJhIjpbImRpZGNvbW0vdjIiXX0', 'body': {'goal_code': 'streamlined-vc', 'accept': ['didcomm/v2'], 'issuer_key': 'did:key:z6MkqDVZvAi7xzBHc5JpAqDAsCbPwEkkHWxvcnGLhnV2VJfS'}}\n"
     ]
    }
   ],
   "source": [
    "received_msg_encoded = oob_url.split(\"=\")[1]\n",
    "received_msg_decoded = json.loads(str(base64.urlsafe_b64decode(received_msg_encoded + \"==\"), \"utf-8\"))\n",
    "print(received_msg_decoded)"
   ]
  },
  {
   "cell_type": "code",
   "execution_count": 150,
   "metadata": {},
   "outputs": [
    {
     "name": "stdout",
     "output_type": "stream",
     "text": [
      "Holder's DID: did:peer:2.Ez6LSr5LPJGmUgmrGqvycAgqfeWDTp3o6ki9DqKAWZsKS5eBB.Vz6MkpfFYUQ2s2RrUtNBVAN3TBri53P8c5UUtLyNsgkmMaVMv.SeyJpZCI6Im5ldy1pZCIsInQiOiJkbSIsInMiOiJodHRwczovL3d3dy5leGFtcGxlLmNvbS9ob2xkZXIiLCJhIjpbImRpZGNvbW0vdjIiXX0\n"
     ]
    }
   ],
   "source": [
    "import didkit\n",
    "def generate_ed25519_key():\n",
    "    \"\"\" Generate Ed25519 key \"\"\"\n",
    "    jwk = didkit.generate_ed25519_key()\n",
    "    did = didkit.key_to_did(\"key\", jwk)\n",
    "    return did, jwk\n",
    "    \n",
    "holder_did = await create_peer_did(1,1, service_endpoint=\"https://www.example.com/holder\")\n",
    "print(\"Holder's DID:\", holder_did)"
   ]
  },
  {
   "cell_type": "code",
   "execution_count": 122,
   "metadata": {},
   "outputs": [
    {
     "name": "stdout",
     "output_type": "stream",
     "text": [
      "http://127.0.0.1:8000\n",
      "<Response [202]>\n"
     ]
    }
   ],
   "source": [
    "\n",
    "holder_response_message = Message(\n",
    "    custom_headers = [{\n",
    "        \"return_route\": \"all\"}],\n",
    "    id = str(uuid.uuid4()),\n",
    "    # pthid = received_msg_decoded[\"id\"],\n",
    "    type = \"https://didcomm.org/issue-credential/3.0/propose-credential\",\n",
    "    frm = holder_did,\n",
    "    to = [received_msg_decoded[\"from\"]],\n",
    "    body= {}      \n",
    ")\n",
    "\n",
    "holder_packed_msg = await pack_encrypted(\n",
    "    resolvers_config = ResolversConfig(\n",
    "        secrets_resolver = secrets_resolver,\n",
    "        did_resolver = DIDResolverPeerDID()\n",
    "    ),\n",
    "    message = holder_response_message,\n",
    "    frm = holder_did,\n",
    "    to = received_msg_decoded[\"from\"],\n",
    "    sign_frm = None,\n",
    "    pack_config = PackEncryptedConfig(protect_sender_id=False)\n",
    ")\n",
    "issuer_did_doc = json.loads(peer_did.resolve_peer_did(received_msg_decoded[\"from\"]))\n",
    "issuer_endpoint = issuer_did_doc[\"service\"][0][\"serviceEndpoint\"]\n",
    "print(issuer_endpoint)\n",
    "headers = {\"Content-Type\": \"application/didcomm-encrypted+json\"}\n",
    "resp = requests.post(issuer_endpoint, headers=headers, json =holder_packed_msg.packed_msg)\n",
    "print(resp)\n",
    "\n",
    "\n"
   ]
  },
  {
   "cell_type": "code",
   "execution_count": 124,
   "metadata": {},
   "outputs": [
    {
     "name": "stdout",
     "output_type": "stream",
     "text": [
      "{\n",
      "    \"options\": {\n",
      "        \"challenge\": \"c13abd0fe67fcd1f3513e32b1ed5ad7c721e598ea0d1b9334ffecaa8e1a2fce6\",\n",
      "        \"domain\": \"roots.id\"\n",
      "    },\n",
      "    \"credential_manifest\": {\n",
      "        \"id\": \"c001006f847f39073113b0ed862ff88c3c49669b4bbf5a30fcbec9f62d35cf98\",\n",
      "        \"version\": \"0.1.0\",\n",
      "        \"issuer\": {\n",
      "            \"id\": \"did:key:z6MkwDWXN87VCMUVwR4GuAFSpUyHuCpJD34GWF85Dhyne7rL\",\n",
      "            \"name\": \"Roots ID Issuer\"\n",
      "        },\n",
      "        \"format\": {\n",
      "            \"ldp_vc\": {\n",
      "                \"proof_type\": [\n",
      "                    \"Ed25519Signature2018\"\n",
      "                ]\n",
      "            }\n",
      "        },\n",
      "        \"output_descriptors\": [\n",
      "            {\n",
      "                \"id\": \"c00200131bb229a058775ebe3134286b577210e7a90d2b44d29d2f603b744bdd\",\n",
      "                \"schema\": \"https://purl.imsglobal.org/spec/ob/v3p0/vocab.html#OpenBadgeCredential\"\n",
      "            }\n",
      "        ],\n",
      "        \"presentation_definition\": {\n",
      "            \"id\": \"c00400f85e0aae79eb62b099a4aab4eb54cc99df6ca444b83a6fb04c580c3380\",\n",
      "            \"input_descriptors\": [\n",
      "                {\n",
      "                    \"id\": \"c0070016b96e89a02934d4a35b81c0890dd49cb6bc2cb1db32bcf705f5be7b98\",\n",
      "                    \"name\": \"DID Authentication\",\n",
      "                    \"purpose\": \"We need to verify you control this DID.\",\n",
      "                    \"constraints\": {\n",
      "                        \"fields\": [\n",
      "                            {\n",
      "                                \"path\": [\n",
      "                                    \"$.proof.challenge\"\n",
      "                                ],\n",
      "                                \"filter\": {\n",
      "                                    \"type\": \"string\",\n",
      "                                    \"const\": \"c13abd0fe67fcd1f3513e32b1ed5ad7c721e598ea0d1b9334ffecaa8e1a2fce6\"\n",
      "                                }\n",
      "                            }\n",
      "                        ]\n",
      "                    }\n",
      "                }\n",
      "            ]\n",
      "        }\n",
      "    }\n",
      "}\n"
     ]
    }
   ],
   "source": [
    "credential_unpack_msg = await unpack(\n",
    "    resolvers_config=ResolversConfig(\n",
    "        secrets_resolver=secrets_resolver,\n",
    "        did_resolver=DIDResolverPeerDID()\n",
    "    ),\n",
    "    packed_msg= resp.json()\n",
    ")\n",
    "print(json.dumps(credential_unpack_msg.message.attachments[0].data.json, indent=4))"
   ]
  },
  {
   "cell_type": "markdown",
   "metadata": {},
   "source": [
    "## Prepare request-credential"
   ]
  },
  {
   "cell_type": "markdown",
   "metadata": {},
   "source": [
    "The holder needs to create a did:peer to communicate with the issuer:"
   ]
  },
  {
   "cell_type": "code",
   "execution_count": 103,
   "metadata": {},
   "outputs": [
    {
     "name": "stdout",
     "output_type": "stream",
     "text": [
      "Holder's DID: did:peer:2.Ez6LSff5cxwvPXYvfP9KxtXx3tuikxBt9yRzZcfWKskPFyzEs.Vz6MkmFC5xTHkGEnjx9sK8Pz1fz5kvwjyrsV9QmaVKcNXQSFr.SeyJpZCI6Im5ldy1pZCIsInQiOiJkbSIsInMiOiJodHRwczovL3d3dy5leGFtcGxlLmNvbS9ob2xkZXIiLCJhIjpbImRpZGNvbW0vdjIiXX0\n"
     ]
    }
   ],
   "source": [
    "holder_did = await create_peer_did(1,1, service_endpoint=\"https://www.example.com/holder\")\n",
    "print(\"Holder's DID:\", holder_did)"
   ]
  },
  {
   "cell_type": "markdown",
   "metadata": {},
   "source": [
    "The following is a JSON-LD credential request that the holder will submmit to the issuer."
   ]
  },
  {
   "cell_type": "code",
   "execution_count": 104,
   "metadata": {},
   "outputs": [],
   "source": [
    "credential_request = {\n",
    "    \"credential\": {\n",
    "        \"@context\": \n",
    "        [\n",
    "            \"https://www.w3.org/2018/credentials/v1\",\n",
    "            \"https://w3c-ccg.github.io/vc-ed/plugfest-1-2022/jff-vc-edu-plugfest-1-context.json\"\n",
    "        ],\n",
    "        \"id\": str(uuid.uuid4()),\n",
    "        \"type\": [\"VerifiableCredential\", \"OpenBadgeCredential\"],\n",
    "        \"issuer\": {'id': received_msg_decoded['body']['issuer_key']},\n",
    "        \"issuanceDate\": datetime.datetime.now().strftime(\"%Y-%m-%dT%H:%M:%SZ\"),\n",
    "          \"credentialSubject\": {\n",
    "            \"type\": \"AchievementSubject\",\n",
    "            \"id\": holder_did,\n",
    "            \"achievement\": {\n",
    "              \"type\": \"Achievement\",\n",
    "              \"name\": \"IIW 2022 DEMO\",\n",
    "              \"description\": \"This wallet can display this Open Badge 3.0\",\n",
    "              \"criteria\": {\n",
    "                \"type\": \"Criteria\",\n",
    "                \"narrative\": \"The first cohort of the JFF Plugfest 1 in May/June of 2021 collaborated to push interoperability of VCs in education forward.\"\n",
    "              },\n",
    "              \"image\": \"https://w3c-ccg.github.io/vc-ed/plugfest-1-2022/images/plugfest-1-badge-image.png\"\n",
    "            }\n",
    "          },\n",
    "        \"options\": {\n",
    "            \"proofType\": \"Ed25519Signature2018\"\n",
    "        }\n",
    "    }\n",
    "}"
   ]
  },
  {
   "cell_type": "code",
   "execution_count": 111,
   "metadata": {},
   "outputs": [],
   "source": [
    "cred = {'credential':{\n",
    "    \"@context\": [\n",
    "        \"https://www.w3.org/2018/credentials/v1\",\n",
    "        # \"https://w3c-ccg.github.io/vc-ed/plugfest-1-2022/jff-vc-edu-plugfest-1-context.json\"\n",
    "    ],\n",
    "    \"id\": \"http://example.org/credentials/3731\",\n",
    "    \"type\": [\"VerifiableCredential\"],\n",
    "    \"issuer\": received_msg_decoded['body']['issuer_key'],\n",
    "    \"issuanceDate\": \"2020-08-19T21:41:50Z\",\n",
    "    \"credentialSubject\": {\n",
    "        \"id\": \"did:example:d23dd687a7dc6787646f2eb98d0\",\n",
    "    },\n",
    "\n",
    "        \"options\": {\n",
    "            \"proofType\": \"Ed25519Signature2018\"\n",
    "        }\n",
    "}\n",
    "\n",
    "}"
   ]
  },
  {
   "cell_type": "markdown",
   "metadata": {},
   "source": [
    "Finally the holder prepares the didcomm message following issue-credential/3.0 protocol:"
   ]
  },
  {
   "cell_type": "code",
   "execution_count": 112,
   "metadata": {},
   "outputs": [],
   "source": [
    "\n",
    "holder_response_message = Message(\n",
    "    custom_headers = [{\n",
    "        \"return_route\": \"all\"}],\n",
    "    id = str(uuid.uuid4()),\n",
    "    #pthid = received_msg_decoded[\"id\"],\n",
    "    type = \"https://didcomm.org/issue-credential/3.0/request-credential\",\n",
    "    frm = holder_did,\n",
    "    to = [received_msg_decoded[\"from\"]],\n",
    "    body = {\n",
    "        \"goal_code\": \"issue-credential\",\n",
    "        \"comment\": \"some comment\"\n",
    "    },\n",
    "    attachments = [\n",
    "        Attachment(\n",
    "                id=str(uuid.uuid4()),\n",
    "                media_type= \"application/json\",\n",
    "                format= \"aries/ld-proof-vc-detail@v1.0\",\n",
    "                data=AttachmentDataJson(json=cred)\n",
    "                )\n",
    "    ]\n",
    "                        \n",
    ")"
   ]
  },
  {
   "cell_type": "code",
   "execution_count": 113,
   "metadata": {},
   "outputs": [],
   "source": [
    "holder_packed_msg = await pack_encrypted(\n",
    "    resolvers_config = ResolversConfig(\n",
    "        secrets_resolver = secrets_resolver,\n",
    "        did_resolver = DIDResolverPeerDID()\n",
    "    ),\n",
    "    message = holder_response_message,\n",
    "    frm = holder_did,\n",
    "    to = received_msg_decoded[\"from\"],\n",
    "    sign_frm = None,\n",
    "    pack_config = PackEncryptedConfig(protect_sender_id=False)\n",
    ")"
   ]
  },
  {
   "cell_type": "markdown",
   "metadata": {},
   "source": [
    "### Sending the message to Mediator"
   ]
  },
  {
   "cell_type": "code",
   "execution_count": 114,
   "metadata": {},
   "outputs": [
    {
     "name": "stdout",
     "output_type": "stream",
     "text": [
      "http://127.0.0.1:8000\n",
      "<Response [500]>\n"
     ]
    }
   ],
   "source": [
    "\n",
    "issuer_did_doc = json.loads(peer_did.resolve_peer_did(received_msg_decoded[\"from\"]))\n",
    "issuer_endpoint = issuer_did_doc[\"service\"][0][\"serviceEndpoint\"]\n",
    "print(issuer_endpoint)\n",
    "headers = {\"Content-Type\": \"application/didcomm-encrypted+json\"}\n",
    "resp = requests.post(issuer_endpoint, headers=headers, json = json.loads(holder_packed_msg.packed_msg))\n",
    "print(resp)\n"
   ]
  },
  {
   "cell_type": "markdown",
   "metadata": {},
   "source": [
    "### Issued Verifiable Credential Received"
   ]
  },
  {
   "cell_type": "code",
   "execution_count": 109,
   "metadata": {},
   "outputs": [
    {
     "ename": "JSONDecodeError",
     "evalue": "Expecting value: line 1 column 1 (char 0)",
     "output_type": "error",
     "traceback": [
      "\u001b[0;31m---------------------------------------------------------------------------\u001b[0m",
      "\u001b[0;31mJSONDecodeError\u001b[0m                           Traceback (most recent call last)",
      "Cell \u001b[0;32mIn [109], line 6\u001b[0m\n\u001b[1;32m      1\u001b[0m credential_unpack_msg \u001b[39m=\u001b[39m \u001b[39mawait\u001b[39;00m unpack(\n\u001b[1;32m      2\u001b[0m     resolvers_config\u001b[39m=\u001b[39mResolversConfig(\n\u001b[1;32m      3\u001b[0m         secrets_resolver\u001b[39m=\u001b[39msecrets_resolver,\n\u001b[1;32m      4\u001b[0m         did_resolver\u001b[39m=\u001b[39mDIDResolverPeerDID()\n\u001b[1;32m      5\u001b[0m     ),\n\u001b[0;32m----> 6\u001b[0m     packed_msg\u001b[39m=\u001b[39m resp\u001b[39m.\u001b[39mjson()\n\u001b[1;32m      7\u001b[0m )\n",
      "File \u001b[0;32m/usr/local/lib/python3.8/site-packages/requests/models.py:900\u001b[0m, in \u001b[0;36mResponse.json\u001b[0;34m(self, **kwargs)\u001b[0m\n\u001b[1;32m    894\u001b[0m         \u001b[39mexcept\u001b[39;00m \u001b[39mUnicodeDecodeError\u001b[39;00m:\n\u001b[1;32m    895\u001b[0m             \u001b[39m# Wrong UTF codec detected; usually because it's not UTF-8\u001b[39;00m\n\u001b[1;32m    896\u001b[0m             \u001b[39m# but some other 8-bit codec.  This is an RFC violation,\u001b[39;00m\n\u001b[1;32m    897\u001b[0m             \u001b[39m# and the server didn't bother to tell us what codec *was*\u001b[39;00m\n\u001b[1;32m    898\u001b[0m             \u001b[39m# used.\u001b[39;00m\n\u001b[1;32m    899\u001b[0m             \u001b[39mpass\u001b[39;00m\n\u001b[0;32m--> 900\u001b[0m \u001b[39mreturn\u001b[39;00m complexjson\u001b[39m.\u001b[39;49mloads(\u001b[39mself\u001b[39;49m\u001b[39m.\u001b[39;49mtext, \u001b[39m*\u001b[39;49m\u001b[39m*\u001b[39;49mkwargs)\n",
      "File \u001b[0;32m/usr/local/lib/python3.8/site-packages/simplejson/__init__.py:525\u001b[0m, in \u001b[0;36mloads\u001b[0;34m(s, encoding, cls, object_hook, parse_float, parse_int, parse_constant, object_pairs_hook, use_decimal, **kw)\u001b[0m\n\u001b[1;32m    477\u001b[0m \u001b[39m\"\"\"Deserialize ``s`` (a ``str`` or ``unicode`` instance containing a JSON\u001b[39;00m\n\u001b[1;32m    478\u001b[0m \u001b[39mdocument) to a Python object.\u001b[39;00m\n\u001b[1;32m    479\u001b[0m \n\u001b[0;32m   (...)\u001b[0m\n\u001b[1;32m    519\u001b[0m \n\u001b[1;32m    520\u001b[0m \u001b[39m\"\"\"\u001b[39;00m\n\u001b[1;32m    521\u001b[0m \u001b[39mif\u001b[39;00m (\u001b[39mcls\u001b[39m \u001b[39mis\u001b[39;00m \u001b[39mNone\u001b[39;00m \u001b[39mand\u001b[39;00m encoding \u001b[39mis\u001b[39;00m \u001b[39mNone\u001b[39;00m \u001b[39mand\u001b[39;00m object_hook \u001b[39mis\u001b[39;00m \u001b[39mNone\u001b[39;00m \u001b[39mand\u001b[39;00m\n\u001b[1;32m    522\u001b[0m         parse_int \u001b[39mis\u001b[39;00m \u001b[39mNone\u001b[39;00m \u001b[39mand\u001b[39;00m parse_float \u001b[39mis\u001b[39;00m \u001b[39mNone\u001b[39;00m \u001b[39mand\u001b[39;00m\n\u001b[1;32m    523\u001b[0m         parse_constant \u001b[39mis\u001b[39;00m \u001b[39mNone\u001b[39;00m \u001b[39mand\u001b[39;00m object_pairs_hook \u001b[39mis\u001b[39;00m \u001b[39mNone\u001b[39;00m\n\u001b[1;32m    524\u001b[0m         \u001b[39mand\u001b[39;00m \u001b[39mnot\u001b[39;00m use_decimal \u001b[39mand\u001b[39;00m \u001b[39mnot\u001b[39;00m kw):\n\u001b[0;32m--> 525\u001b[0m     \u001b[39mreturn\u001b[39;00m _default_decoder\u001b[39m.\u001b[39;49mdecode(s)\n\u001b[1;32m    526\u001b[0m \u001b[39mif\u001b[39;00m \u001b[39mcls\u001b[39m \u001b[39mis\u001b[39;00m \u001b[39mNone\u001b[39;00m:\n\u001b[1;32m    527\u001b[0m     \u001b[39mcls\u001b[39m \u001b[39m=\u001b[39m JSONDecoder\n",
      "File \u001b[0;32m/usr/local/lib/python3.8/site-packages/simplejson/decoder.py:370\u001b[0m, in \u001b[0;36mJSONDecoder.decode\u001b[0;34m(self, s, _w, _PY3)\u001b[0m\n\u001b[1;32m    368\u001b[0m \u001b[39mif\u001b[39;00m _PY3 \u001b[39mand\u001b[39;00m \u001b[39misinstance\u001b[39m(s, \u001b[39mbytes\u001b[39m):\n\u001b[1;32m    369\u001b[0m     s \u001b[39m=\u001b[39m \u001b[39mstr\u001b[39m(s, \u001b[39mself\u001b[39m\u001b[39m.\u001b[39mencoding)\n\u001b[0;32m--> 370\u001b[0m obj, end \u001b[39m=\u001b[39m \u001b[39mself\u001b[39;49m\u001b[39m.\u001b[39;49mraw_decode(s)\n\u001b[1;32m    371\u001b[0m end \u001b[39m=\u001b[39m _w(s, end)\u001b[39m.\u001b[39mend()\n\u001b[1;32m    372\u001b[0m \u001b[39mif\u001b[39;00m end \u001b[39m!=\u001b[39m \u001b[39mlen\u001b[39m(s):\n",
      "File \u001b[0;32m/usr/local/lib/python3.8/site-packages/simplejson/decoder.py:400\u001b[0m, in \u001b[0;36mJSONDecoder.raw_decode\u001b[0;34m(self, s, idx, _w, _PY3)\u001b[0m\n\u001b[1;32m    398\u001b[0m     \u001b[39melif\u001b[39;00m ord0 \u001b[39m==\u001b[39m \u001b[39m0xef\u001b[39m \u001b[39mand\u001b[39;00m s[idx:idx \u001b[39m+\u001b[39m \u001b[39m3\u001b[39m] \u001b[39m==\u001b[39m \u001b[39m'\u001b[39m\u001b[39m\\xef\u001b[39;00m\u001b[39m\\xbb\u001b[39;00m\u001b[39m\\xbf\u001b[39;00m\u001b[39m'\u001b[39m:\n\u001b[1;32m    399\u001b[0m         idx \u001b[39m+\u001b[39m\u001b[39m=\u001b[39m \u001b[39m3\u001b[39m\n\u001b[0;32m--> 400\u001b[0m \u001b[39mreturn\u001b[39;00m \u001b[39mself\u001b[39;49m\u001b[39m.\u001b[39;49mscan_once(s, idx\u001b[39m=\u001b[39;49m_w(s, idx)\u001b[39m.\u001b[39;49mend())\n",
      "\u001b[0;31mJSONDecodeError\u001b[0m: Expecting value: line 1 column 1 (char 0)"
     ]
    }
   ],
   "source": [
    "credential_unpack_msg = await unpack(\n",
    "    resolvers_config=ResolversConfig(\n",
    "        secrets_resolver=secrets_resolver,\n",
    "        did_resolver=DIDResolverPeerDID()\n",
    "    ),\n",
    "    packed_msg= resp.json()\n",
    ")"
   ]
  },
  {
   "cell_type": "code",
   "execution_count": 246,
   "metadata": {},
   "outputs": [
    {
     "name": "stdout",
     "output_type": "stream",
     "text": [
      "UnpackResult(message=Message(id='b521167b-d9b5-48c7-b377-0cbf80240581', type='https://didcomm.org/issue-credential/3.0/issue-credential', body={'goal_code': 'issue-credential', 'comment': 'some comment'}, frm=None, to=None, created_time=None, expires_time=None, from_prior=None, please_ack=None, ack=None, thid=None, pthid=None, attachments=[Attachment(data=AttachmentDataJson(json='{\"@context\":\"https://www.w3.org/2018/credentials/v1\",\"id\":\"http://example.org/credentials/3731\",\"type\":[\"VerifiableCredential\"],\"credentialSubject\":{\"id\":\"did:example:d23dd687a7dc6787646f2eb98d0\"},\"issuer\":\"did:key:z6MkkdLPuLhUz77kYQM6sRNSD9a5qqHW8WRcssSAWoquPRKD\",\"issuanceDate\":\"2020-08-19T21:41:50Z\",\"proof\":{\"type\":\"Ed25519Signature2018\",\"proofPurpose\":\"assertionMethod\",\"verificationMethod\":\"did:key:z6MkkdLPuLhUz77kYQM6sRNSD9a5qqHW8WRcssSAWoquPRKD#z6MkkdLPuLhUz77kYQM6sRNSD9a5qqHW8WRcssSAWoquPRKD\",\"created\":\"2022-11-02T18:46:30.247Z\",\"jws\":\"eyJhbGciOiJFZERTQSIsImNyaXQiOlsiYjY0Il0sImI2NCI6ZmFsc2V9..KvNTOJ8eL_0lZ_a8xcEOTXpMiqH6aaMz5tsRM5t3B7QrAT6Hq3sVELCy7RGicpgRhsdDippMLFZUrhVXWRAtDw\"}}', hash=None, jws=None), id='074881bc-a343-470c-8628-6256a72e212e', description=None, filename=None, media_type='application/json', format='aries/ld-proof-vc-detail@v1.0', lastmod_time=None, byte_count=None)], custom_headers=None), metadata=Metadata(encrypted=True, authenticated=True, non_repudiation=False, anonymous_sender=False, re_wrapped_in_forward=False, encrypted_from='did:peer:2.Ez6LSjQuRP4gbsEnxTLPDKpkL6uoq1d5FNPMyWiUHxLdEU65T.Vz6MkeaaNHmwpyEQ7viRt6JDNkVbB89R3BrpszUxgRZBswbfb.SeyJpZCI6Im5ldy1pZCIsInQiOiJkbSIsInMiOiJodHRwOi8vMTI3LjAuMC4xOjgwMDAiLCJhIjpbImRpZGNvbW0vdjIiXX0#6LSjQuRP4gbsEnxTLPDKpkL6uoq1d5FNPMyWiUHxLdEU65T', encrypted_to=['did:peer:2.Ez6LSfr9v17np5MmAG1HEcYYa6ZkEDzHcMTMA5PMmvZSUxYnt.Vz6MkifJm8vU1tguc7rLZH4mWSGUnCEgyAcdi21sEMh9kzpj2.SeyJpZCI6Im5ldy1pZCIsInQiOiJkbSIsInMiOiJodHRwczovL3d3dy5leGFtcGxlLmNvbS9ob2xkZXIiLCJhIjpbImRpZGNvbW0vdjIiXX0#6LSfr9v17np5MmAG1HEcYYa6ZkEDzHcMTMA5PMmvZSUxYnt'], sign_from=None, from_prior_issuer_kid=None, enc_alg_auth=<AuthCryptAlg.A256CBC_HS512_ECDH_1PU_A256KW: Algs(alg='ECDH-1PU+A256KW', enc='A256CBC-HS512')>, enc_alg_anon=None, sign_alg=None, signed_message=None, from_prior_jwt=None))\n"
     ]
    }
   ],
   "source": [
    "print(credential_unpack_msg)"
   ]
  },
  {
   "cell_type": "code",
   "execution_count": 247,
   "metadata": {},
   "outputs": [
    {
     "name": "stdout",
     "output_type": "stream",
     "text": [
      "\"{\\\"@context\\\":\\\"https://www.w3.org/2018/credentials/v1\\\",\\\"id\\\":\\\"http://example.org/credentials/3731\\\",\\\"type\\\":[\\\"VerifiableCredential\\\"],\\\"credentialSubject\\\":{\\\"id\\\":\\\"did:example:d23dd687a7dc6787646f2eb98d0\\\"},\\\"issuer\\\":\\\"did:key:z6MkkdLPuLhUz77kYQM6sRNSD9a5qqHW8WRcssSAWoquPRKD\\\",\\\"issuanceDate\\\":\\\"2020-08-19T21:41:50Z\\\",\\\"proof\\\":{\\\"type\\\":\\\"Ed25519Signature2018\\\",\\\"proofPurpose\\\":\\\"assertionMethod\\\",\\\"verificationMethod\\\":\\\"did:key:z6MkkdLPuLhUz77kYQM6sRNSD9a5qqHW8WRcssSAWoquPRKD#z6MkkdLPuLhUz77kYQM6sRNSD9a5qqHW8WRcssSAWoquPRKD\\\",\\\"created\\\":\\\"2022-11-02T18:46:30.247Z\\\",\\\"jws\\\":\\\"eyJhbGciOiJFZERTQSIsImNyaXQiOlsiYjY0Il0sImI2NCI6ZmFsc2V9..KvNTOJ8eL_0lZ_a8xcEOTXpMiqH6aaMz5tsRM5t3B7QrAT6Hq3sVELCy7RGicpgRhsdDippMLFZUrhVXWRAtDw\\\"}}\"\n"
     ]
    }
   ],
   "source": [
    "print(json.dumps(credential_unpack_msg.message.attachments[0].data.json, indent=4))"
   ]
  },
  {
   "cell_type": "code",
   "execution_count": 250,
   "metadata": {},
   "outputs": [
    {
     "data": {
      "text/plain": [
       "{'@context': 'https://www.w3.org/2018/credentials/v1',\n",
       " 'id': 'http://example.org/credentials/3731',\n",
       " 'type': ['VerifiableCredential'],\n",
       " 'credentialSubject': {'id': 'did:example:d23dd687a7dc6787646f2eb98d0'},\n",
       " 'issuer': 'did:key:z6MkkdLPuLhUz77kYQM6sRNSD9a5qqHW8WRcssSAWoquPRKD',\n",
       " 'issuanceDate': '2020-08-19T21:41:50Z',\n",
       " 'proof': {'type': 'Ed25519Signature2018',\n",
       "  'proofPurpose': 'assertionMethod',\n",
       "  'verificationMethod': 'did:key:z6MkkdLPuLhUz77kYQM6sRNSD9a5qqHW8WRcssSAWoquPRKD#z6MkkdLPuLhUz77kYQM6sRNSD9a5qqHW8WRcssSAWoquPRKD',\n",
       "  'created': '2022-11-02T18:46:30.247Z',\n",
       "  'jws': 'eyJhbGciOiJFZERTQSIsImNyaXQiOlsiYjY0Il0sImI2NCI6ZmFsc2V9..KvNTOJ8eL_0lZ_a8xcEOTXpMiqH6aaMz5tsRM5t3B7QrAT6Hq3sVELCy7RGicpgRhsdDippMLFZUrhVXWRAtDw'}}"
      ]
     },
     "execution_count": 250,
     "metadata": {},
     "output_type": "execute_result"
    }
   ],
   "source": [
    "json.loads(credential_unpack_msg.message.attachments[0].data.json)"
   ]
  },
  {
   "cell_type": "code",
   "execution_count": 41,
   "metadata": {},
   "outputs": [
    {
     "name": "stdout",
     "output_type": "stream",
     "text": [
      "Collecting aries-cloudagent\n",
      "  Downloading aries_cloudagent-0.7.5-py3-none-any.whl (1.7 MB)\n",
      "\u001b[K     |████████████████████████████████| 1.7 MB 2.0 MB/s eta 0:00:01\n",
      "\u001b[?25hRequirement already satisfied: markupsafe==2.0.1 in /usr/local/lib/python3.8/site-packages (from aries-cloudagent) (2.0.1)\n",
      "Requirement already satisfied: async-timeout~=4.0.2 in /usr/local/lib/python3.8/site-packages (from aries-cloudagent) (4.0.2)\n",
      "Requirement already satisfied: requests~=2.25.0 in /usr/local/lib/python3.8/site-packages (from aries-cloudagent) (2.25.1)\n",
      "Requirement already satisfied: pydid~=0.3.3 in /usr/local/lib/python3.8/site-packages (from aries-cloudagent) (0.3.3)\n",
      "Requirement already satisfied: aiohttp-cors~=0.7.0 in /usr/local/lib/python3.8/site-packages (from aries-cloudagent) (0.7.0)\n",
      "Requirement already satisfied: aiohttp~=3.8.1 in /usr/local/lib/python3.8/site-packages (from aries-cloudagent) (3.8.1)\n",
      "Requirement already satisfied: rlp==0.5.1 in /usr/local/lib/python3.8/site-packages (from aries-cloudagent) (0.5.1)\n",
      "Requirement already satisfied: ecdsa~=0.16.1 in /usr/local/lib/python3.8/site-packages (from aries-cloudagent) (0.16.1)\n",
      "Requirement already satisfied: pyld~=2.0.3 in /usr/local/lib/python3.8/site-packages (from aries-cloudagent) (2.0.3)\n",
      "Requirement already satisfied: Markdown~=3.1.1 in /usr/local/lib/python3.8/site-packages (from aries-cloudagent) (3.1.1)\n",
      "Requirement already satisfied: pyyaml~=5.4.0 in /usr/local/lib/python3.8/site-packages (from aries-cloudagent) (5.4.1)\n",
      "Requirement already satisfied: base58~=2.1.0 in /usr/local/lib/python3.8/site-packages (from aries-cloudagent) (2.1.1)\n",
      "Requirement already satisfied: ConfigArgParse~=1.5.3 in /usr/local/lib/python3.8/site-packages (from aries-cloudagent) (1.5.3)\n",
      "Requirement already satisfied: unflatten~=0.1 in /usr/local/lib/python3.8/site-packages (from aries-cloudagent) (0.1.1)\n",
      "Requirement already satisfied: qrcode[pil]~=6.1 in /usr/local/lib/python3.8/site-packages (from aries-cloudagent) (6.1)\n",
      "Requirement already satisfied: aiohttp-apispec~=2.2.1 in /usr/local/lib/python3.8/site-packages (from aries-cloudagent) (2.2.3)\n",
      "Requirement already satisfied: marshmallow==3.5.1 in /usr/local/lib/python3.8/site-packages (from aries-cloudagent) (3.5.1)\n",
      "Requirement already satisfied: msgpack~=1.0 in /usr/local/lib/python3.8/site-packages (from aries-cloudagent) (1.0.4)\n",
      "Collecting pyjwt~=2.4.0\n",
      "  Using cached PyJWT-2.4.0-py3-none-any.whl (18 kB)\n",
      "Requirement already satisfied: pynacl~=1.4.0 in /usr/local/lib/python3.8/site-packages (from aries-cloudagent) (1.4.0)\n",
      "Collecting packaging~=20.4\n",
      "  Downloading packaging-20.9-py2.py3-none-any.whl (40 kB)\n",
      "\u001b[K     |████████████████████████████████| 40 kB 16.5 MB/s eta 0:00:01\n",
      "\u001b[?25hRequirement already satisfied: pytz~=2021.1 in /usr/local/lib/python3.8/site-packages (from aries-cloudagent) (2021.3)\n",
      "Requirement already satisfied: python-dateutil~=2.8.1 in /Users/alex/Library/Python/3.8/lib/python/site-packages (from aries-cloudagent) (2.8.2)\n",
      "Requirement already satisfied: apispec~=3.3.0 in /usr/local/lib/python3.8/site-packages (from aries-cloudagent) (3.3.2)\n",
      "Collecting prompt-toolkit~=2.0.9\n",
      "  Using cached prompt_toolkit-2.0.10-py3-none-any.whl (340 kB)\n",
      "Requirement already satisfied: deepmerge~=0.3.0 in /usr/local/lib/python3.8/site-packages (from aries-cloudagent) (0.3.0)\n",
      "Requirement already satisfied: jsonpath-ng==1.5.2 in /usr/local/lib/python3.8/site-packages (from aries-cloudagent) (1.5.2)\n",
      "Requirement already satisfied: nest-asyncio~=1.5.5 in /Users/alex/Library/Python/3.8/lib/python/site-packages (from aries-cloudagent) (1.5.5)\n",
      "Requirement already satisfied: aioredis~=2.0.0 in /usr/local/lib/python3.8/site-packages (from aries-cloudagent) (2.0.1)\n",
      "Requirement already satisfied: six in /usr/local/lib/python3.8/site-packages (from jsonpath-ng==1.5.2->aries-cloudagent) (1.16.0)\n",
      "Requirement already satisfied: ply in /usr/local/lib/python3.8/site-packages (from jsonpath-ng==1.5.2->aries-cloudagent) (3.11)\n",
      "Requirement already satisfied: decorator in /Users/alex/Library/Python/3.8/lib/python/site-packages (from jsonpath-ng==1.5.2->aries-cloudagent) (5.1.1)\n",
      "Requirement already satisfied: aiosignal>=1.1.2 in /usr/local/lib/python3.8/site-packages (from aiohttp~=3.8.1->aries-cloudagent) (1.2.0)\n",
      "Requirement already satisfied: yarl<2.0,>=1.0 in /usr/local/lib/python3.8/site-packages (from aiohttp~=3.8.1->aries-cloudagent) (1.7.2)\n",
      "Requirement already satisfied: charset-normalizer<3.0,>=2.0 in /usr/local/lib/python3.8/site-packages (from aiohttp~=3.8.1->aries-cloudagent) (2.0.12)\n",
      "Requirement already satisfied: frozenlist>=1.1.1 in /usr/local/lib/python3.8/site-packages (from aiohttp~=3.8.1->aries-cloudagent) (1.3.0)\n",
      "Requirement already satisfied: multidict<7.0,>=4.5 in /usr/local/lib/python3.8/site-packages (from aiohttp~=3.8.1->aries-cloudagent) (6.0.2)\n",
      "Requirement already satisfied: attrs>=17.3.0 in /usr/local/lib/python3.8/site-packages (from aiohttp~=3.8.1->aries-cloudagent) (21.4.0)\n",
      "Requirement already satisfied: jinja2 in /usr/local/lib/python3.8/site-packages (from aiohttp-apispec~=2.2.1->aries-cloudagent) (3.1.2)\n",
      "Requirement already satisfied: webargs<6.0 in /usr/local/lib/python3.8/site-packages (from aiohttp-apispec~=2.2.1->aries-cloudagent) (5.5.3)\n",
      "Requirement already satisfied: typing-extensions in /usr/local/lib/python3.8/site-packages (from aioredis~=2.0.0->aries-cloudagent) (3.10.0.2)\n",
      "Requirement already satisfied: setuptools>=36 in /Users/alex/Library/Python/3.8/lib/python/site-packages (from Markdown~=3.1.1->aries-cloudagent) (65.3.0)\n",
      "Requirement already satisfied: pyparsing>=2.0.2 in /Users/alex/Library/Python/3.8/lib/python/site-packages (from packaging~=20.4->aries-cloudagent) (3.0.9)\n",
      "Requirement already satisfied: wcwidth in /Users/alex/Library/Python/3.8/lib/python/site-packages (from prompt-toolkit~=2.0.9->aries-cloudagent) (0.2.5)\n",
      "Requirement already satisfied: pydantic<2.0.0,>=1.8.1 in /usr/local/lib/python3.8/site-packages (from pydid~=0.3.3->aries-cloudagent) (1.9.0)\n",
      "Requirement already satisfied: inflection<0.6.0,>=0.5.1 in /usr/local/lib/python3.8/site-packages (from pydid~=0.3.3->aries-cloudagent) (0.5.1)\n",
      "Requirement already satisfied: frozendict in /usr/local/lib/python3.8/site-packages (from pyld~=2.0.3->aries-cloudagent) (2.3.2)\n",
      "Requirement already satisfied: cachetools in /usr/local/lib/python3.8/site-packages (from pyld~=2.0.3->aries-cloudagent) (5.0.0)\n",
      "Requirement already satisfied: lxml in /usr/local/lib/python3.8/site-packages (from pyld~=2.0.3->aries-cloudagent) (4.8.0)\n",
      "Requirement already satisfied: cffi>=1.4.1 in /usr/local/lib/python3.8/site-packages (from pynacl~=1.4.0->aries-cloudagent) (1.15.0)\n",
      "Requirement already satisfied: pycparser in /usr/local/lib/python3.8/site-packages (from cffi>=1.4.1->pynacl~=1.4.0->aries-cloudagent) (2.21)\n",
      "Requirement already satisfied: pillow in /usr/local/lib/python3.8/site-packages (from qrcode[pil]~=6.1->aries-cloudagent) (9.1.0)\n",
      "Requirement already satisfied: certifi>=2017.4.17 in /usr/local/lib/python3.8/site-packages (from requests~=2.25.0->aries-cloudagent) (2021.10.8)\n",
      "Requirement already satisfied: idna<3,>=2.5 in /usr/local/lib/python3.8/site-packages (from requests~=2.25.0->aries-cloudagent) (2.10)\n",
      "Requirement already satisfied: urllib3<1.27,>=1.21.1 in /usr/local/lib/python3.8/site-packages (from requests~=2.25.0->aries-cloudagent) (1.26.9)\n",
      "Requirement already satisfied: chardet<5,>=3.0.2 in /usr/local/lib/python3.8/site-packages (from requests~=2.25.0->aries-cloudagent) (4.0.0)\n",
      "Installing collected packages: pyjwt, prompt-toolkit, packaging, aries-cloudagent\n",
      "  Attempting uninstall: pyjwt\n",
      "    Found existing installation: PyJWT 1.7.1\n",
      "    Uninstalling PyJWT-1.7.1:\n",
      "      Successfully uninstalled PyJWT-1.7.1\n",
      "  Attempting uninstall: prompt-toolkit\n",
      "    Found existing installation: prompt-toolkit 3.0.31\n",
      "    Uninstalling prompt-toolkit-3.0.31:\n",
      "      Successfully uninstalled prompt-toolkit-3.0.31\n",
      "  Attempting uninstall: packaging\n",
      "    Found existing installation: packaging 21.3\n",
      "    Uninstalling packaging-21.3:\n",
      "      Successfully uninstalled packaging-21.3\n",
      "\u001b[31mERROR: pip's dependency resolver does not currently take into account all the packages that are installed. This behaviour is the source of the following dependency conflicts.\n",
      "ipython 8.5.0 requires prompt-toolkit<3.1.0,>3.0.1, but you have prompt-toolkit 2.0.10 which is incompatible.\n",
      "didcomm 0.3.0 requires packaging~=21.0, but you have packaging 20.9 which is incompatible.\u001b[0m\n",
      "Successfully installed aries-cloudagent-0.7.5 packaging-20.9 prompt-toolkit-2.0.10 pyjwt-2.4.0\n"
     ]
    }
   ],
   "source": [
    "!pip3 install aries-cloudagent"
   ]
  },
  {
   "cell_type": "code",
   "execution_count": 35,
   "metadata": {},
   "outputs": [
    {
     "data": {
      "text/plain": [
       "'didkit'"
      ]
     },
     "execution_count": 35,
     "metadata": {},
     "output_type": "execute_result"
    }
   ],
   "source": [
    "#print pip package version\n",
    "package_version = "
   ]
  },
  {
   "cell_type": "code",
   "execution_count": null,
   "metadata": {},
   "outputs": [],
   "source": []
  },
  {
   "cell_type": "code",
   "execution_count": 71,
   "metadata": {},
   "outputs": [],
   "source": []
  },
  {
   "cell_type": "code",
   "execution_count": 174,
   "metadata": {},
   "outputs": [
    {
     "ename": "AttributeError",
     "evalue": "'tuple' object has no attribute 'sign'",
     "output_type": "error",
     "traceback": [
      "\u001b[0;31m---------------------------------------------------------------------------\u001b[0m",
      "\u001b[0;31mAttributeError\u001b[0m                            Traceback (most recent call last)",
      "Cell \u001b[0;32mIn [174], line 38\u001b[0m\n\u001b[1;32m     35\u001b[0m dl \u001b[39m=\u001b[39m DocumentLoader(profile\u001b[39m=\u001b[39mprofile)\n\u001b[1;32m     37\u001b[0m \u001b[39mfrom\u001b[39;00m \u001b[39maries_cloudagent\u001b[39;00m\u001b[39m.\u001b[39;00m\u001b[39mvc\u001b[39;00m\u001b[39m.\u001b[39;00m\u001b[39mvc_ld\u001b[39;00m\u001b[39m.\u001b[39;00m\u001b[39missue\u001b[39;00m \u001b[39mimport\u001b[39;00m issue\n\u001b[0;32m---> 38\u001b[0m \u001b[39mawait\u001b[39;00m issue(credential\u001b[39m=\u001b[39mtest_cred, suite\u001b[39m=\u001b[39m suite, document_loader\u001b[39m=\u001b[39mdl)\n",
      "File \u001b[0;32m/usr/local/lib/python3.8/site-packages/aries_cloudagent/vc/vc_ld/issue.py:54\u001b[0m, in \u001b[0;36missue\u001b[0;34m(credential, suite, document_loader, purpose)\u001b[0m\n\u001b[1;32m     51\u001b[0m     purpose \u001b[39m=\u001b[39m CredentialIssuancePurpose()\n\u001b[1;32m     53\u001b[0m \u001b[39m# Sign the credential with LD proof\u001b[39;00m\n\u001b[0;32m---> 54\u001b[0m signed_credential \u001b[39m=\u001b[39m \u001b[39mawait\u001b[39;00m sign(\n\u001b[1;32m     55\u001b[0m     document\u001b[39m=\u001b[39mcredential,\n\u001b[1;32m     56\u001b[0m     suite\u001b[39m=\u001b[39msuite,\n\u001b[1;32m     57\u001b[0m     purpose\u001b[39m=\u001b[39mpurpose,\n\u001b[1;32m     58\u001b[0m     document_loader\u001b[39m=\u001b[39mdocument_loader,\n\u001b[1;32m     59\u001b[0m )\n\u001b[1;32m     61\u001b[0m \u001b[39mreturn\u001b[39;00m signed_credential\n",
      "File \u001b[0;32m/usr/local/lib/python3.8/site-packages/aries_cloudagent/vc/ld_proofs/ld_proofs.py:37\u001b[0m, in \u001b[0;36msign\u001b[0;34m(document, suite, purpose, document_loader)\u001b[0m\n\u001b[1;32m     12\u001b[0m \u001b[39masync\u001b[39;00m \u001b[39mdef\u001b[39;00m \u001b[39msign\u001b[39m(\n\u001b[1;32m     13\u001b[0m     \u001b[39m*\u001b[39m,\n\u001b[1;32m     14\u001b[0m     document: \u001b[39mdict\u001b[39m,\n\u001b[0;32m   (...)\u001b[0m\n\u001b[1;32m     17\u001b[0m     document_loader: DocumentLoaderMethod,\n\u001b[1;32m     18\u001b[0m ) \u001b[39m-\u001b[39m\u001b[39m>\u001b[39m \u001b[39mdict\u001b[39m:\n\u001b[1;32m     19\u001b[0m     \u001b[39m\"\"\"Cryptographically signs the provided document by adding a `proof` section.\u001b[39;00m\n\u001b[1;32m     20\u001b[0m \n\u001b[1;32m     21\u001b[0m \u001b[39m    Proof is added based on the provided suite and proof purpose\u001b[39;00m\n\u001b[0;32m   (...)\u001b[0m\n\u001b[1;32m     35\u001b[0m \n\u001b[1;32m     36\u001b[0m \u001b[39m    \"\"\"\u001b[39;00m\n\u001b[0;32m---> 37\u001b[0m     \u001b[39mreturn\u001b[39;00m \u001b[39mawait\u001b[39;00m ProofSet\u001b[39m.\u001b[39madd(\n\u001b[1;32m     38\u001b[0m         document\u001b[39m=\u001b[39mdocument,\n\u001b[1;32m     39\u001b[0m         suite\u001b[39m=\u001b[39msuite,\n\u001b[1;32m     40\u001b[0m         purpose\u001b[39m=\u001b[39mpurpose,\n\u001b[1;32m     41\u001b[0m         document_loader\u001b[39m=\u001b[39mdocument_loader,\n\u001b[1;32m     42\u001b[0m     )\n",
      "File \u001b[0;32m/usr/local/lib/python3.8/site-packages/aries_cloudagent/vc/ld_proofs/proof_set.py:52\u001b[0m, in \u001b[0;36mProofSet.add\u001b[0;34m(document, suite, purpose, document_loader)\u001b[0m\n\u001b[1;32m     49\u001b[0m \u001b[39minput\u001b[39m\u001b[39m.\u001b[39mpop(\u001b[39m\"\u001b[39m\u001b[39mproof\u001b[39m\u001b[39m\"\u001b[39m, \u001b[39mNone\u001b[39;00m)\n\u001b[1;32m     51\u001b[0m \u001b[39m# create the new proof, suites MUST output a proof using security-v2 `@context`\u001b[39;00m\n\u001b[0;32m---> 52\u001b[0m proof \u001b[39m=\u001b[39m \u001b[39mawait\u001b[39;00m suite\u001b[39m.\u001b[39mcreate_proof(\n\u001b[1;32m     53\u001b[0m     document\u001b[39m=\u001b[39m\u001b[39minput\u001b[39m, purpose\u001b[39m=\u001b[39mpurpose, document_loader\u001b[39m=\u001b[39mdocument_loader\n\u001b[1;32m     54\u001b[0m )\n\u001b[1;32m     56\u001b[0m JsonLdProcessor\u001b[39m.\u001b[39madd_value(document, \u001b[39m\"\u001b[39m\u001b[39mproof\u001b[39m\u001b[39m\"\u001b[39m, proof)\n\u001b[1;32m     57\u001b[0m \u001b[39mreturn\u001b[39;00m document\n",
      "File \u001b[0;32m/usr/local/lib/python3.8/site-packages/aries_cloudagent/vc/ld_proofs/suites/linked_data_signature.py:117\u001b[0m, in \u001b[0;36mLinkedDataSignature.create_proof\u001b[0;34m(self, document, purpose, document_loader)\u001b[0m\n\u001b[1;32m    112\u001b[0m verify_data \u001b[39m=\u001b[39m \u001b[39mself\u001b[39m\u001b[39m.\u001b[39m_create_verify_data(\n\u001b[1;32m    113\u001b[0m     proof\u001b[39m=\u001b[39mproof, document\u001b[39m=\u001b[39mdocument, document_loader\u001b[39m=\u001b[39mdocument_loader\n\u001b[1;32m    114\u001b[0m )\n\u001b[1;32m    116\u001b[0m \u001b[39m# Sign data\u001b[39;00m\n\u001b[0;32m--> 117\u001b[0m proof \u001b[39m=\u001b[39m \u001b[39mawait\u001b[39;00m \u001b[39mself\u001b[39m\u001b[39m.\u001b[39msign(verify_data\u001b[39m=\u001b[39mverify_data, proof\u001b[39m=\u001b[39mproof)\n\u001b[1;32m    119\u001b[0m \u001b[39mreturn\u001b[39;00m proof\n",
      "File \u001b[0;32m/usr/local/lib/python3.8/site-packages/aries_cloudagent/vc/ld_proofs/suites/jws_linked_data_signature.py:79\u001b[0m, in \u001b[0;36mJwsLinkedDataSignature.sign\u001b[0;34m(self, verify_data, proof)\u001b[0m\n\u001b[1;32m     76\u001b[0m encoded_header \u001b[39m=\u001b[39m \u001b[39mself\u001b[39m\u001b[39m.\u001b[39m_encode_header(header)\n\u001b[1;32m     78\u001b[0m data \u001b[39m=\u001b[39m \u001b[39mself\u001b[39m\u001b[39m.\u001b[39m_create_jws(encoded_header\u001b[39m=\u001b[39mencoded_header, verify_data\u001b[39m=\u001b[39mverify_data)\n\u001b[0;32m---> 79\u001b[0m signature \u001b[39m=\u001b[39m \u001b[39mawait\u001b[39;00m \u001b[39mself\u001b[39;49m\u001b[39m.\u001b[39;49mkey_pair\u001b[39m.\u001b[39;49msign(data)\n\u001b[1;32m     81\u001b[0m encoded_signature \u001b[39m=\u001b[39m bytes_to_b64(\n\u001b[1;32m     82\u001b[0m     signature, urlsafe\u001b[39m=\u001b[39m\u001b[39mTrue\u001b[39;00m, pad\u001b[39m=\u001b[39m\u001b[39mFalse\u001b[39;00m, encoding\u001b[39m=\u001b[39m\u001b[39m\"\u001b[39m\u001b[39mutf-8\u001b[39m\u001b[39m\"\u001b[39m\n\u001b[1;32m     83\u001b[0m )\n\u001b[1;32m     85\u001b[0m proof[\u001b[39m\"\u001b[39m\u001b[39mjws\u001b[39m\u001b[39m\"\u001b[39m] \u001b[39m=\u001b[39m encoded_header \u001b[39m+\u001b[39m \u001b[39m\"\u001b[39m\u001b[39m..\u001b[39m\u001b[39m\"\u001b[39m \u001b[39m+\u001b[39m encoded_signature\n",
      "\u001b[0;31mAttributeError\u001b[0m: 'tuple' object has no attribute 'sign'"
     ]
    }
   ],
   "source": [
    "from aries_cloudagent.wallet.key_type import KeyType\n",
    "from aries_cloudagent.did.did_key import DIDKey\n",
    "from aries_cloudagent import wallet\n",
    "from aries_cloudagent.vc.ld_proofs import Ed25519Signature2018, JwsLinkedDataSignature\n",
    "key = wallet.crypto.create_keypair(\n",
    "    KeyType.ED25519\n",
    "        )\n",
    "didkey = DIDKey.from_public_key(key[0], key_type=KeyType.ED25519)\n",
    "suite = Ed25519Signature2018(key_pair=key, verification_method=didkey.key_id)\n",
    "\n",
    "\n",
    "test_cred = {\n",
    "    \"@context\": [\n",
    "        \"https://www.w3.org/2018/credentials/v1\",\n",
    "        \"https://www.w3.org/2018/credentials/examples/v1\",\n",
    "    ],\n",
    "    \"id\": \"http://example.gov/credentials/3732\",\n",
    "    \"type\": [\"VerifiableCredential\", \"UniversityDegreeCredential\"],\n",
    "    \"issuer\": {\"id\": \"did:key:z6Mkgg342Ycpuk263R9d8Aq6MUaxPn1DDeHyGo38EefXmgDL\"},\n",
    "    \"issuanceDate\": \"2020-03-10T04:24:12.164Z\",\n",
    "    \"credentialSubject\": {\n",
    "        \"id\": \"did:example:456\",\n",
    "        \"degree\": {\"type\": \"BachelorDegree\", \"name\": \"Bachelor of Science and Arts\"},\n",
    "    },\n",
    "}\n",
    "from aries_cloudagent.config.default_context import DefaultContextBuilder\n",
    "from aries_cloudagent.vc.ld_proofs.document_loader import DocumentLoader\n",
    "contextbl = DefaultContextBuilder()\n",
    "context = await contextbl.build_context()\n",
    "\n",
    "from aries_cloudagent.config.wallet import wallet_config\n",
    "profile, _ = await wallet_config(context)\n",
    "from aries_cloudagent.core.profile import Profile\n",
    "dl = DocumentLoader(profile=profile)\n",
    "\n",
    "from aries_cloudagent.vc.vc_ld.issue import issue\n",
    "await issue(credential=test_cred, suite= suite, document_loader=dl)"
   ]
  },
  {
   "cell_type": "code",
   "execution_count": 194,
   "metadata": {},
   "outputs": [
    {
     "data": {
      "text/plain": [
       "b'<!DOCTYPE html>\\n<html lang=\"en-US\">\\n  <head>\\n    <meta charset=\"UTF-8\">\\n    <meta http-equiv=\"X-UA-Compatible\" content=\"IE=edge\">\\n    <meta name=\"viewport\" content=\"width=device-width, initial-scale=1\">\\n\\n<!-- Begin Jekyll SEO tag v2.8.0 -->\\n<title>vc-ed | Verifiable Credentials for Education Task Force</title>\\n<meta name=\"generator\" content=\"Jekyll v3.9.2\" />\\n<meta property=\"og:title\" content=\"vc-ed\" />\\n<meta property=\"og:locale\" content=\"en_US\" />\\n<meta name=\"description\" content=\"Verifiable Credentials for Education Task Force\" />\\n<meta property=\"og:description\" content=\"Verifiable Credentials for Education Task Force\" />\\n<link rel=\"canonical\" href=\"https://w3c-ccg.github.io/vc-ed/404.html\" />\\n<meta property=\"og:url\" content=\"https://w3c-ccg.github.io/vc-ed/404.html\" />\\n<meta property=\"og:site_name\" content=\"vc-ed\" />\\n<meta property=\"og:type\" content=\"website\" />\\n<meta name=\"twitter:card\" content=\"summary\" />\\n<meta property=\"twitter:title\" content=\"vc-ed\" />\\n<script type=\"application/ld+json\">\\n{\"@context\":\"https://schema.org\",\"@type\":\"WebPage\",\"description\":\"Verifiable Credentials for Education Task Force\",\"headline\":\"vc-ed\",\"url\":\"https://w3c-ccg.github.io/vc-ed/404.html\"}</script>\\n<!-- End Jekyll SEO tag -->\\n\\n    <link rel=\"stylesheet\" href=\"/vc-ed/assets/css/style.css?v=a476335a16bfc7b5fc344d7a59ae246d4ac6616b\">\\n    <!--[if lt IE 9]>\\n    <script src=\"https://cdnjs.cloudflare.com/ajax/libs/html5shiv/3.7.3/html5shiv.min.js\"></script>\\n    <![endif]-->\\n    <!-- start custom head snippets, customize with your own _includes/head-custom.html file -->\\n\\n<!-- Setup Google Analytics -->\\n\\n\\n\\n<!-- You can set your favicon here -->\\n<!-- link rel=\"shortcut icon\" type=\"image/x-icon\" href=\"/vc-ed/favicon.ico\" -->\\n\\n<!-- end custom head snippets -->\\n\\n  </head>\\n  <body>\\n    <div class=\"wrapper\">\\n      <header>\\n        <h1><a href=\"https://w3c-ccg.github.io/vc-ed/\">vc-ed</a></h1>\\n\\n        \\n\\n        <p>Verifiable Credentials for Education Task Force</p>\\n\\n        \\n        <p class=\"view\"><a href=\"https://github.com/w3c-ccg/vc-ed\">View the Project on GitHub <small>w3c-ccg/vc-ed</small></a></p>\\n        \\n\\n        \\n\\n        \\n      </header>\\n      <section>\\n\\n      <style type=\"text/css\" media=\"screen\">\\n  .container {\\n    margin: 10px auto;\\n    max-width: 600px;\\n    text-align: center;\\n  }\\n  h1 {\\n    margin: 30px 0;\\n    font-size: 4em;\\n    line-height: 1;\\n    letter-spacing: -1px;\\n  }\\n</style>\\n\\n<div class=\"container\">\\n  <h1>404</h1>\\n\\n  <p><strong>Page not found :(</strong></p>\\n  <p>The requested page could not be found.</p>\\n</div>\\n\\n\\n      </section>\\n      <footer>\\n        \\n        <p>This project is maintained by <a href=\"https://github.com/w3c-ccg\">w3c-ccg</a></p>\\n        \\n        <p><small>Hosted on GitHub Pages &mdash; Theme by <a href=\"https://github.com/orderedlist\">orderedlist</a></small></p>\\n      </footer>\\n    </div>\\n    <script src=\"/vc-ed/assets/js/scale.fix.js\"></script>\\n  </body>\\n</html>\\n'"
      ]
     },
     "execution_count": 194,
     "metadata": {},
     "output_type": "execute_result"
    }
   ],
   "source": [
    "import requests\n",
    "vc_jff = requests.get(\"https://w3c-ccg.github.io/vc-ed/plugfest-1-2022/jff-vc-edu-plugfest-1.json\").content\n",
    "vc_jff"
   ]
  },
  {
   "cell_type": "code",
   "execution_count": 249,
   "metadata": {},
   "outputs": [
    {
     "name": "stdout",
     "output_type": "stream",
     "text": [
      "{'@context': ['https://www.w3.org/2018/credentials/v1', {'xsd': 'https://www.w3.org/2001/XMLSchema#', 'url': {'@id': 'https://schema.org/url', '@type': 'xsd:anyURI'}, 'AchievementSubject': {'@context': {'achievement': {'@id': 'https://imsglobal.github.io/openbadges-specification/ob_v3p0.html#Achievement'}, 'identifier': {'@id': 'https://imsglobal.github.io/openbadges-specification/ob_v3p0.html#Identifier'}, 'result': {'@id': 'https://imsglobal.github.io/openbadges-specification/ob_v3p0.html#Result'}}, '@id': 'https://imsglobal.github.io/openbadges-specification/ob_v3p0.html#AchievementSubject'}, 'IdentityObject': {'@context': {'hashed': {'@id': 'https://imsglobal.github.io/openbadges-specification/ob_v3p0.html#hashed', '@type': 'xsd:boolean'}, 'identityHash': {'@id': 'https://imsglobal.github.io/openbadges-specification/ob_v3p0.html#identityHash', '@type': 'xsd:string'}, 'salt': {'@id': 'https://imsglobal.github.io/openbadges-specification/ob_v3p0.html#salt', '@type': 'xsd:string'}}, '@id': 'https://imsglobal.github.io/openbadges-specification/ob_v3p0.html#IdentityObject'}, 'Result': {'@context': {'achievedLevel': {'@id': 'https://imsglobal.github.io/openbadges-specification/ob_v3p0.html#achievedLevel', '@type': 'xsd:anyURI'}, 'resultDescription': {'@id': 'https://imsglobal.github.io/openbadges-specification/ob_v3p0.html#resultDescription', '@type': 'xsd:anyURI'}, 'status': {'@id': 'https://imsglobal.github.io/openbadges-specification/ob_v3p0.html#status', '@type': 'xsd:string'}, 'value': {'@id': 'https://schema.org/value', '@type': 'xsd:string'}}, '@id': 'https://imsglobal.github.io/openbadges-specification/ob_v3p0.html#Result'}, 'id': '@id', 'Achievement': {'@context': {'achievementType': {'@id': 'https://imsglobal.github.io/openbadges-specification/ob_v3p0.html#achievementType', '@type': 'xsd:string'}, 'alignment': {'@id': 'https://imsglobal.github.io/openbadges-specification/ob_v3p0.html#Alignment'}, 'creator': {'@id': 'https://imsglobal.github.io/openbadges-specification/ob_v3p0.html#Profile'}, 'creditsAvailable': {'@id': 'https://imsglobal.github.io/openbadges-specification/ob_v3p0.html#creditsAvailable', '@type': 'xsd:float'}, 'criteria': {'@id': 'https://imsglobal.github.io/openbadges-specification/ob_v3p0.html#criteria', '@type': '@id'}, 'fieldOfStudy': {'@id': 'https://imsglobal.github.io/openbadges-specification/ob_v3p0.html#fieldOfStudy', '@type': 'xsd:string'}, 'humanCode': {'@id': 'https://imsglobal.github.io/openbadges-specification/ob_v3p0.html#humanCode', '@type': 'xsd:string'}, 'specialization': {'@id': 'https://imsglobal.github.io/openbadges-specification/ob_v3p0.html#specialization', '@type': 'xsd:string'}, 'tags': {'@container': '@set', '@id': 'https://schema.org/keywords', '@type': 'xsd:string'}}, '@id': 'https://imsglobal.github.io/openbadges-specification/ob_v3p0.html#Achievement'}, 'GeoCoordinates': {'@context': {'latitude': {'@id': 'https://schema.org/latitude', '@type': 'xsd:string'}, 'longitude': {'@id': 'https://schema.org/longitude', '@type': 'xsd:string'}}, '@id': 'https://imsglobal.github.io/openbadges-specification/ob_v3p0.html#GeoCoordinates'}, 'RubricCriterionLevel': {'@context': {'level': {'@id': 'https://imsglobal.github.io/openbadges-specification/ob_v3p0.html#level', '@type': 'xsd:string'}, 'points': {'@id': 'https://imsglobal.github.io/openbadges-specification/ob_v3p0.html#points', '@type': 'xsd:string'}}, '@id': 'https://imsglobal.github.io/openbadges-specification/ob_v3p0.html#RubricCriterionLevel'}, 'description': {'@id': 'https://schema.org/description', '@type': 'xsd:string'}, 'endorsement': {'@id': 'https://imsglobal.github.io/openbadges-specification/ob_v3p0.html#endorsement', '@type': '@id'}, 'EndorsementSubject': {'@context': {'endorsementComment': {'@id': 'https://imsglobal.github.io/openbadges-specification/ob_v3p0.html#endorsementComment', '@type': 'xsd:string'}}, '@id': 'https://imsglobal.github.io/openbadges-specification/ob_v3p0.html#EndorsementSubject'}, 'image': {'@id': 'https://imsglobal.github.io/openbadges-specification/ob_v3p0.html#image', '@type': '@id'}, 'name': {'@id': 'https://schema.org/name', '@type': 'xsd:string'}, 'narrative': {'@id': 'https://imsglobal.github.io/openbadges-specification/ob_v3p0.html#narrative', '@type': 'xsd:string'}, 'Evidence': {'@context': {'audience': {'@id': 'https://schema.org/audience', '@type': 'xsd:string'}, 'genre': {'@id': 'https://schema.org/genre', '@type': 'xsd:string'}}, '@id': 'https://imsglobal.github.io/openbadges-specification/ob_v3p0.html#Evidence'}, 'type': '@type', 'Criteria': {'@id': 'https://imsglobal.github.io/openbadges-specification/ob_v3p0.html#Criteria'}, 'alignment': {'@id': 'https://imsglobal.github.io/openbadges-specification/ob_v3p0.html#Alignment', '@type': '@id'}, 'EndorsementCredential': {'@id': 'https://imsglobal.github.io/openbadges-specification/ob_v3p0.html#EndorsementCredential'}, 'Alignment': {'@context': {'targetCode': {'@id': 'https://imsglobal.github.io/openbadges-specification/ob_v3p0.html#targetCode', '@type': 'xsd:string'}, 'targetDescription': {'@id': 'https://schema.org/targetDescription', '@type': 'xsd:string'}, 'targetFramework': {'@id': 'https://schema.org/targetFramework', '@type': 'xsd:string'}, 'targetName': {'@id': 'https://schema.org/targetName', '@type': 'xsd:string'}, 'targetType': {'@id': 'https://imsglobal.github.io/openbadges-specification/ob_v3p0.html#targetType', '@type': 'xsd:string'}, 'targetUrl': {'@id': 'https://schema.org/targetUrl', '@type': 'xsd:anyURI'}}, '@id': 'https://schema.org/Alignment'}, 'Profile': {'@context': {'additionalName': {'@id': 'https://schema.org/additionalName', '@type': 'xsd:string'}, 'address': {'@id': 'https://imsglobal.github.io/openbadges-specification/ob_v3p0.html#Address'}, 'dateOfBirth': {'@id': 'https://imsglobal.github.io/openbadges-specification/ob_v3p0.html#dateOfBirth', '@type': 'xsd:date'}, 'email': {'@id': 'https://schema.org/email', '@type': 'xsd:string'}, 'familyName': {'@id': 'https://schema.org/familyName', '@type': 'xsd:string'}, 'familyNamePrefix': {'@id': 'https://imsglobal.github.io/openbadges-specification/ob_v3p0.html#familyNamePrefix', '@type': 'xsd:string'}, 'givenName': {'@id': 'https://schema.org/givenName', '@type': 'xsd:string'}, 'honorificPrefix': {'@id': 'https://schema.org/honorificPrefix', '@type': 'xsd:string'}, 'honorificSuffix': {'@id': 'https://schema.org/honorificSuffix', '@type': 'xsd:string'}, 'official': {'@id': 'https://imsglobal.github.io/openbadges-specification/ob_v3p0.html#official', '@type': 'xsd:string'}, 'parentOrg': {'@id': 'https://imsglobal.github.io/openbadges-specification/ob_v3p0.html#parentOrg', '@type': 'xsd:string'}, 'patronymicName': {'@id': 'https://imsglobal.github.io/openbadges-specification/ob_v3p0.html#patronymicName', '@type': 'xsd:string'}, 'phone': {'@id': 'https://imsglobal.github.io/openbadges-specification/ob_v3p0.html#PhoneNumber', '@type': 'xsd:string'}, 'sisSourcedId': {'@id': 'https://imsglobal.github.io/openbadges-specification/ob_v3p0.html#sisSourcedId', '@type': 'xsd:string'}, 'sourcedId': {'@id': 'https://imsglobal.github.io/openbadges-specification/ob_v3p0.html#sourcedId', '@type': 'xsd:string'}}, '@id': 'https://imsglobal.github.io/openbadges-specification/ob_v3p0.html#Profile'}, 'AchievementCredential': {'@id': 'OpenBadgeCredential'}, 'Address': {'@context': {'addressCountry': {'@id': 'https://schema.org/addressCountry', '@type': 'xsd:string'}, 'addressCountryCode': {'@id': 'https://imsglobal.github.io/openbadges-specification/ob_v3p0.html#CountryCode', '@type': 'xsd:string'}, 'addressLocality': {'@id': 'https://schema.org/addresLocality', '@type': 'xsd:string'}, 'addressRegion': {'@id': 'https://schema.org/addressRegion', '@type': 'xsd:string'}, 'geo': {'@id': 'https://imsglobal.github.io/openbadges-specification/ob_v3p0.html#GeoCoordinates'}, 'postOfficeBoxNumber': {'@id': 'https://schema.org/postOfficeBoxNumber', '@type': 'xsd:string'}, 'postalCode': {'@id': 'https://schema.org/postalCode', '@type': 'xsd:string'}, 'streetAddress': {'@id': 'https://schema.org/streetAddress', '@type': 'xsd:string'}}, '@id': 'https://imsglobal.github.io/openbadges-specification/ob_v3p0.html#Address'}, 'Image': {'@context': {'caption': {'@id': 'https://schema.org/caption', '@type': 'xsd:string'}}, '@id': 'https://imsglobal.github.io/openbadges-specification/ob_v3p0.html#IdentityImage'}, 'OpenBadgeCredential': {'@id': 'https://imsglobal.github.io/openbadges-specification/ob_v3p0.html#OpenBadgeCredential'}, 'ResultDescription': {'@context': {'allowedValue': {'@id': 'https://imsglobal.github.io/openbadges-specification/ob_v3p0.html#allowedValue', '@type': 'xsd:string'}, 'requiredLevel': {'@id': 'https://imsglobal.github.io/openbadges-specification/ob_v3p0.html#requiredLevel', '@type': 'xsd:anyURI'}, 'requiredValue': {'@id': 'https://imsglobal.github.io/openbadges-specification/ob_v3p0.html#requiredValue', '@type': 'xsd:string'}, 'resultType': {'@id': 'https://imsglobal.github.io/openbadges-specification/ob_v3p0.html#resultType', '@type': 'xsd:string'}, 'rubricCriterionLevel': 'https://imsglobal.github.io/openbadges-specification/ob_v3p0.html#RubricCriterionLevel', 'valueMax': {'@id': 'https://imsglobal.github.io/openbadges-specification/ob_v3p0.html#valueMax', '@type': 'xsd:string'}, 'valueMin': {'@id': 'https://imsglobal.github.io/openbadges-specification/ob_v3p0.html#valueMin', '@type': 'xsd:string'}}, '@id': 'https://imsglobal.github.io/openbadges-specification/ob_v3p0.html#ResultDescription'}}], 'id': 'http://example:123456789abcdefghi', 'type': ['VerifiableCredential', 'OpenBadgeCredential'], 'credentialSubject': {'id': 'did:key:123456789abcdefghi', 'Achievement': {'criteria': {'narrative': 'The first cohort of the JFF Plugfest 1 in May/June of 2021 collaborated to push interoperability of VCs in education forward.', 'type': 'Criteria'}, 'description': 'This wallet can display this Open Badge 3.0', 'image': 'https://w3c-ccg.github.io/vc-ed/plugfest-1-2022/images/plugfest-1-badge-image.png', 'name': 'IIW 2022 DEMO', 'type': 'Achievement'}, 'type': 'VerifiableCredential'}, 'issuer': {'id': 'did:key:z6MkvbSJS3vXhUn2ivHkYCVhGagmSPaoVY6pPoH9vK523t8F'}, 'issuanceDate': '2020-03-10T04:24:12.164Z', 'proof': {'type': 'Ed25519Signature2018', 'proofPurpose': 'assertionMethod', 'verificationMethod': 'did:key:z6MkvbSJS3vXhUn2ivHkYCVhGagmSPaoVY6pPoH9vK523t8F#z6MkvbSJS3vXhUn2ivHkYCVhGagmSPaoVY6pPoH9vK523t8F', 'created': '2022-11-03T21:52:03.614Z', 'jws': 'eyJhbGciOiJFZERTQSIsImNyaXQiOlsiYjY0Il0sImI2NCI6ZmFsc2V9..X8n2wgGApmjArLA0vzdXdtEvPBhcZ6CwylPIOg4IMy2ttepcbq0n8jD6hZ3DTHRV-25xfm135zC-XhbjM59QAw'}}\n"
     ]
    }
   ],
   "source": [
    "import didkit\n",
    "jwk = didkit.generate_ed25519_key()\n",
    "did = didkit.key_to_did(\"key\", jwk)\n",
    "\n",
    "credential = {\n",
    "      \"@context\": \n",
    "      [\n",
    "          \"https://www.w3.org/2018/credentials/v1\",\n",
    "          {\n",
    "    \"id\": \"@id\",\n",
    "    \"type\": \"@type\",\n",
    "    \"xsd\": \"https://www.w3.org/2001/XMLSchema#\",\n",
    "    \"OpenBadgeCredential\": {\n",
    "      \"@id\": \"https://imsglobal.github.io/openbadges-specification/ob_v3p0.html#OpenBadgeCredential\"\n",
    "    },\n",
    "    \"Achievement\": {\n",
    "      \"@id\": \"https://imsglobal.github.io/openbadges-specification/ob_v3p0.html#Achievement\",\n",
    "      \"@context\": {\n",
    "        \"achievementType\": {\n",
    "          \"@id\": \"https://imsglobal.github.io/openbadges-specification/ob_v3p0.html#achievementType\",\n",
    "          \"@type\": \"xsd:string\"\n",
    "        },\n",
    "        \"alignment\": {\n",
    "          \"@id\": \"https://imsglobal.github.io/openbadges-specification/ob_v3p0.html#Alignment\"\n",
    "        },\n",
    "        \"creator\": {\n",
    "          \"@id\": \"https://imsglobal.github.io/openbadges-specification/ob_v3p0.html#Profile\"\n",
    "        },\n",
    "        \"creditsAvailable\": {\n",
    "          \"@id\": \"https://imsglobal.github.io/openbadges-specification/ob_v3p0.html#creditsAvailable\",\n",
    "          \"@type\": \"xsd:float\"\n",
    "        },\n",
    "        \"criteria\": {\n",
    "          \"@id\": \"https://imsglobal.github.io/openbadges-specification/ob_v3p0.html#criteria\", \n",
    "          \"@type\": \"@id\"\n",
    "        },\n",
    "        \"fieldOfStudy\": {\n",
    "          \"@id\": \"https://imsglobal.github.io/openbadges-specification/ob_v3p0.html#fieldOfStudy\", \n",
    "          \"@type\": \"xsd:string\"\n",
    "        },\n",
    "        \"humanCode\": {\n",
    "          \"@id\": \"https://imsglobal.github.io/openbadges-specification/ob_v3p0.html#humanCode\", \n",
    "          \"@type\": \"xsd:string\"\n",
    "        },\n",
    "        \"specialization\": {\n",
    "          \"@id\": \"https://imsglobal.github.io/openbadges-specification/ob_v3p0.html#specialization\", \n",
    "          \"@type\": \"xsd:string\"\n",
    "        },\n",
    "        \"tags\": {\n",
    "          \"@id\": \"https://schema.org/keywords\", \n",
    "          \"@type\": \"xsd:string\", \n",
    "          \"@container\": \"@set\"\n",
    "        }\n",
    "      }\n",
    "    },\n",
    "    \"AchievementCredential\": {\n",
    "      \"@id\": \"OpenBadgeCredential\"\n",
    "    },\n",
    "    \"AchievementSubject\": {\n",
    "      \"@id\": \"https://imsglobal.github.io/openbadges-specification/ob_v3p0.html#AchievementSubject\",\n",
    "      \"@context\": {\n",
    "        \"achievement\": {\n",
    "          \"@id\": \"https://imsglobal.github.io/openbadges-specification/ob_v3p0.html#Achievement\"\n",
    "        },\n",
    "        \"identifier\": {\n",
    "          \"@id\": \"https://imsglobal.github.io/openbadges-specification/ob_v3p0.html#Identifier\"\n",
    "        },\n",
    "        \"result\": {\n",
    "          \"@id\": \"https://imsglobal.github.io/openbadges-specification/ob_v3p0.html#Result\"\n",
    "        }\n",
    "      }\n",
    "    },\n",
    "    \"Address\": {\n",
    "      \"@id\": \"https://imsglobal.github.io/openbadges-specification/ob_v3p0.html#Address\",\n",
    "      \"@context\": {\n",
    "        \"addressCountry\": {\n",
    "          \"@id\": \"https://schema.org/addressCountry\", \n",
    "          \"@type\": \"xsd:string\"\n",
    "        },\n",
    "        \"addressCountryCode\": {\n",
    "          \"@id\": \"https://imsglobal.github.io/openbadges-specification/ob_v3p0.html#CountryCode\", \n",
    "          \"@type\": \"xsd:string\"\n",
    "        },\n",
    "        \"addressLocality\": {\n",
    "          \"@id\": \"https://schema.org/addresLocality\", \n",
    "          \"@type\": \"xsd:string\"\n",
    "        },\n",
    "        \"addressRegion\": {\n",
    "          \"@id\": \"https://schema.org/addressRegion\", \n",
    "          \"@type\": \"xsd:string\"\n",
    "        },\n",
    "        \"geo\": {\n",
    "          \"@id\" : \"https://imsglobal.github.io/openbadges-specification/ob_v3p0.html#GeoCoordinates\"\n",
    "        },\n",
    "        \"postOfficeBoxNumber\": {\n",
    "          \"@id\": \"https://schema.org/postOfficeBoxNumber\", \n",
    "          \"@type\": \"xsd:string\"\n",
    "        },\n",
    "        \"postalCode\": {\n",
    "          \"@id\": \"https://schema.org/postalCode\", \n",
    "          \"@type\": \"xsd:string\"\n",
    "        },\n",
    "        \"streetAddress\": {\n",
    "          \"@id\": \"https://schema.org/streetAddress\", \n",
    "          \"@type\": \"xsd:string\"\n",
    "        }\n",
    "      }\n",
    "    },\n",
    "    \"Alignment\": {\n",
    "      \"@id\": \"https://schema.org/Alignment\",\n",
    "      \"@context\": {\n",
    "        \"targetCode\": {\n",
    "          \"@id\": \"https://imsglobal.github.io/openbadges-specification/ob_v3p0.html#targetCode\", \n",
    "          \"@type\": \"xsd:string\"\n",
    "        },\n",
    "        \"targetDescription\": {\n",
    "          \"@id\": \"https://schema.org/targetDescription\", \n",
    "          \"@type\": \"xsd:string\"\n",
    "        },\n",
    "        \"targetFramework\": {\n",
    "          \"@id\": \"https://schema.org/targetFramework\", \n",
    "          \"@type\": \"xsd:string\"\n",
    "        },\n",
    "        \"targetName\": {\n",
    "          \"@id\": \"https://schema.org/targetName\", \n",
    "          \"@type\": \"xsd:string\"\n",
    "        }, \n",
    "        \"targetType\": {\n",
    "          \"@id\": \"https://imsglobal.github.io/openbadges-specification/ob_v3p0.html#targetType\",\n",
    "          \"@type\": \"xsd:string\"\n",
    "        },     \n",
    "        \"targetUrl\": {\n",
    "          \"@id\": \"https://schema.org/targetUrl\",\n",
    "          \"@type\": \"xsd:anyURI\"\n",
    "        }\n",
    "      }\n",
    "    },\n",
    "    \"Criteria\": {\n",
    "      \"@id\": \"https://imsglobal.github.io/openbadges-specification/ob_v3p0.html#Criteria\"\n",
    "    },\n",
    "    \"EndorsementCredential\": {\n",
    "      \"@id\": \"https://imsglobal.github.io/openbadges-specification/ob_v3p0.html#EndorsementCredential\"\n",
    "    },\n",
    "    \"EndorsementSubject\": {\n",
    "      \"@id\": \"https://imsglobal.github.io/openbadges-specification/ob_v3p0.html#EndorsementSubject\",\n",
    "      \"@context\": {\n",
    "        \"endorsementComment\": {\n",
    "          \"@id\": \"https://imsglobal.github.io/openbadges-specification/ob_v3p0.html#endorsementComment\", \n",
    "          \"@type\": \"xsd:string\"\n",
    "        }\n",
    "      }\n",
    "    },\n",
    "    \"Evidence\": {\n",
    "      \"@id\": \"https://imsglobal.github.io/openbadges-specification/ob_v3p0.html#Evidence\",\n",
    "      \"@context\": {\n",
    "        \"audience\": {\n",
    "          \"@id\": \"https://schema.org/audience\", \n",
    "          \"@type\": \"xsd:string\"\n",
    "        },\n",
    "        \"genre\": {\n",
    "          \"@id\": \"https://schema.org/genre\",\n",
    "          \"@type\": \"xsd:string\"\n",
    "        }\n",
    "      }\n",
    "    },\n",
    "    \"GeoCoordinates\": {\n",
    "      \"@id\": \"https://imsglobal.github.io/openbadges-specification/ob_v3p0.html#GeoCoordinates\",\n",
    "      \"@context\": {\n",
    "        \"latitude\": {\n",
    "          \"@id\": \"https://schema.org/latitude\", \n",
    "          \"@type\": \"xsd:string\"\n",
    "        },\n",
    "        \"longitude\": {\n",
    "          \"@id\": \"https://schema.org/longitude\", \n",
    "          \"@type\": \"xsd:string\"\n",
    "        }\n",
    "      }\n",
    "    },\n",
    "    \"IdentityObject\": {\n",
    "      \"@id\": \"https://imsglobal.github.io/openbadges-specification/ob_v3p0.html#IdentityObject\",\n",
    "      \"@context\": {\n",
    "        \"hashed\": {\n",
    "          \"@id\": \"https://imsglobal.github.io/openbadges-specification/ob_v3p0.html#hashed\", \n",
    "          \"@type\": \"xsd:boolean\"\n",
    "        },\n",
    "        \"identityHash\": {\n",
    "          \"@id\": \"https://imsglobal.github.io/openbadges-specification/ob_v3p0.html#identityHash\", \n",
    "          \"@type\": \"xsd:string\"\n",
    "        },\n",
    "        \"salt\":  {\n",
    "          \"@id\": \"https://imsglobal.github.io/openbadges-specification/ob_v3p0.html#salt\", \n",
    "          \"@type\": \"xsd:string\"\n",
    "        }\n",
    "      }\n",
    "    },\n",
    "    \"Image\": {\n",
    "      \"@id\": \"https://imsglobal.github.io/openbadges-specification/ob_v3p0.html#IdentityImage\",\n",
    "      \"@context\": {\n",
    "        \"caption\": {\n",
    "          \"@id\": \"https://schema.org/caption\",\n",
    "          \"@type\": \"xsd:string\"\n",
    "        }\n",
    "      }\n",
    "    },\n",
    "    \"Profile\": {\n",
    "      \"@id\": \"https://imsglobal.github.io/openbadges-specification/ob_v3p0.html#Profile\",\n",
    "      \"@context\": {\n",
    "        \"additionalName\": {\n",
    "          \"@id\": \"https://schema.org/additionalName\",\n",
    "          \"@type\": \"xsd:string\"\n",
    "        },\n",
    "        \"address\": {\n",
    "          \"@id\": \"https://imsglobal.github.io/openbadges-specification/ob_v3p0.html#Address\"\n",
    "        },\n",
    "        \"dateOfBirth\": {\n",
    "          \"@id\": \"https://imsglobal.github.io/openbadges-specification/ob_v3p0.html#dateOfBirth\",\n",
    "          \"@type\": \"xsd:date\"\n",
    "        },\n",
    "        \"email\": {\n",
    "          \"@id\": \"https://schema.org/email\", \n",
    "          \"@type\": \"xsd:string\"\n",
    "        },\n",
    "        \"familyName\": {\n",
    "          \"@id\": \"https://schema.org/familyName\",\n",
    "          \"@type\": \"xsd:string\"\n",
    "        },\n",
    "        \"familyNamePrefix\": {\n",
    "          \"@id\": \"https://imsglobal.github.io/openbadges-specification/ob_v3p0.html#familyNamePrefix\",\n",
    "          \"@type\": \"xsd:string\"\n",
    "        },\n",
    "        \"givenName\": {\n",
    "          \"@id\": \"https://schema.org/givenName\",\n",
    "          \"@type\": \"xsd:string\"\n",
    "        },\n",
    "        \"honorificPrefix\": {\n",
    "          \"@id\": \"https://schema.org/honorificPrefix\",\n",
    "          \"@type\": \"xsd:string\"\n",
    "        },\n",
    "        \"honorificSuffix\": {\n",
    "          \"@id\": \"https://schema.org/honorificSuffix\",\n",
    "          \"@type\": \"xsd:string\"\n",
    "        },\n",
    "        \"parentOrg\": {\n",
    "          \"@id\": \"https://imsglobal.github.io/openbadges-specification/ob_v3p0.html#parentOrg\",\n",
    "          \"@type\": \"xsd:string\"\n",
    "        },\n",
    "        \"patronymicName\": {\n",
    "          \"@id\": \"https://imsglobal.github.io/openbadges-specification/ob_v3p0.html#patronymicName\",\n",
    "          \"@type\": \"xsd:string\"\n",
    "        },\n",
    "        \"phone\": {\n",
    "          \"@id\": \"https://imsglobal.github.io/openbadges-specification/ob_v3p0.html#PhoneNumber\", \n",
    "          \"@type\": \"xsd:string\"\n",
    "        },\n",
    "        \"official\": {\n",
    "          \"@id\": \"https://imsglobal.github.io/openbadges-specification/ob_v3p0.html#official\",\n",
    "          \"@type\": \"xsd:string\"\n",
    "        },\n",
    "        \"sisSourcedId\": {\n",
    "          \"@id\": \"https://imsglobal.github.io/openbadges-specification/ob_v3p0.html#sisSourcedId\",\n",
    "          \"@type\": \"xsd:string\"\n",
    "        },\n",
    "        \"sourcedId\": {\n",
    "          \"@id\": \"https://imsglobal.github.io/openbadges-specification/ob_v3p0.html#sourcedId\",\n",
    "          \"@type\": \"xsd:string\"\n",
    "        }\n",
    "      }\n",
    "    },\n",
    "    \"Result\": {\n",
    "      \"@id\": \"https://imsglobal.github.io/openbadges-specification/ob_v3p0.html#Result\",\n",
    "      \"@context\": {\n",
    "        \"achievedLevel\": {\n",
    "          \"@id\": \"https://imsglobal.github.io/openbadges-specification/ob_v3p0.html#achievedLevel\", \n",
    "          \"@type\": \"xsd:anyURI\"\n",
    "        },\n",
    "        \"resultDescription\": {\n",
    "          \"@id\": \"https://imsglobal.github.io/openbadges-specification/ob_v3p0.html#resultDescription\",\n",
    "          \"@type\": \"xsd:anyURI\"\n",
    "        },\n",
    "        \"status\": {\n",
    "          \"@id\": \"https://imsglobal.github.io/openbadges-specification/ob_v3p0.html#status\", \n",
    "          \"@type\": \"xsd:string\"\n",
    "        },\n",
    "        \"value\": {\n",
    "          \"@id\": \"https://schema.org/value\", \n",
    "          \"@type\": \"xsd:string\"\n",
    "        }\n",
    "      }\n",
    "    },\n",
    "    \"ResultDescription\": {\n",
    "      \"@id\": \"https://imsglobal.github.io/openbadges-specification/ob_v3p0.html#ResultDescription\",\n",
    "      \"@context\": {\n",
    "        \"allowedValue\": {\n",
    "          \"@id\": \"https://imsglobal.github.io/openbadges-specification/ob_v3p0.html#allowedValue\", \n",
    "          \"@type\": \"xsd:string\"\n",
    "        },\n",
    "        \"requiredLevel\": {\n",
    "          \"@id\": \"https://imsglobal.github.io/openbadges-specification/ob_v3p0.html#requiredLevel\", \n",
    "          \"@type\": \"xsd:anyURI\"\n",
    "        },\n",
    "        \"requiredValue\": {\n",
    "          \"@id\": \"https://imsglobal.github.io/openbadges-specification/ob_v3p0.html#requiredValue\", \n",
    "          \"@type\": \"xsd:string\"\n",
    "        },\n",
    "        \"resultType\": {\n",
    "          \"@id\":\"https://imsglobal.github.io/openbadges-specification/ob_v3p0.html#resultType\",  \n",
    "          \"@type\": \"xsd:string\"\n",
    "        },\n",
    "        \"rubricCriterionLevel\": \"https://imsglobal.github.io/openbadges-specification/ob_v3p0.html#RubricCriterionLevel\",\n",
    "        \"valueMax\": {\n",
    "          \"@id\": \"https://imsglobal.github.io/openbadges-specification/ob_v3p0.html#valueMax\", \n",
    "          \"@type\": \"xsd:string\"\n",
    "        },\n",
    "        \"valueMin\": {\n",
    "          \"@id\": \"https://imsglobal.github.io/openbadges-specification/ob_v3p0.html#valueMin\", \n",
    "          \"@type\": \"xsd:string\"\n",
    "        }              \n",
    "      }\n",
    "    },\n",
    "    \"RubricCriterionLevel\": {\n",
    "      \"@id\": \"https://imsglobal.github.io/openbadges-specification/ob_v3p0.html#RubricCriterionLevel\",\n",
    "      \"@context\": {\n",
    "        \"level\": {\n",
    "          \"@id\": \"https://imsglobal.github.io/openbadges-specification/ob_v3p0.html#level\", \n",
    "          \"@type\": \"xsd:string\"\n",
    "        },\n",
    "        \"points\": {\n",
    "          \"@id\": \"https://imsglobal.github.io/openbadges-specification/ob_v3p0.html#points\", \n",
    "          \"@type\": \"xsd:string\"\n",
    "        }\n",
    "      }\n",
    "    },\n",
    "    \"alignment\": {\n",
    "      \"@id\": \"https://imsglobal.github.io/openbadges-specification/ob_v3p0.html#Alignment\", \n",
    "      \"@type\": \"@id\"\n",
    "    },    \n",
    "    \"description\": {\n",
    "      \"@id\": \"https://schema.org/description\", \n",
    "      \"@type\": \"xsd:string\"\n",
    "    },\n",
    "    \"endorsement\": {\n",
    "      \"@id\": \"https://imsglobal.github.io/openbadges-specification/ob_v3p0.html#endorsement\", \n",
    "      \"@type\": \"@id\"\n",
    "    },\n",
    "    \"image\": {\n",
    "      \"@id\": \"https://imsglobal.github.io/openbadges-specification/ob_v3p0.html#image\", \n",
    "      \"@type\": \"@id\"\n",
    "    },\n",
    "    \"name\": {\n",
    "      \"@id\": \"https://schema.org/name\", \n",
    "      \"@type\": \"xsd:string\"\n",
    "    },\n",
    "    \"narrative\": {\n",
    "      \"@id\": \"https://imsglobal.github.io/openbadges-specification/ob_v3p0.html#narrative\", \n",
    "      \"@type\": \"xsd:string\"\n",
    "    },\n",
    "    \"url\": {\n",
    "      \"@id\": \"https://schema.org/url\", \n",
    "      \"@type\": \"xsd:anyURI\"\n",
    "    }\n",
    "  }\n",
    "      ],\n",
    "      \"id\": str(uuid.uuid4()),\n",
    "      \"type\": [\"VerifiableCredential\", \"OpenBadgeCredential\"],\n",
    "      \"issuer\":  did,\n",
    "      \"issuanceDate\": datetime.datetime.now().strftime(\"%Y-%m-%dT%H:%M:%SZ\"),\n",
    "        \"credentialSubject\": {\n",
    "          \"type\": \"AchievementSubject\",\n",
    "          \"id\": 'holder_did',\n",
    "          \"achievement\": {\n",
    "            \"type\": \"Achievement\",\n",
    "            \"name\": \"IIW 2022 DEMO\",\n",
    "            \"description\": \"This wallet can display this Open Badge 3.0\",\n",
    "            \"criteria\": {\n",
    "              \"type\": \"Criteria\",\n",
    "              \"narrative\": \"The first cohort of the JFF Plugfest 1 in May/June of 2021 collaborated to push interoperability of VCs in education forward.\"\n",
    "            },\n",
    "            \"image\": \"https://w3c-ccg.github.io/vc-ed/plugfest-1-2022/images/plugfest-1-badge-image.png\"\n",
    "          }\n",
    "          }\n",
    "      #   },\n",
    "      # \"options\": {\n",
    "      #     \"proofType\": \"Ed25519Signature2018\"\n",
    "      # }\n",
    "}\n",
    "test_cred = {\n",
    "    \"@context\": [\n",
    "        \"https://www.w3.org/2018/credentials/v1\",\n",
    "        {\n",
    "    \"id\": \"@id\",\n",
    "    \"type\": \"@type\",\n",
    "    \"xsd\": \"https://www.w3.org/2001/XMLSchema#\",\n",
    "    \"OpenBadgeCredential\": {\n",
    "      \"@id\": \"https://imsglobal.github.io/openbadges-specification/ob_v3p0.html#OpenBadgeCredential\"\n",
    "    },\n",
    "    \"Achievement\": {\n",
    "      \"@id\": \"https://imsglobal.github.io/openbadges-specification/ob_v3p0.html#Achievement\",\n",
    "      \"@context\": {\n",
    "        \"achievementType\": {\n",
    "          \"@id\": \"https://imsglobal.github.io/openbadges-specification/ob_v3p0.html#achievementType\",\n",
    "          \"@type\": \"xsd:string\"\n",
    "        },\n",
    "        \"alignment\": {\n",
    "          \"@id\": \"https://imsglobal.github.io/openbadges-specification/ob_v3p0.html#Alignment\"\n",
    "        },\n",
    "        \"creator\": {\n",
    "          \"@id\": \"https://imsglobal.github.io/openbadges-specification/ob_v3p0.html#Profile\"\n",
    "        },\n",
    "        \"creditsAvailable\": {\n",
    "          \"@id\": \"https://imsglobal.github.io/openbadges-specification/ob_v3p0.html#creditsAvailable\",\n",
    "          \"@type\": \"xsd:float\"\n",
    "        },\n",
    "        \"criteria\": {\n",
    "          \"@id\": \"https://imsglobal.github.io/openbadges-specification/ob_v3p0.html#criteria\", \n",
    "          \"@type\": \"@id\"\n",
    "        },\n",
    "        \"fieldOfStudy\": {\n",
    "          \"@id\": \"https://imsglobal.github.io/openbadges-specification/ob_v3p0.html#fieldOfStudy\", \n",
    "          \"@type\": \"xsd:string\"\n",
    "        },\n",
    "        \"humanCode\": {\n",
    "          \"@id\": \"https://imsglobal.github.io/openbadges-specification/ob_v3p0.html#humanCode\", \n",
    "          \"@type\": \"xsd:string\"\n",
    "        },\n",
    "        \"specialization\": {\n",
    "          \"@id\": \"https://imsglobal.github.io/openbadges-specification/ob_v3p0.html#specialization\", \n",
    "          \"@type\": \"xsd:string\"\n",
    "        },\n",
    "        \"tags\": {\n",
    "          \"@id\": \"https://schema.org/keywords\", \n",
    "          \"@type\": \"xsd:string\", \n",
    "          \"@container\": \"@set\"\n",
    "        }\n",
    "      }\n",
    "    },\n",
    "    \"AchievementCredential\": {\n",
    "      \"@id\": \"OpenBadgeCredential\"\n",
    "    },\n",
    "    \"AchievementSubject\": {\n",
    "      \"@id\": \"https://imsglobal.github.io/openbadges-specification/ob_v3p0.html#AchievementSubject\",\n",
    "      \"@context\": {\n",
    "        \"achievement\": {\n",
    "          \"@id\": \"https://imsglobal.github.io/openbadges-specification/ob_v3p0.html#Achievement\"\n",
    "        },\n",
    "        \"identifier\": {\n",
    "          \"@id\": \"https://imsglobal.github.io/openbadges-specification/ob_v3p0.html#Identifier\"\n",
    "        },\n",
    "        \"result\": {\n",
    "          \"@id\": \"https://imsglobal.github.io/openbadges-specification/ob_v3p0.html#Result\"\n",
    "        }\n",
    "      }\n",
    "    },\n",
    "    \"Address\": {\n",
    "      \"@id\": \"https://imsglobal.github.io/openbadges-specification/ob_v3p0.html#Address\",\n",
    "      \"@context\": {\n",
    "        \"addressCountry\": {\n",
    "          \"@id\": \"https://schema.org/addressCountry\", \n",
    "          \"@type\": \"xsd:string\"\n",
    "        },\n",
    "        \"addressCountryCode\": {\n",
    "          \"@id\": \"https://imsglobal.github.io/openbadges-specification/ob_v3p0.html#CountryCode\", \n",
    "          \"@type\": \"xsd:string\"\n",
    "        },\n",
    "        \"addressLocality\": {\n",
    "          \"@id\": \"https://schema.org/addresLocality\", \n",
    "          \"@type\": \"xsd:string\"\n",
    "        },\n",
    "        \"addressRegion\": {\n",
    "          \"@id\": \"https://schema.org/addressRegion\", \n",
    "          \"@type\": \"xsd:string\"\n",
    "        },\n",
    "        \"geo\": {\n",
    "          \"@id\" : \"https://imsglobal.github.io/openbadges-specification/ob_v3p0.html#GeoCoordinates\"\n",
    "        },\n",
    "        \"postOfficeBoxNumber\": {\n",
    "          \"@id\": \"https://schema.org/postOfficeBoxNumber\", \n",
    "          \"@type\": \"xsd:string\"\n",
    "        },\n",
    "        \"postalCode\": {\n",
    "          \"@id\": \"https://schema.org/postalCode\", \n",
    "          \"@type\": \"xsd:string\"\n",
    "        },\n",
    "        \"streetAddress\": {\n",
    "          \"@id\": \"https://schema.org/streetAddress\", \n",
    "          \"@type\": \"xsd:string\"\n",
    "        }\n",
    "      }\n",
    "    },\n",
    "    \"Alignment\": {\n",
    "      \"@id\": \"https://schema.org/Alignment\",\n",
    "      \"@context\": {\n",
    "        \"targetCode\": {\n",
    "          \"@id\": \"https://imsglobal.github.io/openbadges-specification/ob_v3p0.html#targetCode\", \n",
    "          \"@type\": \"xsd:string\"\n",
    "        },\n",
    "        \"targetDescription\": {\n",
    "          \"@id\": \"https://schema.org/targetDescription\", \n",
    "          \"@type\": \"xsd:string\"\n",
    "        },\n",
    "        \"targetFramework\": {\n",
    "          \"@id\": \"https://schema.org/targetFramework\", \n",
    "          \"@type\": \"xsd:string\"\n",
    "        },\n",
    "        \"targetName\": {\n",
    "          \"@id\": \"https://schema.org/targetName\", \n",
    "          \"@type\": \"xsd:string\"\n",
    "        }, \n",
    "        \"targetType\": {\n",
    "          \"@id\": \"https://imsglobal.github.io/openbadges-specification/ob_v3p0.html#targetType\",\n",
    "          \"@type\": \"xsd:string\"\n",
    "        },     \n",
    "        \"targetUrl\": {\n",
    "          \"@id\": \"https://schema.org/targetUrl\",\n",
    "          \"@type\": \"xsd:anyURI\"\n",
    "        }\n",
    "      }\n",
    "    },\n",
    "    \"Criteria\": {\n",
    "      \"@id\": \"https://imsglobal.github.io/openbadges-specification/ob_v3p0.html#Criteria\"\n",
    "    },\n",
    "    \"EndorsementCredential\": {\n",
    "      \"@id\": \"https://imsglobal.github.io/openbadges-specification/ob_v3p0.html#EndorsementCredential\"\n",
    "    },\n",
    "    \"EndorsementSubject\": {\n",
    "      \"@id\": \"https://imsglobal.github.io/openbadges-specification/ob_v3p0.html#EndorsementSubject\",\n",
    "      \"@context\": {\n",
    "        \"endorsementComment\": {\n",
    "          \"@id\": \"https://imsglobal.github.io/openbadges-specification/ob_v3p0.html#endorsementComment\", \n",
    "          \"@type\": \"xsd:string\"\n",
    "        }\n",
    "      }\n",
    "    },\n",
    "    \"Evidence\": {\n",
    "      \"@id\": \"https://imsglobal.github.io/openbadges-specification/ob_v3p0.html#Evidence\",\n",
    "      \"@context\": {\n",
    "        \"audience\": {\n",
    "          \"@id\": \"https://schema.org/audience\", \n",
    "          \"@type\": \"xsd:string\"\n",
    "        },\n",
    "        \"genre\": {\n",
    "          \"@id\": \"https://schema.org/genre\",\n",
    "          \"@type\": \"xsd:string\"\n",
    "        }\n",
    "      }\n",
    "    },\n",
    "    \"GeoCoordinates\": {\n",
    "      \"@id\": \"https://imsglobal.github.io/openbadges-specification/ob_v3p0.html#GeoCoordinates\",\n",
    "      \"@context\": {\n",
    "        \"latitude\": {\n",
    "          \"@id\": \"https://schema.org/latitude\", \n",
    "          \"@type\": \"xsd:string\"\n",
    "        },\n",
    "        \"longitude\": {\n",
    "          \"@id\": \"https://schema.org/longitude\", \n",
    "          \"@type\": \"xsd:string\"\n",
    "        }\n",
    "      }\n",
    "    },\n",
    "    \"IdentityObject\": {\n",
    "      \"@id\": \"https://imsglobal.github.io/openbadges-specification/ob_v3p0.html#IdentityObject\",\n",
    "      \"@context\": {\n",
    "        \"hashed\": {\n",
    "          \"@id\": \"https://imsglobal.github.io/openbadges-specification/ob_v3p0.html#hashed\", \n",
    "          \"@type\": \"xsd:boolean\"\n",
    "        },\n",
    "        \"identityHash\": {\n",
    "          \"@id\": \"https://imsglobal.github.io/openbadges-specification/ob_v3p0.html#identityHash\", \n",
    "          \"@type\": \"xsd:string\"\n",
    "        },\n",
    "        \"salt\":  {\n",
    "          \"@id\": \"https://imsglobal.github.io/openbadges-specification/ob_v3p0.html#salt\", \n",
    "          \"@type\": \"xsd:string\"\n",
    "        }\n",
    "      }\n",
    "    },\n",
    "    \"Image\": {\n",
    "      \"@id\": \"https://imsglobal.github.io/openbadges-specification/ob_v3p0.html#IdentityImage\",\n",
    "      \"@context\": {\n",
    "        \"caption\": {\n",
    "          \"@id\": \"https://schema.org/caption\",\n",
    "          \"@type\": \"xsd:string\"\n",
    "        }\n",
    "      }\n",
    "    },\n",
    "    \"Profile\": {\n",
    "      \"@id\": \"https://imsglobal.github.io/openbadges-specification/ob_v3p0.html#Profile\",\n",
    "      \"@context\": {\n",
    "        \"additionalName\": {\n",
    "          \"@id\": \"https://schema.org/additionalName\",\n",
    "          \"@type\": \"xsd:string\"\n",
    "        },\n",
    "        \"address\": {\n",
    "          \"@id\": \"https://imsglobal.github.io/openbadges-specification/ob_v3p0.html#Address\"\n",
    "        },\n",
    "        \"dateOfBirth\": {\n",
    "          \"@id\": \"https://imsglobal.github.io/openbadges-specification/ob_v3p0.html#dateOfBirth\",\n",
    "          \"@type\": \"xsd:date\"\n",
    "        },\n",
    "        \"email\": {\n",
    "          \"@id\": \"https://schema.org/email\", \n",
    "          \"@type\": \"xsd:string\"\n",
    "        },\n",
    "        \"familyName\": {\n",
    "          \"@id\": \"https://schema.org/familyName\",\n",
    "          \"@type\": \"xsd:string\"\n",
    "        },\n",
    "        \"familyNamePrefix\": {\n",
    "          \"@id\": \"https://imsglobal.github.io/openbadges-specification/ob_v3p0.html#familyNamePrefix\",\n",
    "          \"@type\": \"xsd:string\"\n",
    "        },\n",
    "        \"givenName\": {\n",
    "          \"@id\": \"https://schema.org/givenName\",\n",
    "          \"@type\": \"xsd:string\"\n",
    "        },\n",
    "        \"honorificPrefix\": {\n",
    "          \"@id\": \"https://schema.org/honorificPrefix\",\n",
    "          \"@type\": \"xsd:string\"\n",
    "        },\n",
    "        \"honorificSuffix\": {\n",
    "          \"@id\": \"https://schema.org/honorificSuffix\",\n",
    "          \"@type\": \"xsd:string\"\n",
    "        },\n",
    "        \"parentOrg\": {\n",
    "          \"@id\": \"https://imsglobal.github.io/openbadges-specification/ob_v3p0.html#parentOrg\",\n",
    "          \"@type\": \"xsd:string\"\n",
    "        },\n",
    "        \"patronymicName\": {\n",
    "          \"@id\": \"https://imsglobal.github.io/openbadges-specification/ob_v3p0.html#patronymicName\",\n",
    "          \"@type\": \"xsd:string\"\n",
    "        },\n",
    "        \"phone\": {\n",
    "          \"@id\": \"https://imsglobal.github.io/openbadges-specification/ob_v3p0.html#PhoneNumber\", \n",
    "          \"@type\": \"xsd:string\"\n",
    "        },\n",
    "        \"official\": {\n",
    "          \"@id\": \"https://imsglobal.github.io/openbadges-specification/ob_v3p0.html#official\",\n",
    "          \"@type\": \"xsd:string\"\n",
    "        },\n",
    "        \"sisSourcedId\": {\n",
    "          \"@id\": \"https://imsglobal.github.io/openbadges-specification/ob_v3p0.html#sisSourcedId\",\n",
    "          \"@type\": \"xsd:string\"\n",
    "        },\n",
    "        \"sourcedId\": {\n",
    "          \"@id\": \"https://imsglobal.github.io/openbadges-specification/ob_v3p0.html#sourcedId\",\n",
    "          \"@type\": \"xsd:string\"\n",
    "        }\n",
    "      }\n",
    "    },\n",
    "    \"Result\": {\n",
    "      \"@id\": \"https://imsglobal.github.io/openbadges-specification/ob_v3p0.html#Result\",\n",
    "      \"@context\": {\n",
    "        \"achievedLevel\": {\n",
    "          \"@id\": \"https://imsglobal.github.io/openbadges-specification/ob_v3p0.html#achievedLevel\", \n",
    "          \"@type\": \"xsd:anyURI\"\n",
    "        },\n",
    "        \"resultDescription\": {\n",
    "          \"@id\": \"https://imsglobal.github.io/openbadges-specification/ob_v3p0.html#resultDescription\",\n",
    "          \"@type\": \"xsd:anyURI\"\n",
    "        },\n",
    "        \"status\": {\n",
    "          \"@id\": \"https://imsglobal.github.io/openbadges-specification/ob_v3p0.html#status\", \n",
    "          \"@type\": \"xsd:string\"\n",
    "        },\n",
    "        \"value\": {\n",
    "          \"@id\": \"https://schema.org/value\", \n",
    "          \"@type\": \"xsd:string\"\n",
    "        }\n",
    "      }\n",
    "    },\n",
    "    \"ResultDescription\": {\n",
    "      \"@id\": \"https://imsglobal.github.io/openbadges-specification/ob_v3p0.html#ResultDescription\",\n",
    "      \"@context\": {\n",
    "        \"allowedValue\": {\n",
    "          \"@id\": \"https://imsglobal.github.io/openbadges-specification/ob_v3p0.html#allowedValue\", \n",
    "          \"@type\": \"xsd:string\"\n",
    "        },\n",
    "        \"requiredLevel\": {\n",
    "          \"@id\": \"https://imsglobal.github.io/openbadges-specification/ob_v3p0.html#requiredLevel\", \n",
    "          \"@type\": \"xsd:anyURI\"\n",
    "        },\n",
    "        \"requiredValue\": {\n",
    "          \"@id\": \"https://imsglobal.github.io/openbadges-specification/ob_v3p0.html#requiredValue\", \n",
    "          \"@type\": \"xsd:string\"\n",
    "        },\n",
    "        \"resultType\": {\n",
    "          \"@id\":\"https://imsglobal.github.io/openbadges-specification/ob_v3p0.html#resultType\",  \n",
    "          \"@type\": \"xsd:string\"\n",
    "        },\n",
    "        \"rubricCriterionLevel\": \"https://imsglobal.github.io/openbadges-specification/ob_v3p0.html#RubricCriterionLevel\",\n",
    "        \"valueMax\": {\n",
    "          \"@id\": \"https://imsglobal.github.io/openbadges-specification/ob_v3p0.html#valueMax\", \n",
    "          \"@type\": \"xsd:string\"\n",
    "        },\n",
    "        \"valueMin\": {\n",
    "          \"@id\": \"https://imsglobal.github.io/openbadges-specification/ob_v3p0.html#valueMin\", \n",
    "          \"@type\": \"xsd:string\"\n",
    "        }              \n",
    "      }\n",
    "    },\n",
    "    \"RubricCriterionLevel\": {\n",
    "      \"@id\": \"https://imsglobal.github.io/openbadges-specification/ob_v3p0.html#RubricCriterionLevel\",\n",
    "      \"@context\": {\n",
    "        \"level\": {\n",
    "          \"@id\": \"https://imsglobal.github.io/openbadges-specification/ob_v3p0.html#level\", \n",
    "          \"@type\": \"xsd:string\"\n",
    "        },\n",
    "        \"points\": {\n",
    "          \"@id\": \"https://imsglobal.github.io/openbadges-specification/ob_v3p0.html#points\", \n",
    "          \"@type\": \"xsd:string\"\n",
    "        }\n",
    "      }\n",
    "    },\n",
    "    \"alignment\": {\n",
    "      \"@id\": \"https://imsglobal.github.io/openbadges-specification/ob_v3p0.html#Alignment\", \n",
    "      \"@type\": \"@id\"\n",
    "    },    \n",
    "    \"description\": {\n",
    "      \"@id\": \"https://schema.org/description\", \n",
    "      \"@type\": \"xsd:string\"\n",
    "    },\n",
    "    \"endorsement\": {\n",
    "      \"@id\": \"https://imsglobal.github.io/openbadges-specification/ob_v3p0.html#endorsement\", \n",
    "      \"@type\": \"@id\"\n",
    "    },\n",
    "    \"image\": {\n",
    "      \"@id\": \"https://imsglobal.github.io/openbadges-specification/ob_v3p0.html#image\", \n",
    "      \"@type\": \"@id\"\n",
    "    },\n",
    "    \"name\": {\n",
    "      \"@id\": \"https://schema.org/name\", \n",
    "      \"@type\": \"xsd:string\"\n",
    "    },\n",
    "    \"narrative\": {\n",
    "      \"@id\": \"https://imsglobal.github.io/openbadges-specification/ob_v3p0.html#narrative\", \n",
    "      \"@type\": \"xsd:string\"\n",
    "    },\n",
    "    \"url\": {\n",
    "      \"@id\": \"https://schema.org/url\", \n",
    "      \"@type\": \"xsd:anyURI\"\n",
    "    }\n",
    "  }\n",
    "      \n",
    "    ],\n",
    "    \"id\": \"http://example:123456789abcdefghi\",\n",
    "    \"type\": [\"VerifiableCredential\", \"OpenBadgeCredential\"],\n",
    "    \"issuer\": {\"id\":did},\n",
    "    \"issuanceDate\": \"2020-03-10T04:24:12.164Z\",\n",
    "    \"credentialSubject\": {\n",
    "          \"type\": \"VerifiableCredential\",\n",
    "          \"id\": \"did:key:123456789abcdefghi\",\n",
    "          \"Achievement\": {\n",
    "            \"type\": \"Achievement\",\n",
    "            \"name\": \"IIW 2022 DEMO\",\n",
    "            \"description\": \"This wallet can display this Open Badge 3.0\",\n",
    "            \"criteria\": {\n",
    "              \"type\": \"Criteria\",\n",
    "              \"narrative\": \"The first cohort of the JFF Plugfest 1 in May/June of 2021 collaborated to push interoperability of VCs in education forward.\"\n",
    "            },\n",
    "            \"image\": \"https://w3c-ccg.github.io/vc-ed/plugfest-1-2022/images/plugfest-1-badge-image.png\"\n",
    "          }\n",
    "# \"degree\": {\"type\": \"BachelorDegree\", \"name\": \"Bachelor of Science and Arts\"},\n",
    "      \n",
    "        }\n",
    "}\n",
    "# test_cred = {\n",
    "#     \"@context\": [\n",
    "#         \"https://www.w3.org/2018/credentials/v1\",\n",
    "#         \"https://www.w3.org/2018/credentials/examples/v1\",\n",
    "#     ],\n",
    "#     \"id\": \"http://example.gov/credentials/3732\",\n",
    "#     \"type\": [\"VerifiableCredential\", \"UniversityDegreeCredential\"],\n",
    "#     \"issuer\": {\"id\": did},\n",
    "#     \"issuanceDate\": \"2020-03-10T04:24:12.164Z\",\n",
    "#     \"credentialSubject\": {\n",
    "#         \"id\": \"did:example:456\",\n",
    "#         \"degree\": {\"type\": \"BachelorDegree\", \"name\": \"Bachelor of Science and Arts\"},\n",
    "#     },\n",
    "# }\n",
    "signed_credential = await didkit.issue_credential(\n",
    "        json.dumps(test_cred),\n",
    "        '{}',\n",
    "        jwk)\n",
    "print(json.loads(signed_credential))"
   ]
  },
  {
   "cell_type": "code",
   "execution_count": 189,
   "metadata": {},
   "outputs": [
    {
     "name": "stdout",
     "output_type": "stream",
     "text": [
      "jwk: {\"kty\":\"OKP\",\"crv\":\"Ed25519\",\"x\":\"mEPYN-fZEcfawej4ASQ9Mt1WiTKYCC42oX1pYsWBYHQ\",\"d\":\"pNLI1pN-ZdvlqfYshYYFsz2fdY3yyHx9dgJS4lc0Pmc\"}\n",
      "did: did:key:z6Mkphe1ydPursVEEoMFJNuPcGzCi2u12AEAK2vwcxikk2EP\n"
     ]
    }
   ],
   "source": [
    "import asyncio\n",
    "import didkit\n",
    "import json\n",
    "\n",
    "jwk = didkit.generate_ed25519_key()\n",
    "did = didkit.key_to_did(\"key\", jwk)\n",
    "print('jwk:', jwk)\n",
    "print('did:', did)\n",
    "challenge = await didkit.did_auth(did,'{\"challenge\":\"alex\", \"domain\":\"alexa\"}',jwk)\n",
    "# await didkit.did_auth(did,'{\\'challenge\\':\\'alex-asxe1341\\'}',jwk)"
   ]
  },
  {
   "cell_type": "code",
   "execution_count": 146,
   "metadata": {},
   "outputs": [
    {
     "data": {
      "text/plain": [
       "'{\"checks\":[\"proof\"],\"warnings\":[],\"errors\":[]}'"
      ]
     },
     "execution_count": 146,
     "metadata": {},
     "output_type": "execute_result"
    }
   ],
   "source": [
    "await didkit.verify_presentation(challenge,'{\"challenge\":\"alex\", \"domain\":\"alexa\"}')"
   ]
  },
  {
   "cell_type": "code",
   "execution_count": 147,
   "metadata": {},
   "outputs": [
    {
     "data": {
      "text/plain": [
       "'did:peer:2.Ez6LSff5cxwvPXYvfP9KxtXx3tuikxBt9yRzZcfWKskPFyzEs.Vz6MkmFC5xTHkGEnjx9sK8Pz1fz5kvwjyrsV9QmaVKcNXQSFr.SeyJpZCI6Im5ldy1pZCIsInQiOiJkbSIsInMiOiJodHRwczovL3d3dy5leGFtcGxlLmNvbS9ob2xkZXIiLCJhIjpbImRpZGNvbW0vdjIiXX0'"
      ]
     },
     "execution_count": 147,
     "metadata": {},
     "output_type": "execute_result"
    }
   ],
   "source": [
    "holder_did"
   ]
  },
  {
   "cell_type": "code",
   "execution_count": 51,
   "metadata": {},
   "outputs": [
    {
     "ename": "ValueError",
     "evalue": "Invalid URI at line 1 column 187",
     "output_type": "error",
     "traceback": [
      "\u001b[0;31m---------------------------------------------------------------------------\u001b[0m",
      "\u001b[0;31mValueError\u001b[0m                                Traceback (most recent call last)",
      "Cell \u001b[0;32mIn [51], line 1\u001b[0m\n\u001b[0;32m----> 1\u001b[0m signed_credential \u001b[39m=\u001b[39m \u001b[39mawait\u001b[39;00m didkit\u001b[39m.\u001b[39missue_credential(\n\u001b[1;32m      2\u001b[0m         json\u001b[39m.\u001b[39mdumps(credential_request[\u001b[39m'\u001b[39m\u001b[39mcredential\u001b[39m\u001b[39m'\u001b[39m]),\n\u001b[1;32m      3\u001b[0m         json\u001b[39m.\u001b[39mdumps({}),\n\u001b[1;32m      4\u001b[0m         jwk)\n\u001b[1;32m      5\u001b[0m \u001b[39mprint\u001b[39m(json\u001b[39m.\u001b[39mloads(signed_credential))\n",
      "\u001b[0;31mValueError\u001b[0m: Invalid URI at line 1 column 187"
     ]
    }
   ],
   "source": [
    "signed_credential = await didkit.issue_credential(\n",
    "        json.dumps(credential_request['credential']),\n",
    "        json.dumps({}),\n",
    "        jwk)\n",
    "print(json.loads(signed_credential))"
   ]
  },
  {
   "cell_type": "code",
   "execution_count": 197,
   "metadata": {},
   "outputs": [
    {
     "data": {
      "text/plain": [
       "'{\"checks\":[\"proof\"],\"warnings\":[],\"errors\":[]}'"
      ]
     },
     "execution_count": 197,
     "metadata": {},
     "output_type": "execute_result"
    }
   ],
   "source": [
    "res = await didkit.verify_credential(signed_credential, json.dumps({}))"
   ]
  },
  {
   "cell_type": "code",
   "execution_count": 201,
   "metadata": {},
   "outputs": [
    {
     "data": {
      "text/plain": [
       "'{\"checks\":[],\"warnings\":[],\"errors\":[\"No applicable proof\"]}'"
      ]
     },
     "execution_count": 201,
     "metadata": {},
     "output_type": "execute_result"
    }
   ],
   "source": [
    "await didkit.verify_credential(json.dumps(test_cred), json.dumps({}))"
   ]
  },
  {
   "cell_type": "code",
   "execution_count": 206,
   "metadata": {},
   "outputs": [
    {
     "data": {
      "text/plain": [
       "'{\"checks\":[\"proof\"],\"warnings\":[],\"errors\":[\"signature error: Verification equation was not satisfied\"]}'"
      ]
     },
     "execution_count": 206,
     "metadata": {},
     "output_type": "execute_result"
    }
   ],
   "source": []
  },
  {
   "cell_type": "code",
   "execution_count": 204,
   "metadata": {},
   "outputs": [
    {
     "data": {
      "text/plain": [
       "'{\"@context\":[\"https://www.w3.org/2018/credentials/v1\",\"https://www.w3.org/2018/credentials/examples/v1\"],\"id\":\"http://example.gov/credentials/3732\",\"type\":[\"VerifiableCredential\",\"UniversityDegreeCredential\"],\"credentialSubject\":{\"id\":\"did:example:456\",\"degree\":{\"name\":\"Bachelor of Science and Arts\",\"type\":\"BachelorDegree\"}},\"issuer\":\"did:key:z6MkpXFs2MFWcdVimqZ8GbiP6UpwhdfsaPrNp45YxuZ8TfWo\",\"issuanceDate\":\"2020-03-10T04:24:12.164Z\",\"proof\":{\"type\":\"Ed25519Signature2018\",\"proofPurpose\":\"assertionMethod\",\"verificationMethod\":\"did:key:z6MkpXFs2MFWcdVimqZ8GbiP6UpwhdfsaPrNp45YxuZ8TfWo#z6MkpXFs2MFWcdVimqZ8GbiP6UpwhdfsaPrNp45YxuZ8TfWo\",\"created\":\"2022-11-02T17:38:41.879Z\",\"jws\":\"eyJhbGciOiJFZERTQSIsImNyaXQiOlsiYjY0Il0sImI2NCI6ZmFsc2V9..VzRMl3ea9Ra1zkqNwaQKxY0wYjggUVjBnZnOCBdhA4vebh2IYnFhl9aQDdANtqQJkxxJgLCmFCOXjt1dRcf9Dw\"}}'"
      ]
     },
     "execution_count": 204,
     "metadata": {},
     "output_type": "execute_result"
    }
   ],
   "source": [
    "signed_credential"
   ]
  },
  {
   "cell_type": "code",
   "execution_count": 265,
   "metadata": {},
   "outputs": [
    {
     "name": "stdout",
     "output_type": "stream",
     "text": [
      "{'__name__': 'didkit', '__doc__': '', '__package__': 'didkit', '__loader__': <_frozen_importlib_external.SourceFileLoader object at 0x1279d4400>, '__spec__': ModuleSpec(name='didkit', loader=<_frozen_importlib_external.SourceFileLoader object at 0x1279d4400>, origin='/usr/local/lib/python3.8/site-packages/didkit/__init__.py', submodule_search_locations=['/usr/local/lib/python3.8/site-packages/didkit']), '__path__': ['/usr/local/lib/python3.8/site-packages/didkit'], '__file__': '/usr/local/lib/python3.8/site-packages/didkit/__init__.py', '__cached__': '/usr/local/lib/python3.8/site-packages/didkit/__pycache__/__init__.cpython-38.pyc', '__builtins__': {'__name__': 'builtins', '__doc__': \"Built-in functions, exceptions, and other objects.\\n\\nNoteworthy: None is the `nil' object; Ellipsis represents `...' in slices.\", '__package__': '', '__loader__': <class '_frozen_importlib.BuiltinImporter'>, '__spec__': ModuleSpec(name='builtins', loader=<class '_frozen_importlib.BuiltinImporter'>), '__build_class__': <built-in function __build_class__>, '__import__': <built-in function __import__>, 'abs': <built-in function abs>, 'all': <built-in function all>, 'any': <built-in function any>, 'ascii': <built-in function ascii>, 'bin': <built-in function bin>, 'breakpoint': <built-in function breakpoint>, 'callable': <built-in function callable>, 'chr': <built-in function chr>, 'compile': <built-in function compile>, 'delattr': <built-in function delattr>, 'dir': <built-in function dir>, 'divmod': <built-in function divmod>, 'eval': <built-in function eval>, 'exec': <built-in function exec>, 'format': <built-in function format>, 'getattr': <built-in function getattr>, 'globals': <built-in function globals>, 'hasattr': <built-in function hasattr>, 'hash': <built-in function hash>, 'hex': <built-in function hex>, 'id': <built-in function id>, 'input': <bound method Kernel.raw_input of <ipykernel.ipkernel.IPythonKernel object at 0x10fe2e5e0>>, 'isinstance': <built-in function isinstance>, 'issubclass': <built-in function issubclass>, 'iter': <built-in function iter>, 'len': <built-in function len>, 'locals': <built-in function locals>, 'max': <built-in function max>, 'min': <built-in function min>, 'next': <built-in function next>, 'oct': <built-in function oct>, 'ord': <built-in function ord>, 'pow': <built-in function pow>, 'print': <built-in function print>, 'repr': <built-in function repr>, 'round': <built-in function round>, 'setattr': <built-in function setattr>, 'sorted': <built-in function sorted>, 'sum': <built-in function sum>, 'vars': <built-in function vars>, 'None': None, 'Ellipsis': Ellipsis, 'NotImplemented': NotImplemented, 'False': False, 'True': True, 'bool': <class 'bool'>, 'memoryview': <class 'memoryview'>, 'bytearray': <class 'bytearray'>, 'bytes': <class 'bytes'>, 'classmethod': <class 'classmethod'>, 'complex': <class 'complex'>, 'dict': <class 'dict'>, 'enumerate': <class 'enumerate'>, 'filter': <class 'filter'>, 'float': <class 'float'>, 'frozenset': <class 'frozenset'>, 'property': <class 'property'>, 'int': <class 'int'>, 'list': <class 'list'>, 'map': <class 'map'>, 'object': <class 'object'>, 'range': <class 'range'>, 'reversed': <class 'reversed'>, 'set': <class 'set'>, 'slice': <class 'slice'>, 'staticmethod': <class 'staticmethod'>, 'str': <class 'str'>, 'super': <class 'super'>, 'tuple': <class 'tuple'>, 'type': <class 'type'>, 'zip': <class 'zip'>, '__debug__': True, 'BaseException': <class 'BaseException'>, 'Exception': <class 'Exception'>, 'TypeError': <class 'TypeError'>, 'StopAsyncIteration': <class 'StopAsyncIteration'>, 'StopIteration': <class 'StopIteration'>, 'GeneratorExit': <class 'GeneratorExit'>, 'SystemExit': <class 'SystemExit'>, 'KeyboardInterrupt': <class 'KeyboardInterrupt'>, 'ImportError': <class 'ImportError'>, 'ModuleNotFoundError': <class 'ModuleNotFoundError'>, 'OSError': <class 'OSError'>, 'EnvironmentError': <class 'OSError'>, 'IOError': <class 'OSError'>, 'EOFError': <class 'EOFError'>, 'RuntimeError': <class 'RuntimeError'>, 'RecursionError': <class 'RecursionError'>, 'NotImplementedError': <class 'NotImplementedError'>, 'NameError': <class 'NameError'>, 'UnboundLocalError': <class 'UnboundLocalError'>, 'AttributeError': <class 'AttributeError'>, 'SyntaxError': <class 'SyntaxError'>, 'IndentationError': <class 'IndentationError'>, 'TabError': <class 'TabError'>, 'LookupError': <class 'LookupError'>, 'IndexError': <class 'IndexError'>, 'KeyError': <class 'KeyError'>, 'ValueError': <class 'ValueError'>, 'UnicodeError': <class 'UnicodeError'>, 'UnicodeEncodeError': <class 'UnicodeEncodeError'>, 'UnicodeDecodeError': <class 'UnicodeDecodeError'>, 'UnicodeTranslateError': <class 'UnicodeTranslateError'>, 'AssertionError': <class 'AssertionError'>, 'ArithmeticError': <class 'ArithmeticError'>, 'FloatingPointError': <class 'FloatingPointError'>, 'OverflowError': <class 'OverflowError'>, 'ZeroDivisionError': <class 'ZeroDivisionError'>, 'SystemError': <class 'SystemError'>, 'ReferenceError': <class 'ReferenceError'>, 'MemoryError': <class 'MemoryError'>, 'BufferError': <class 'BufferError'>, 'Warning': <class 'Warning'>, 'UserWarning': <class 'UserWarning'>, 'DeprecationWarning': <class 'DeprecationWarning'>, 'PendingDeprecationWarning': <class 'PendingDeprecationWarning'>, 'SyntaxWarning': <class 'SyntaxWarning'>, 'RuntimeWarning': <class 'RuntimeWarning'>, 'FutureWarning': <class 'FutureWarning'>, 'ImportWarning': <class 'ImportWarning'>, 'UnicodeWarning': <class 'UnicodeWarning'>, 'BytesWarning': <class 'BytesWarning'>, 'ResourceWarning': <class 'ResourceWarning'>, 'ConnectionError': <class 'ConnectionError'>, 'BlockingIOError': <class 'BlockingIOError'>, 'BrokenPipeError': <class 'BrokenPipeError'>, 'ChildProcessError': <class 'ChildProcessError'>, 'ConnectionAbortedError': <class 'ConnectionAbortedError'>, 'ConnectionRefusedError': <class 'ConnectionRefusedError'>, 'ConnectionResetError': <class 'ConnectionResetError'>, 'FileExistsError': <class 'FileExistsError'>, 'FileNotFoundError': <class 'FileNotFoundError'>, 'IsADirectoryError': <class 'IsADirectoryError'>, 'NotADirectoryError': <class 'NotADirectoryError'>, 'InterruptedError': <class 'InterruptedError'>, 'PermissionError': <class 'PermissionError'>, 'ProcessLookupError': <class 'ProcessLookupError'>, 'TimeoutError': <class 'TimeoutError'>, 'open': <built-in function open>, 'copyright': Copyright (c) 2001-2021 Python Software Foundation.\n",
      "All Rights Reserved.\n",
      "\n",
      "Copyright (c) 2000 BeOpen.com.\n",
      "All Rights Reserved.\n",
      "\n",
      "Copyright (c) 1995-2001 Corporation for National Research Initiatives.\n",
      "All Rights Reserved.\n",
      "\n",
      "Copyright (c) 1991-1995 Stichting Mathematisch Centrum, Amsterdam.\n",
      "All Rights Reserved., 'credits':     Thanks to CWI, CNRI, BeOpen.com, Zope Corporation and a cast of thousands\n",
      "    for supporting Python development.  See www.python.org for more information., 'license': Type license() to see the full license text, 'help': Type help() for interactive help, or help(object) for help about object., 'execfile': <function execfile at 0x10fa56430>, 'runfile': <function runfile at 0x10fb2dd30>, '__IPYTHON__': True, 'display': <function display at 0x10e7d41f0>, 'get_ipython': <bound method InteractiveShell.get_ipython of <ipykernel.zmqshell.ZMQInteractiveShell object at 0x10fe2eb20>>}, 'didkit': <module 'didkit.didkit' from '/usr/local/lib/python3.8/site-packages/didkit/didkit.cpython-38-darwin.so'>, 'DIDKitException': <class 'didkit.DIDKitException'>, 'get_version': <built-in function get_version>, 'generate_ed25519_key': <built-in function generate_ed25519_key>, 'key_to_did': <built-in function key_to_did>, 'key_to_verification_method': <built-in function key_to_verification_method>, 'issue_credential': <built-in function issue_credential>, 'verify_credential': <built-in function verify_credential>, 'issue_presentation': <built-in function issue_presentation>, 'verify_presentation': <built-in function verify_presentation>, 'resolve_did': <built-in function resolve_did>, 'dereference_did_url': <built-in function dereference_did_url>, 'did_auth': <built-in function did_auth>}\n"
     ]
    }
   ],
   "source": [
    "print(didkit.__dict__)"
   ]
  },
  {
   "cell_type": "code",
   "execution_count": null,
   "metadata": {},
   "outputs": [],
   "source": []
  }
 ],
 "metadata": {
  "kernelspec": {
   "display_name": "Python 3.8.10 64-bit",
   "language": "python",
   "name": "python3"
  },
  "language_info": {
   "codemirror_mode": {
    "name": "ipython",
    "version": 3
   },
   "file_extension": ".py",
   "mimetype": "text/x-python",
   "name": "python",
   "nbconvert_exporter": "python",
   "pygments_lexer": "ipython3",
   "version": "3.8.10"
  },
  "vscode": {
   "interpreter": {
    "hash": "1ee38ef4a5a9feb55287fd749643f13d043cb0a7addaab2a9c224cbe137c0062"
   }
  }
 },
 "nbformat": 4,
 "nbformat_minor": 2
}
