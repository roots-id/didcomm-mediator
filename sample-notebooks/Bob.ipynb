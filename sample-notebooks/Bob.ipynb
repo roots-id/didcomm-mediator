{
 "cells": [
  {
   "cell_type": "code",
   "execution_count": 1,
   "metadata": {},
   "outputs": [],
   "source": [
    "import json\n",
    "import base64\n",
    "import qrcode\n",
    "import requests\n",
    "import datetime\n",
    "import uuid\n",
    "import matplotlib.pyplot as plt\n",
    "from pymongo import MongoClient\n",
    "from typing import Optional, List\n",
    "from didcomm.common.types import DID, VerificationMethodType, VerificationMaterial, VerificationMaterialFormat\n",
    "from didcomm.did_doc.did_doc import DIDDoc, VerificationMethod, DIDCommService\n",
    "from didcomm.did_doc.did_resolver import DIDResolver\n",
    "from didcomm.message import Message, FromPrior\n",
    "from didcomm.secrets.secrets_resolver_demo import SecretsResolverDemo\n",
    "from didcomm.unpack import unpack, UnpackResult\n",
    "from didcomm.message import Attachment, AttachmentDataJson, AttachmentDataLinks\n",
    "from didcomm.common.resolvers import ResolversConfig\n",
    "from didcomm.pack_encrypted import pack_encrypted, PackEncryptedConfig, PackEncryptedResult\n",
    "from peerdid.core.did_doc_types import DIDCommServicePeerDID\n",
    "from didcomm.secrets.secrets_util import generate_x25519_keys_as_jwk_dict, generate_ed25519_keys_as_jwk_dict, jwk_to_secret\n",
    "from peerdid import peer_did\n",
    "from peerdid.did_doc import DIDDocPeerDID\n",
    "from peerdid.types import VerificationMaterialAuthentication, VerificationMethodTypeAuthentication, VerificationMaterialAgreement, VerificationMethodTypeAgreement, VerificationMaterialFormatPeerDID"
   ]
  },
  {
   "cell_type": "code",
   "execution_count": 2,
   "metadata": {},
   "outputs": [],
   "source": [
    "secrets_resolver = SecretsResolverDemo()"
   ]
  },
  {
   "cell_type": "code",
   "execution_count": 3,
   "metadata": {},
   "outputs": [],
   "source": [
    "class DIDResolverPeerDID(DIDResolver):\n",
    "    async def resolve(self, did: DID) -> DIDDoc:\n",
    "        did_doc_json = peer_did.resolve_peer_did(did, format = VerificationMaterialFormatPeerDID.JWK)\n",
    "        did_doc = DIDDocPeerDID.from_json(did_doc_json)\n",
    "\n",
    "        return DIDDoc(\n",
    "            did=did_doc.did,\n",
    "            key_agreement_kids = did_doc.agreement_kids,\n",
    "            authentication_kids = did_doc.auth_kids,\n",
    "            verification_methods = [\n",
    "                VerificationMethod(\n",
    "                    id = m.id,\n",
    "                    type = VerificationMethodType.JSON_WEB_KEY_2020,\n",
    "                    controller = m.controller,\n",
    "                    verification_material = VerificationMaterial(\n",
    "                        format = VerificationMaterialFormat.JWK,\n",
    "                        value = json.dumps(m.ver_material.value)\n",
    "                    )\n",
    "                )\n",
    "                for m in did_doc.authentication + did_doc.key_agreement\n",
    "            ],\n",
    "             didcomm_services = []\n",
    "#                 DIDCommService(\n",
    "#                     id = s.id,\n",
    "#                     service_endpoint = s.service_endpoint[0][\"uri\"] if \"uri\" in s.service_endpoint[0] else s.service_endpoint[0],\n",
    "#                     routing_keys = s.routing_keys,\n",
    "#                     accept = s.accept\n",
    "#                 )\n",
    "#                 for s in did_doc.service\n",
    "#                 if isinstance(s, DIDCommServicePeerDID)\n",
    "#             ] if did_doc.service else []\n",
    "        )"
   ]
  },
  {
   "cell_type": "code",
   "execution_count": 4,
   "metadata": {},
   "outputs": [],
   "source": [
    "async def create_peer_did(self,\n",
    "                        auth_keys_count: int = 1,\n",
    "                        agreement_keys_count: int = 1,\n",
    "                        service_endpoint: Optional[str] = None,\n",
    "                        service_routing_keys: Optional[List[str]] = None\n",
    "                        ) -> str:\n",
    "        # 1. generate keys in JWK format\n",
    "        agreem_keys = [generate_x25519_keys_as_jwk_dict() for _ in range(agreement_keys_count)]\n",
    "        auth_keys = [generate_ed25519_keys_as_jwk_dict() for _ in range(auth_keys_count)]\n",
    "\n",
    "        # 2. prepare the keys for peer DID lib\n",
    "        agreem_keys_peer_did = [\n",
    "            VerificationMaterialAgreement(\n",
    "                type=VerificationMethodTypeAgreement.JSON_WEB_KEY_2020,\n",
    "                format=VerificationMaterialFormatPeerDID.JWK,\n",
    "                value=k[1],\n",
    "            )\n",
    "            for k in agreem_keys\n",
    "        ]\n",
    "        auth_keys_peer_did = [\n",
    "            VerificationMaterialAuthentication(\n",
    "                type=VerificationMethodTypeAuthentication.JSON_WEB_KEY_2020,\n",
    "                format=VerificationMaterialFormatPeerDID.JWK,\n",
    "                value=k[1],\n",
    "            )\n",
    "            for k in auth_keys\n",
    "        ]\n",
    "\n",
    "        # 3. generate service\n",
    "        service = None\n",
    "        if service_endpoint:\n",
    "            service = json.dumps(\n",
    "                DIDCommServicePeerDID(\n",
    "                    id=\"new-id\",\n",
    "                    service_endpoint=service_endpoint, \n",
    "                    routing_keys=service_routing_keys,\n",
    "                    accept=[\"didcomm/v2\"]\n",
    "                ).to_dict()\n",
    "            )\n",
    "\n",
    "        # 4. call peer DID lib\n",
    "        # if we have just one key (auth), then use numalg0 algorithm\n",
    "        # otherwise use numalg2 algorithm\n",
    "        if len(auth_keys_peer_did) == 1 and not agreem_keys_peer_did and not service:\n",
    "            did = peer_did.create_peer_did_numalgo_0(auth_keys_peer_did[0])\n",
    "        else:\n",
    "            did = peer_did.create_peer_did_numalgo_2(\n",
    "                encryption_keys=agreem_keys_peer_did,\n",
    "                signing_keys=auth_keys_peer_did,\n",
    "                service=service,\n",
    "            )\n",
    "\n",
    "        # 5. set KIDs as in DID DOC for secrets and store the secret in the secrets resolver\n",
    "        did_doc = DIDDocPeerDID.from_json(peer_did.resolve_peer_did(did))\n",
    "        for auth_key, kid in zip(auth_keys, did_doc.auth_kids):\n",
    "            private_key = auth_key[0]\n",
    "            private_key[\"kid\"] = kid\n",
    "            await secrets_resolver.add_key(jwk_to_secret(private_key))\n",
    "\n",
    "        for agreem_key, kid in zip(agreem_keys, did_doc.agreement_kids):\n",
    "            private_key = agreem_key[0]\n",
    "            private_key[\"kid\"] = kid\n",
    "            await secrets_resolver.add_key(jwk_to_secret(private_key))\n",
    "\n",
    "        return did\n"
   ]
  },
  {
   "cell_type": "markdown",
   "metadata": {},
   "source": [
    "### Copy DID from Alice notebook (Out Of Band Invitation)"
   ]
  },
  {
   "cell_type": "code",
   "execution_count": 5,
   "metadata": {},
   "outputs": [],
   "source": [
    "alice_did = \"did:peer:2.Ez6LSiptTk5WxFoPXWagbmf3noBNVDG6PGN2UHKJCUddgBJ8q.Vz6MkprAZG6a2U6mL9wfnfD2JemUvHaGPVqdYpgu2L8sqcMu9.SeyJpZCI6Im5ldy1pZCIsInQiOiJkbSIsInMiOlt7InVyaSI6ImRpZDpwZWVyOjIuRXo2TFNya2JkWlkyaXlKNW1OeFdNOUtVM0RKYlJycTNGNmoyTUpVa3l2UUJiVjY3ai5WejZNa2hNRTFiNUZNdWp4TjNHeUxtems3d3VFcVBqSmtvUXZ2ZXUxWU5vM21OUzZnLlNleUpwWkNJNkltNWxkeTFwWkNJc0luUWlPaUprYlNJc0luTWlPaUpvZEhSd2N6b3ZMMjFsWkdsaGRHOXlMbkp2YjNSemFXUXVZMnh2ZFdRaUxDSmhJanBiSW1ScFpHTnZiVzB2ZGpJaVhYMCJ9XSwiYSI6WyJkaWRjb21tL3YyIl19\""
   ]
  },
  {
   "cell_type": "markdown",
   "metadata": {},
   "source": [
    "### Get mediator DID from Alice DID and endpoint from mediator DID"
   ]
  },
  {
   "cell_type": "code",
   "execution_count": 8,
   "metadata": {},
   "outputs": [
    {
     "name": "stdout",
     "output_type": "stream",
     "text": [
      "{'id': 'did:peer:2.Ez6LSiptTk5WxFoPXWagbmf3noBNVDG6PGN2UHKJCUddgBJ8q.Vz6MkprAZG6a2U6mL9wfnfD2JemUvHaGPVqdYpgu2L8sqcMu9.SeyJpZCI6Im5ldy1pZCIsInQiOiJkbSIsInMiOlt7InVyaSI6ImRpZDpwZWVyOjIuRXo2TFNya2JkWlkyaXlKNW1OeFdNOUtVM0RKYlJycTNGNmoyTUpVa3l2UUJiVjY3ai5WejZNa2hNRTFiNUZNdWp4TjNHeUxtems3d3VFcVBqSmtvUXZ2ZXUxWU5vM21OUzZnLlNleUpwWkNJNkltNWxkeTFwWkNJc0luUWlPaUprYlNJc0luTWlPaUpvZEhSd2N6b3ZMMjFsWkdsaGRHOXlMbkp2YjNSemFXUXVZMnh2ZFdRaUxDSmhJanBiSW1ScFpHTnZiVzB2ZGpJaVhYMCJ9XSwiYSI6WyJkaWRjb21tL3YyIl19', 'authentication': [{'id': 'did:peer:2.Ez6LSiptTk5WxFoPXWagbmf3noBNVDG6PGN2UHKJCUddgBJ8q.Vz6MkprAZG6a2U6mL9wfnfD2JemUvHaGPVqdYpgu2L8sqcMu9.SeyJpZCI6Im5ldy1pZCIsInQiOiJkbSIsInMiOlt7InVyaSI6ImRpZDpwZWVyOjIuRXo2TFNya2JkWlkyaXlKNW1OeFdNOUtVM0RKYlJycTNGNmoyTUpVa3l2UUJiVjY3ai5WejZNa2hNRTFiNUZNdWp4TjNHeUxtems3d3VFcVBqSmtvUXZ2ZXUxWU5vM21OUzZnLlNleUpwWkNJNkltNWxkeTFwWkNJc0luUWlPaUprYlNJc0luTWlPaUpvZEhSd2N6b3ZMMjFsWkdsaGRHOXlMbkp2YjNSemFXUXVZMnh2ZFdRaUxDSmhJanBiSW1ScFpHTnZiVzB2ZGpJaVhYMCJ9XSwiYSI6WyJkaWRjb21tL3YyIl19#6MkprAZG6a2U6mL9wfnfD2JemUvHaGPVqdYpgu2L8sqcMu9', 'type': 'Ed25519VerificationKey2020', 'controller': 'did:peer:2.Ez6LSiptTk5WxFoPXWagbmf3noBNVDG6PGN2UHKJCUddgBJ8q.Vz6MkprAZG6a2U6mL9wfnfD2JemUvHaGPVqdYpgu2L8sqcMu9.SeyJpZCI6Im5ldy1pZCIsInQiOiJkbSIsInMiOlt7InVyaSI6ImRpZDpwZWVyOjIuRXo2TFNya2JkWlkyaXlKNW1OeFdNOUtVM0RKYlJycTNGNmoyTUpVa3l2UUJiVjY3ai5WejZNa2hNRTFiNUZNdWp4TjNHeUxtems3d3VFcVBqSmtvUXZ2ZXUxWU5vM21OUzZnLlNleUpwWkNJNkltNWxkeTFwWkNJc0luUWlPaUprYlNJc0luTWlPaUpvZEhSd2N6b3ZMMjFsWkdsaGRHOXlMbkp2YjNSemFXUXVZMnh2ZFdRaUxDSmhJanBiSW1ScFpHTnZiVzB2ZGpJaVhYMCJ9XSwiYSI6WyJkaWRjb21tL3YyIl19', 'publicKeyMultibase': 'z6MkprAZG6a2U6mL9wfnfD2JemUvHaGPVqdYpgu2L8sqcMu9'}], 'keyAgreement': [{'id': 'did:peer:2.Ez6LSiptTk5WxFoPXWagbmf3noBNVDG6PGN2UHKJCUddgBJ8q.Vz6MkprAZG6a2U6mL9wfnfD2JemUvHaGPVqdYpgu2L8sqcMu9.SeyJpZCI6Im5ldy1pZCIsInQiOiJkbSIsInMiOlt7InVyaSI6ImRpZDpwZWVyOjIuRXo2TFNya2JkWlkyaXlKNW1OeFdNOUtVM0RKYlJycTNGNmoyTUpVa3l2UUJiVjY3ai5WejZNa2hNRTFiNUZNdWp4TjNHeUxtems3d3VFcVBqSmtvUXZ2ZXUxWU5vM21OUzZnLlNleUpwWkNJNkltNWxkeTFwWkNJc0luUWlPaUprYlNJc0luTWlPaUpvZEhSd2N6b3ZMMjFsWkdsaGRHOXlMbkp2YjNSemFXUXVZMnh2ZFdRaUxDSmhJanBiSW1ScFpHTnZiVzB2ZGpJaVhYMCJ9XSwiYSI6WyJkaWRjb21tL3YyIl19#6LSiptTk5WxFoPXWagbmf3noBNVDG6PGN2UHKJCUddgBJ8q', 'type': 'X25519KeyAgreementKey2020', 'controller': 'did:peer:2.Ez6LSiptTk5WxFoPXWagbmf3noBNVDG6PGN2UHKJCUddgBJ8q.Vz6MkprAZG6a2U6mL9wfnfD2JemUvHaGPVqdYpgu2L8sqcMu9.SeyJpZCI6Im5ldy1pZCIsInQiOiJkbSIsInMiOlt7InVyaSI6ImRpZDpwZWVyOjIuRXo2TFNya2JkWlkyaXlKNW1OeFdNOUtVM0RKYlJycTNGNmoyTUpVa3l2UUJiVjY3ai5WejZNa2hNRTFiNUZNdWp4TjNHeUxtems3d3VFcVBqSmtvUXZ2ZXUxWU5vM21OUzZnLlNleUpwWkNJNkltNWxkeTFwWkNJc0luUWlPaUprYlNJc0luTWlPaUpvZEhSd2N6b3ZMMjFsWkdsaGRHOXlMbkp2YjNSemFXUXVZMnh2ZFdRaUxDSmhJanBiSW1ScFpHTnZiVzB2ZGpJaVhYMCJ9XSwiYSI6WyJkaWRjb21tL3YyIl19', 'publicKeyMultibase': 'z6LSiptTk5WxFoPXWagbmf3noBNVDG6PGN2UHKJCUddgBJ8q'}], 'service': [{'id': 'did:peer:2.Ez6LSiptTk5WxFoPXWagbmf3noBNVDG6PGN2UHKJCUddgBJ8q.Vz6MkprAZG6a2U6mL9wfnfD2JemUvHaGPVqdYpgu2L8sqcMu9.SeyJpZCI6Im5ldy1pZCIsInQiOiJkbSIsInMiOlt7InVyaSI6ImRpZDpwZWVyOjIuRXo2TFNya2JkWlkyaXlKNW1OeFdNOUtVM0RKYlJycTNGNmoyTUpVa3l2UUJiVjY3ai5WejZNa2hNRTFiNUZNdWp4TjNHeUxtems3d3VFcVBqSmtvUXZ2ZXUxWU5vM21OUzZnLlNleUpwWkNJNkltNWxkeTFwWkNJc0luUWlPaUprYlNJc0luTWlPaUpvZEhSd2N6b3ZMMjFsWkdsaGRHOXlMbkp2YjNSemFXUXVZMnh2ZFdRaUxDSmhJanBiSW1ScFpHTnZiVzB2ZGpJaVhYMCJ9XSwiYSI6WyJkaWRjb21tL3YyIl19#didcommmessaging-0', 'type': 'DIDCommMessaging', 'serviceEndpoint': [{'uri': 'did:peer:2.Ez6LSrkbdZY2iyJ5mNxWM9KU3DJbRrq3F6j2MJUkyvQBbV67j.Vz6MkhME1b5FMujxN3GyLmzk7wuEqPjJkoQvveu1YNo3mNS6g.SeyJpZCI6Im5ldy1pZCIsInQiOiJkbSIsInMiOiJodHRwczovL21lZGlhdG9yLnJvb3RzaWQuY2xvdWQiLCJhIjpbImRpZGNvbW0vdjIiXX0'}], 'accept': ['didcomm/v2']}]}\n",
      "did:peer:2.Ez6LSrkbdZY2iyJ5mNxWM9KU3DJbRrq3F6j2MJUkyvQBbV67j.Vz6MkhME1b5FMujxN3GyLmzk7wuEqPjJkoQvveu1YNo3mNS6g.SeyJpZCI6Im5ldy1pZCIsInQiOiJkbSIsInMiOiJodHRwczovL21lZGlhdG9yLnJvb3RzaWQuY2xvdWQiLCJhIjpbImRpZGNvbW0vdjIiXX0\n"
     ]
    }
   ],
   "source": [
    "alice_did_doc = json.loads(peer_did.resolve_peer_did(alice_did))\n",
    "print(alice_did_doc)\n",
    "# mediator_did = alice_did_doc[\"service\"][0][\"serviceEndpoint\"][0][\"uri\"]\n",
    "mediator_did = alice_did_doc[\"service\"][0][\"serviceEndpoint\"]#parse prism peer did\n",
    "print(mediator_did)\n"
   ]
  },
  {
   "cell_type": "code",
   "execution_count": 9,
   "metadata": {},
   "outputs": [
    {
     "name": "stdout",
     "output_type": "stream",
     "text": [
      "https://mediator.rootsid.cloud\n"
     ]
    }
   ],
   "source": [
    "mediator_did_doc = json.loads(peer_did.resolve_peer_did(mediator_did))\n",
    "mediator_endpoint = mediator_did_doc[\"service\"][0][\"serviceEndpoint\"]\n",
    "print(mediator_endpoint)"
   ]
  },
  {
   "cell_type": "markdown",
   "metadata": {},
   "source": [
    "### BOB creates DID and a basic msg to Bob"
   ]
  },
  {
   "cell_type": "code",
   "execution_count": 10,
   "metadata": {},
   "outputs": [
    {
     "name": "stdout",
     "output_type": "stream",
     "text": [
      "Bob's DID: did:peer:2.Ez6LSqZzybQsnN9cJh5j5yCSnTDyjNkJXG1wUZeKLvym2f5jC.Vz6Mkp42xqp9R4xjAnkFUgHYE9gvUXwn8cEEZWgBcup8h7h9X.SeyJpZCI6Im5ldy1pZCIsInQiOiJkbSIsInMiOiJodHRwczovL3d3dy5leGFtcGxlLmNvbS9ib2IiLCJhIjpbImRpZGNvbW0vdjIiXX0\n"
     ]
    }
   ],
   "source": [
    "bob_did_to_alice = await create_peer_did(1,1, service_endpoint=\"https://www.example.com/bob\" )\n",
    "print(\"Bob's DID:\", bob_did_to_alice)"
   ]
  },
  {
   "cell_type": "code",
   "execution_count": 11,
   "metadata": {},
   "outputs": [],
   "source": [
    "\n",
    "bob_basic_message = Message(\n",
    "    id = str(uuid.uuid4()),\n",
    "    type=\"https://didcomm.org/basicmessage/2.0/message\",\n",
    "    frm= bob_did_to_alice,\n",
    "    body={\"content\": \"Argentina or Croacia at World Cup finals?\"},\n",
    "    created_time= int(datetime.datetime.now().timestamp())            \n",
    ")"
   ]
  },
  {
   "cell_type": "code",
   "execution_count": 12,
   "metadata": {},
   "outputs": [],
   "source": [
    "bob_basic_message_packed = await pack_encrypted(\n",
    "    resolvers_config = ResolversConfig(\n",
    "        secrets_resolver = secrets_resolver,\n",
    "        did_resolver = DIDResolverPeerDID()\n",
    "    ),\n",
    "    message = bob_basic_message,\n",
    "    frm = bob_did_to_alice,\n",
    "    to = alice_did,\n",
    "    sign_frm = None,\n",
    "    pack_config = PackEncryptedConfig(protect_sender_id=False)\n",
    ")"
   ]
  },
  {
   "cell_type": "markdown",
   "metadata": {},
   "source": [
    "### Bobs cread DID and msg routed via Mediator"
   ]
  },
  {
   "cell_type": "code",
   "execution_count": 13,
   "metadata": {},
   "outputs": [],
   "source": [
    "bob_did_to_mediator = await create_peer_did(1,1, service_endpoint=\"https://www.example.com/bob\")"
   ]
  },
  {
   "cell_type": "code",
   "execution_count": 14,
   "metadata": {},
   "outputs": [],
   "source": [
    "bob_routed_message = Message(\n",
    "    id = str(uuid.uuid4()),\n",
    "    type=\"https://didcomm.org/routing/2.0/forward\",\n",
    "    body={\"next\": alice_did},\n",
    "    to=[mediator_did],\n",
    "    attachments=[Attachment(\n",
    "            data=AttachmentDataJson(json=json.loads(bob_basic_message_packed.packed_msg))\n",
    "        )]\n",
    ")"
   ]
  },
  {
   "cell_type": "code",
   "execution_count": 15,
   "metadata": {},
   "outputs": [],
   "source": [
    "bob_routed_message_packed = await pack_encrypted(\n",
    "    resolvers_config = ResolversConfig(\n",
    "        secrets_resolver = secrets_resolver,\n",
    "        did_resolver = DIDResolverPeerDID()\n",
    "    ),\n",
    "    message = bob_routed_message,\n",
    "    frm = bob_did_to_mediator,\n",
    "    to = mediator_did,\n",
    "    sign_frm = None,\n",
    "    pack_config = PackEncryptedConfig(protect_sender_id=False)\n",
    ")"
   ]
  },
  {
   "cell_type": "markdown",
   "metadata": {},
   "source": [
    "### Sending to Mediator"
   ]
  },
  {
   "cell_type": "code",
   "execution_count": 16,
   "metadata": {},
   "outputs": [],
   "source": [
    "headers = {\"Content-Type\": \"application/didcomm-encrypted+json\"}\n",
    "resp = requests.post(mediator_endpoint, headers=headers, json = json.loads(bob_routed_message_packed.packed_msg))\n"
   ]
  },
  {
   "cell_type": "code",
   "execution_count": 17,
   "metadata": {},
   "outputs": [
    {
     "name": "stdout",
     "output_type": "stream",
     "text": [
      "<Response [202]>\n"
     ]
    }
   ],
   "source": [
    "print(resp)"
   ]
  }
 ],
 "metadata": {
  "kernelspec": {
   "display_name": "Python 3 (ipykernel)",
   "language": "python",
   "name": "python3"
  },
  "language_info": {
   "codemirror_mode": {
    "name": "ipython",
    "version": 3
   },
   "file_extension": ".py",
   "mimetype": "text/x-python",
   "name": "python",
   "nbconvert_exporter": "python",
   "pygments_lexer": "ipython3",
   "version": "3.9.13"
  }
 },
 "nbformat": 4,
 "nbformat_minor": 2
}
