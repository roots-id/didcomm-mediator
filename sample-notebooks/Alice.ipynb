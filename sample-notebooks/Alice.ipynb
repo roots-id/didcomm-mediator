{
 "cells": [
  {
   "cell_type": "code",
   "execution_count": 33,
   "metadata": {},
   "outputs": [],
   "source": [
    "import json\n",
    "import base64\n",
    "import qrcode\n",
    "import requests\n",
    "import datetime\n",
    "import uuid\n",
    "from pprint import pprint\n",
    "import matplotlib.pyplot as plt\n",
    "from pymongo import MongoClient\n",
    "from typing import Optional, List\n",
    "from didcomm.common.types import DID, VerificationMethodType, VerificationMaterial, VerificationMaterialFormat\n",
    "from didcomm.did_doc.did_doc import DIDDoc, VerificationMethod, DIDCommService\n",
    "from didcomm.did_doc.did_resolver import DIDResolver\n",
    "from didcomm.message import Message, FromPrior\n",
    "from didcomm.secrets.secrets_resolver_demo import SecretsResolverDemo\n",
    "from didcomm.unpack import unpack, UnpackResult\n",
    "from didcomm.common.resolvers import ResolversConfig\n",
    "from didcomm.pack_encrypted import pack_encrypted, PackEncryptedConfig, PackEncryptedResult\n",
    "from peerdid.core.did_doc_types import DIDCommServicePeerDID\n",
    "from didcomm.secrets.secrets_util import generate_x25519_keys_as_jwk_dict, generate_ed25519_keys_as_jwk_dict, jwk_to_secret\n",
    "from peerdid import peer_did\n",
    "from peerdid.did_doc import DIDDocPeerDID\n",
    "from peerdid.types import VerificationMaterialAuthentication, VerificationMethodTypeAuthentication, VerificationMaterialAgreement, VerificationMethodTypeAgreement, VerificationMaterialFormatPeerDID"
   ]
  },
  {
   "cell_type": "code",
   "execution_count": 34,
   "metadata": {},
   "outputs": [],
   "source": [
    "secrets_resolver = SecretsResolverDemo()"
   ]
  },
  {
   "cell_type": "code",
   "execution_count": 35,
   "metadata": {},
   "outputs": [],
   "source": [
    "class DIDResolverPeerDID(DIDResolver):\n",
    "    async def resolve(self, did: DID) -> DIDDoc:\n",
    "        did_doc_json = peer_did.resolve_peer_did(did, format = VerificationMaterialFormatPeerDID.JWK)\n",
    "        did_doc = DIDDocPeerDID.from_json(did_doc_json)\n",
    "\n",
    "        return DIDDoc(\n",
    "            did=did_doc.did,\n",
    "            key_agreement_kids = did_doc.agreement_kids,\n",
    "            authentication_kids = did_doc.auth_kids,\n",
    "            verification_methods = [\n",
    "                VerificationMethod(\n",
    "                    id = m.id,\n",
    "                    type = VerificationMethodType.JSON_WEB_KEY_2020,\n",
    "                    controller = m.controller,\n",
    "                    verification_material = VerificationMaterial(\n",
    "                        format = VerificationMaterialFormat.JWK,\n",
    "                        value = json.dumps(m.ver_material.value)\n",
    "                    )\n",
    "                )\n",
    "                for m in did_doc.authentication + did_doc.key_agreement\n",
    "            ],\n",
    "             didcomm_services = []\n",
    "        )"
   ]
  },
  {
   "cell_type": "code",
   "execution_count": 36,
   "metadata": {},
   "outputs": [],
   "source": [
    "async def create_peer_did(self,\n",
    "                        auth_keys_count: int = 1,\n",
    "                        agreement_keys_count: int = 1,\n",
    "                        service_endpoint: Optional[str] = None,\n",
    "                        service_routing_keys: Optional[List[str]] = None\n",
    "                        ) -> str:\n",
    "        # 1. generate keys in JWK format\n",
    "        agreem_keys = [generate_x25519_keys_as_jwk_dict() for _ in range(agreement_keys_count)]\n",
    "        auth_keys = [generate_ed25519_keys_as_jwk_dict() for _ in range(auth_keys_count)]\n",
    "\n",
    "        # 2. prepare the keys for peer DID lib\n",
    "        agreem_keys_peer_did = [\n",
    "            VerificationMaterialAgreement(\n",
    "                type=VerificationMethodTypeAgreement.JSON_WEB_KEY_2020,\n",
    "                format=VerificationMaterialFormatPeerDID.JWK,\n",
    "                value=k[1],\n",
    "            )\n",
    "            for k in agreem_keys\n",
    "        ]\n",
    "        auth_keys_peer_did = [\n",
    "            VerificationMaterialAuthentication(\n",
    "                type=VerificationMethodTypeAuthentication.JSON_WEB_KEY_2020,\n",
    "                format=VerificationMaterialFormatPeerDID.JWK,\n",
    "                value=k[1],\n",
    "            )\n",
    "            for k in auth_keys\n",
    "        ]\n",
    "\n",
    "        # 3. generate service\n",
    "        service = None\n",
    "        if service_endpoint:\n",
    "            service = json.dumps(\n",
    "                DIDCommServicePeerDID(\n",
    "                    id=\"new-id\",\n",
    "                    service_endpoint=service_endpoint, routing_keys=service_routing_keys,\n",
    "                    accept=[\"didcomm/v2\"]\n",
    "                ).to_dict()\n",
    "            )\n",
    "\n",
    "        # 4. call peer DID lib\n",
    "        # if we have just one key (auth), then use numalg0 algorithm\n",
    "        # otherwise use numalg2 algorithm\n",
    "        if len(auth_keys_peer_did) == 1 and not agreem_keys_peer_did and not service:\n",
    "            did = peer_did.create_peer_did_numalgo_0(auth_keys_peer_did[0])\n",
    "        else:\n",
    "            did = peer_did.create_peer_did_numalgo_2(\n",
    "                encryption_keys=agreem_keys_peer_did,\n",
    "                signing_keys=auth_keys_peer_did,\n",
    "                service=service,\n",
    "            )\n",
    "\n",
    "        # 5. set KIDs as in DID DOC for secrets and store the secret in the secrets resolver\n",
    "        did_doc = DIDDocPeerDID.from_json(peer_did.resolve_peer_did(did))\n",
    "        for auth_key, kid in zip(auth_keys, did_doc.auth_kids):\n",
    "            private_key = auth_key[0]\n",
    "            private_key[\"kid\"] = kid\n",
    "            await secrets_resolver.add_key(jwk_to_secret(private_key))\n",
    "\n",
    "        for agreem_key, kid in zip(agreem_keys, did_doc.agreement_kids):\n",
    "            private_key = agreem_key[0]\n",
    "            private_key[\"kid\"] = kid\n",
    "            await secrets_resolver.add_key(jwk_to_secret(private_key))\n",
    "\n",
    "        return did"
   ]
  },
  {
   "cell_type": "markdown",
   "metadata": {},
   "source": [
    "### 1. Alice get OOB from Mediator\n",
    "Didcomm mediator: https://mediator.rootsid.cloud/"
   ]
  },
  {
   "cell_type": "code",
   "execution_count": 37,
   "metadata": {},
   "outputs": [],
   "source": [
    "#oob_url = requests.get(\"http://127.0.0.1:8000/oob_url\").text\n",
    "oob_url = requests.get(\"https://mediator.rootsid.cloud/oob_url\").text"
   ]
  },
  {
   "cell_type": "code",
   "execution_count": 38,
   "metadata": {},
   "outputs": [
    {
     "name": "stdout",
     "output_type": "stream",
     "text": [
      "{'body': {'accept': ['didcomm/v2'],\n",
      "          'goal': 'RequestMediate',\n",
      "          'goal_code': 'request-mediate',\n",
      "          'label': 'Mediator'},\n",
      " 'from': 'did:peer:2.Ez6LSms555YhFthn1WV8ciDBpZm86hK9tp83WojJUmxPGk1hZ.Vz6MkmdBjMyB4TS5UbbQw54szm8yvMMf1ftGV2sQVYAxaeWhE.SeyJpZCI6Im5ldy1pZCIsInQiOiJkbSIsInMiOiJodHRwczovL21lZGlhdG9yLnJvb3RzaWQuY2xvdWQiLCJhIjpbImRpZGNvbW0vdjIiXX0',\n",
      " 'id': '72d6c8b3-6ba7-4304-93d3-a69a04e4f22b',\n",
      " 'type': 'https://didcomm.org/out-of-band/2.0/invitation'}\n"
     ]
    }
   ],
   "source": [
    "received_msg_encoded = oob_url.split(\"=\")[1]\n",
    "received_msg_decoded = json.loads(str(base64.urlsafe_b64decode(received_msg_encoded + \"==\"), \"utf-8\"))\n",
    "pprint(received_msg_decoded)"
   ]
  },
  {
   "cell_type": "markdown",
   "metadata": {},
   "source": [
    "### 2. Alice creates peer did with mediator"
   ]
  },
  {
   "cell_type": "code",
   "execution_count": 39,
   "metadata": {},
   "outputs": [
    {
     "name": "stdout",
     "output_type": "stream",
     "text": [
      "Alice's DID: did:peer:2.Ez6LSchEg5195qGX3NKqrPjFsoapAtYRcVf1gX6FEMjJZmNZK.Vz6Mkgc5aLK1EdW2vFMgt8TANN3D4NcvNwNFN6qoatFnX9tz6\n"
     ]
    }
   ],
   "source": [
    "alice_did_for_mediator = await create_peer_did(1,1)\n",
    "print(\"Alice's DID:\", alice_did_for_mediator)"
   ]
  },
  {
   "cell_type": "markdown",
   "metadata": {},
   "source": [
    "### 3. Alice request mediate"
   ]
  },
  {
   "cell_type": "code",
   "execution_count": 40,
   "metadata": {},
   "outputs": [],
   "source": [
    "alice_mediate_grant = Message(\n",
    "    custom_headers = [{\"return_route\": \"all\"}],\n",
    "    id = str(uuid.uuid4()),\n",
    "    type = \"https://didcomm.org/coordinate-mediation/2.0/mediate-request\",\n",
    "    body = {}\n",
    ")"
   ]
  },
  {
   "cell_type": "code",
   "execution_count": 41,
   "metadata": {},
   "outputs": [],
   "source": [
    "alice_mediate_grant_packed = await pack_encrypted(\n",
    "    resolvers_config = ResolversConfig(\n",
    "        secrets_resolver = secrets_resolver,\n",
    "        did_resolver = DIDResolverPeerDID()\n",
    "    ),\n",
    "    message = alice_mediate_grant,\n",
    "    frm = alice_did_for_mediator,\n",
    "    to = received_msg_decoded[\"from\"],\n",
    "    sign_frm = None,\n",
    "    pack_config = PackEncryptedConfig(protect_sender_id=False)\n",
    ")"
   ]
  },
  {
   "cell_type": "markdown",
   "metadata": {},
   "source": [
    "### 4. Sending request to Mediator "
   ]
  },
  {
   "cell_type": "code",
   "execution_count": 42,
   "metadata": {},
   "outputs": [],
   "source": [
    "mediator_did_doc = json.loads(peer_did.resolve_peer_did(received_msg_decoded[\"from\"]))\n",
    "mediator_endpoint = mediator_did_doc[\"service\"][0][\"serviceEndpoint\"]\n",
    "headers = {\"Content-Type\": \"application/didcomm-encrypted+json\"}\n",
    "resp = requests.post(mediator_endpoint, headers=headers, json = json.loads(alice_mediate_grant_packed.packed_msg))"
   ]
  },
  {
   "cell_type": "markdown",
   "metadata": {},
   "source": [
    "### 5. Get mediator grant response"
   ]
  },
  {
   "cell_type": "code",
   "execution_count": 43,
   "metadata": {},
   "outputs": [
    {
     "name": "stdout",
     "output_type": "stream",
     "text": [
      "https://didcomm.org/coordinate-mediation/2.0/mediate-grant\n",
      "Routing Key: did:peer:2.Ez6LScmw11KkcoodapYKFwpo7vTS5FfohFYERKw8LpT6QhbuU.Vz6Mkq9Fx6NQ8eVF4JdrjmeQniXBMaECb97MxpThyKLYF6kiq.SeyJpZCI6Im5ldy1pZCIsInQiOiJkbSIsInMiOiJodHRwczovL21lZGlhdG9yLnJvb3RzaWQuY2xvdWQiLCJhIjpbImRpZGNvbW0vdjIiXX0\n",
      "Mediator new DID: did:peer:2.Ez6LSdyy6ewZfEyhyen83Hg45Wh1L9o5LnW26yvBMcHmDqetj.Vz6MkgPL5hUK5qxa6fakF8T55LMwSZWrsKZ5GqLRMaRQK6jP7.SeyJpZCI6Im5ldy1pZCIsInQiOiJkbSIsInMiOiJodHRwczovL21lZGlhdG9yLnJvb3RzaWQuY2xvdWQiLCJhIjpbImRpZGNvbW0vdjIiXX0\n"
     ]
    }
   ],
   "source": [
    "mediator_unpack_msg = await unpack(\n",
    "    resolvers_config=ResolversConfig(\n",
    "        secrets_resolver=secrets_resolver,\n",
    "        did_resolver=DIDResolverPeerDID()\n",
    "    ),\n",
    "    packed_msg= resp.json()\n",
    ")\n",
    "print(mediator_unpack_msg.message.type)\n",
    "print(\"Routing Key: \" + mediator_unpack_msg.message.body[\"routing_did\"])\n",
    "print(\"Mediator new DID: \" + mediator_unpack_msg.message.from_prior.sub)\n",
    "# mediator rotated did\n",
    "mediator_routing_key = mediator_unpack_msg.message.body[\"routing_did\"]\n",
    "mediator_did = mediator_unpack_msg.message.from_prior.sub"
   ]
  },
  {
   "cell_type": "markdown",
   "metadata": {},
   "source": [
    "### 6. Alice will create a new DID to share with Bob where the service endpoint is the mediator"
   ]
  },
  {
   "cell_type": "markdown",
   "metadata": {},
   "source": [
    "Alice create a new DID to share with  other peers using mediator routing keys "
   ]
  },
  {
   "cell_type": "code",
   "execution_count": 48,
   "metadata": {},
   "outputs": [
    {
     "name": "stdout",
     "output_type": "stream",
     "text": [
      "Alice's DID for Bob: did:peer:2.Ez6LSk17GxLAnhh2Qu4PFucJNLMtkj8k3woH4hiNfetWqX3zL.Vz6Mku8v98g1Q6zKVotVGLSyCouZoQ2pkWDwjYQds9k3wApCG.SeyJpZCI6Im5ldy1pZCIsInQiOiJkbSIsInMiOlt7InVyaSI6ImRpZDpwZWVyOjIuRXo2TFNjbXcxMUtrY29vZGFwWUtGd3BvN3ZUUzVGZm9oRllFUkt3OExwVDZRaGJ1VS5WejZNa3E5Rng2TlE4ZVZGNEpkcmptZVFuaVhCTWFFQ2I5N014cFRoeUtMWUY2a2lxLlNleUpwWkNJNkltNWxkeTFwWkNJc0luUWlPaUprYlNJc0luTWlPaUpvZEhSd2N6b3ZMMjFsWkdsaGRHOXlMbkp2YjNSemFXUXVZMnh2ZFdRaUxDSmhJanBiSW1ScFpHTnZiVzB2ZGpJaVhYMCJ9XSwiYSI6WyJkaWRjb21tL3YyIl19\n"
     ]
    }
   ],
   "source": [
    "#alice_did_new = await create_peer_did(1, 1, service_endpoint=mediator_endpoint, service_routing_keys=[mediator_routing_key])\n",
    "alice_did_for_bob = await create_peer_did(1, 1, service_endpoint=[{\"uri\": mediator_routing_key}])\n",
    "\n",
    "print(\"Alice's DID for Bob:\", alice_did_for_bob)"
   ]
  },
  {
   "cell_type": "markdown",
   "metadata": {},
   "source": [
    "### 7. Alice register the newly created DID with the mediator "
   ]
  },
  {
   "cell_type": "code",
   "execution_count": 49,
   "metadata": {},
   "outputs": [],
   "source": [
    "alice_keylist_update = Message(\n",
    "    id = \"unique-id-293e9a922efff\",\n",
    "    type = \"https://didcomm.org/coordinate-mediation/2.0/keylist-update\",\n",
    "    body = {\n",
    "        \"updates\":[\n",
    "        {\n",
    "            \"recipient_did\": alice_did_for_bob,\n",
    "            \"action\": \"add\"\n",
    "        }\n",
    "    ]\n",
    "    }\n",
    ")\n",
    "alice_keylist_update_packed_msg = await pack_encrypted(\n",
    "    resolvers_config = ResolversConfig(\n",
    "        secrets_resolver = secrets_resolver,\n",
    "        did_resolver = DIDResolverPeerDID()\n",
    "    ),\n",
    "    message = alice_keylist_update,\n",
    "    frm = alice_did_for_mediator,\n",
    "    to = mediator_did,\n",
    "    sign_frm = None,\n",
    "    pack_config = PackEncryptedConfig(protect_sender_id=False)\n",
    ")"
   ]
  },
  {
   "cell_type": "markdown",
   "metadata": {},
   "source": [
    "### 8. Alice send update request to the mediator to register the new did"
   ]
  },
  {
   "cell_type": "code",
   "execution_count": 50,
   "metadata": {},
   "outputs": [],
   "source": [
    "headers = {\"Content-Type\": \"application/didcomm-encrypted+json\"}\n",
    "resp = requests.post(mediator_endpoint, headers=headers, data = alice_keylist_update_packed_msg.packed_msg)"
   ]
  },
  {
   "cell_type": "code",
   "execution_count": 51,
   "metadata": {},
   "outputs": [
    {
     "name": "stdout",
     "output_type": "stream",
     "text": [
      "https://didcomm.org/coordinate-mediation/2.0/keylist-update-response\n",
      "{'updated': [{'recipient_did': 'did:peer:2.Ez6LSk17GxLAnhh2Qu4PFucJNLMtkj8k3woH4hiNfetWqX3zL.Vz6Mku8v98g1Q6zKVotVGLSyCouZoQ2pkWDwjYQds9k3wApCG.SeyJpZCI6Im5ldy1pZCIsInQiOiJkbSIsInMiOlt7InVyaSI6ImRpZDpwZWVyOjIuRXo2TFNjbXcxMUtrY29vZGFwWUtGd3BvN3ZUUzVGZm9oRllFUkt3OExwVDZRaGJ1VS5WejZNa3E5Rng2TlE4ZVZGNEpkcmptZVFuaVhCTWFFQ2I5N014cFRoeUtMWUY2a2lxLlNleUpwWkNJNkltNWxkeTFwWkNJc0luUWlPaUprYlNJc0luTWlPaUpvZEhSd2N6b3ZMMjFsWkdsaGRHOXlMbkp2YjNSemFXUXVZMnh2ZFdRaUxDSmhJanBiSW1ScFpHTnZiVzB2ZGpJaVhYMCJ9XSwiYSI6WyJkaWRjb21tL3YyIl19', 'action': 'add', 'result': 'success'}]}\n"
     ]
    }
   ],
   "source": [
    "mediator_unpack_msg2 = await unpack(\n",
    "    resolvers_config=ResolversConfig(\n",
    "        secrets_resolver=secrets_resolver,\n",
    "        did_resolver=DIDResolverPeerDID()\n",
    "    ),\n",
    "    packed_msg= resp.json()\n",
    ")\n",
    "print(mediator_unpack_msg2.message.type)\n",
    "print(mediator_unpack_msg2.message.body)\n"
   ]
  },
  {
   "cell_type": "markdown",
   "metadata": {},
   "source": [
    "### 9. Alice can now send her DID to Bob. Copy Alice's DID into Bob's notebook, and follows Bob's notebook"
   ]
  },
  {
   "cell_type": "code",
   "execution_count": 35,
   "metadata": {},
   "outputs": [
    {
     "name": "stdout",
     "output_type": "stream",
     "text": [
      "did:peer:2.Ez6LSiptTk5WxFoPXWagbmf3noBNVDG6PGN2UHKJCUddgBJ8q.Vz6MkprAZG6a2U6mL9wfnfD2JemUvHaGPVqdYpgu2L8sqcMu9.SeyJpZCI6Im5ldy1pZCIsInQiOiJkbSIsInMiOlt7InVyaSI6ImRpZDpwZWVyOjIuRXo2TFNya2JkWlkyaXlKNW1OeFdNOUtVM0RKYlJycTNGNmoyTUpVa3l2UUJiVjY3ai5WejZNa2hNRTFiNUZNdWp4TjNHeUxtems3d3VFcVBqSmtvUXZ2ZXUxWU5vM21OUzZnLlNleUpwWkNJNkltNWxkeTFwWkNJc0luUWlPaUprYlNJc0luTWlPaUpvZEhSd2N6b3ZMMjFsWkdsaGRHOXlMbkp2YjNSemFXUXVZMnh2ZFdRaUxDSmhJanBiSW1ScFpHTnZiVzB2ZGpJaVhYMCJ9XSwiYSI6WyJkaWRjb21tL3YyIl19\n"
     ]
    }
   ],
   "source": [
    "print(alice_did_for_bob)"
   ]
  },
  {
   "cell_type": "markdown",
   "metadata": {},
   "source": [
    "### 15. Alice check status of queued messages from the Mediator"
   ]
  },
  {
   "cell_type": "code",
   "execution_count": 57,
   "metadata": {},
   "outputs": [],
   "source": [
    "alice_status_check = Message(\n",
    "    id = \"unique-id-293e9a922efffxxx\",\n",
    "    type = \"https://didcomm.org/messagepickup/3.0/status-request\",\n",
    "    body = {}\n",
    ")"
   ]
  },
  {
   "cell_type": "code",
   "execution_count": 58,
   "metadata": {},
   "outputs": [],
   "source": [
    "alice_status_check_packed_msg = await pack_encrypted(\n",
    "    resolvers_config = ResolversConfig(\n",
    "        secrets_resolver = secrets_resolver,\n",
    "        did_resolver = DIDResolverPeerDID()\n",
    "    ),\n",
    "    message = alice_status_check,\n",
    "    to = mediator_did,\n",
    "    frm = alice_did_for_mediator,\n",
    "    sign_frm = None,\n",
    "    pack_config = PackEncryptedConfig(protect_sender_id=False)\n",
    ")\n",
    "headers = {\"Content-Type\": \"application/didcomm-encrypted+json\"}\n",
    "resp3 = requests.post(mediator_endpoint, headers=headers, data = alice_status_check_packed_msg.packed_msg)"
   ]
  },
  {
   "cell_type": "code",
   "execution_count": 59,
   "metadata": {},
   "outputs": [
    {
     "name": "stdout",
     "output_type": "stream",
     "text": [
      "https://didcomm.org/messagepickup/3.0/status\n",
      "Messages in Mediator queue: 0\n"
     ]
    }
   ],
   "source": [
    "mediator_unpack_status = await unpack(\n",
    "    resolvers_config=ResolversConfig(\n",
    "        secrets_resolver=secrets_resolver,\n",
    "        did_resolver=DIDResolverPeerDID()\n",
    "    ),\n",
    "    packed_msg= resp3.json()\n",
    ")\n",
    "print(mediator_unpack_status.message.type)\n",
    "print(\"Messages in Mediator queue: \" + str(mediator_unpack_status.message.body[\"message_count\"]))"
   ]
  },
  {
   "cell_type": "markdown",
   "metadata": {},
   "source": [
    "### 16. If there are messages, Alice can pickup from the mediator (delivery request)"
   ]
  },
  {
   "cell_type": "code",
   "execution_count": 22,
   "metadata": {},
   "outputs": [],
   "source": [
    "alice_delivery_request = Message(\n",
    "    id = \"unique-id-293e9a922efffxxxff\",\n",
    "    type = \"https://didcomm.org/messagepickup/3.0/delivery-request\",\n",
    "    body = {\"limit\": 1}\n",
    ")"
   ]
  },
  {
   "cell_type": "code",
   "execution_count": 23,
   "metadata": {},
   "outputs": [],
   "source": [
    "alice_delivery_request_packed_msg = await pack_encrypted(\n",
    "    resolvers_config = ResolversConfig(\n",
    "        secrets_resolver = secrets_resolver,\n",
    "        did_resolver = DIDResolverPeerDID()\n",
    "    ),\n",
    "    message = alice_delivery_request,\n",
    "    to = mediator_did,\n",
    "    frm = alice_did_for_mediator,\n",
    "    sign_frm = None,\n",
    "    pack_config = PackEncryptedConfig(protect_sender_id=False)\n",
    ")\n",
    "headers = {\"Content-Type\": \"application/didcomm-encrypted+json\"}\n",
    "resp4 = requests.post(mediator_endpoint, headers=headers, data = alice_delivery_request_packed_msg.packed_msg)"
   ]
  },
  {
   "cell_type": "code",
   "execution_count": 24,
   "metadata": {},
   "outputs": [
    {
     "name": "stdout",
     "output_type": "stream",
     "text": [
      "https://didcomm.org/messagepickup/3.0/delivery\n",
      "{'recipient_key': None}\n"
     ]
    }
   ],
   "source": [
    "mediator_delivery = await unpack(\n",
    "    resolvers_config=ResolversConfig(\n",
    "        secrets_resolver=secrets_resolver,\n",
    "        did_resolver=DIDResolverPeerDID()\n",
    "    ),\n",
    "    packed_msg= resp4.json()\n",
    ")\n",
    "print(mediator_delivery.message.type)\n",
    "print(mediator_delivery.message.body)"
   ]
  },
  {
   "cell_type": "code",
   "execution_count": 25,
   "metadata": {},
   "outputs": [],
   "source": [
    "bob_packed_msg = mediator_delivery.message.attachments[0].data.json\n",
    "msg_id = mediator_delivery.message.attachments[0].id"
   ]
  },
  {
   "cell_type": "code",
   "execution_count": 26,
   "metadata": {},
   "outputs": [
    {
     "name": "stdout",
     "output_type": "stream",
     "text": [
      "{'protected': 'eyJ0eXAiOiJhcHBsaWNhdGlvbi9kaWRjb21tLWVuY3J5cHRlZCtqc29uIiwiYWxnIjoiRUNESC0xUFUrQTI1NktXIiwiZW5jIjoiQTI1NkNCQy1IUzUxMiIsImFwdSI6IlpHbGtPbkJsWlhJNk1pNUZlalpNVTNGYWVubGlVWE51VGpsalNtZzFhalY1UTFOdVZFUjVhazVyU2xoSE1YZFZXbVZMVEhaNWJUSm1OV3BETGxaNk5rMXJjRFF5ZUhGd09WSTBlR3BCYm10R1ZXZElXVVU1WjNaVldIZHVPR05GUlZwWFowSmpkWEE0YURkb09WZ3VVMlY1U25CYVEwazJTVzAxYkdSNU1YQmFRMGx6U1c1UmFVOXBTbXRpVTBselNXNU5hVTlwU205a1NGSjNZM3B2ZGt3elpETmtlVFZzWlVkR2RHTkhlR3hNYlU1MllsTTVhV0l5U1dsTVEwcG9TV3B3WWtsdFVuQmFSMDUyWWxjd2RtUnFTV2xZV0RBak5reFRjVnA2ZVdKUmMyNU9PV05LYURWcU5YbERVMjVVUkhscVRtdEtXRWN4ZDFWYVpVdE1kbmx0TW1ZMWFrTSIsImFwdiI6IlpwUXFHajlhRVQ5eFhVNWpUdXJJRk5Day1WeWZ1T1NzS0JPSDAtSHowaDgiLCJza2lkIjoiZGlkOnBlZXI6Mi5FejZMU3FaenliUXNuTjljSmg1ajV5Q1NuVER5ak5rSlhHMXdVWmVLTHZ5bTJmNWpDLlZ6Nk1rcDQyeHFwOVI0eGpBbmtGVWdIWUU5Z3ZVWHduOGNFRVpXZ0JjdXA4aDdoOVguU2V5SnBaQ0k2SW01bGR5MXBaQ0lzSW5RaU9pSmtiU0lzSW5NaU9pSm9kSFJ3Y3pvdkwzZDNkeTVsZUdGdGNHeGxMbU52YlM5aWIySWlMQ0poSWpwYkltUnBaR052YlcwdmRqSWlYWDAjNkxTcVp6eWJRc25OOWNKaDVqNXlDU25URHlqTmtKWEcxd1VaZUtMdnltMmY1akMiLCJlcGsiOnsiY3J2IjoiWDI1NTE5IiwieCI6IlAtMGlvZzc2c3d3d2E4ZUFWUEI2blk1RjA5emNYTzhZbXBqQUgzYzhsa2MiLCJrdHkiOiJPS1AifX0', 'recipients': [{'header': {'kid': 'did:peer:2.Ez6LSiptTk5WxFoPXWagbmf3noBNVDG6PGN2UHKJCUddgBJ8q.Vz6MkprAZG6a2U6mL9wfnfD2JemUvHaGPVqdYpgu2L8sqcMu9.SeyJpZCI6Im5ldy1pZCIsInQiOiJkbSIsInMiOlt7InVyaSI6ImRpZDpwZWVyOjIuRXo2TFNya2JkWlkyaXlKNW1OeFdNOUtVM0RKYlJycTNGNmoyTUpVa3l2UUJiVjY3ai5WejZNa2hNRTFiNUZNdWp4TjNHeUxtems3d3VFcVBqSmtvUXZ2ZXUxWU5vM21OUzZnLlNleUpwWkNJNkltNWxkeTFwWkNJc0luUWlPaUprYlNJc0luTWlPaUpvZEhSd2N6b3ZMMjFsWkdsaGRHOXlMbkp2YjNSemFXUXVZMnh2ZFdRaUxDSmhJanBiSW1ScFpHTnZiVzB2ZGpJaVhYMCJ9XSwiYSI6WyJkaWRjb21tL3YyIl19#6LSiptTk5WxFoPXWagbmf3noBNVDG6PGN2UHKJCUddgBJ8q'}, 'encrypted_key': '-7fBg2rt3LlloOqcxFRFPxt1J3Ct1tZcp1FZnBsirb_J-QIEYdUjPrByJy3C6_5itLLvbpdfsyVKnBOpk9reGtdigUKpPNmA'}], 'iv': 'HoQ5F1WGfAKjdlfZFkx9dg', 'ciphertext': 'zc66Ur0lXRUOgDQqZw8cV_JrbbWIWA0ckZWWS179lfziUxIBa_xtofIs8ou663EAQ4Tqfj_SNAWUO0VxHSmHIpnvWf2p9CByi9POEsBjbQ2cVCOKBTmR_qaYdi44LU6v_Nqz2g3XMNKQoPzFiwxdX4EKGVOUiIFGjQAwMIliUXvrnnqFCLz8ZW2NWu2xCJD67dzMIvuMA33ER-twitbfY1B2yBYMsLxxodsGoJLTbGimZg8BMXsCTXgigmhQEKjsKPj2S7FkKD-FjsIWo0D67o6C3dwlR-xXuvVPSJDcPEI-5falBhp6S_hDKO2oQuPB', 'tag': 'fC0EFo0exVBNmts2-q0Hjlhj5fCO46WO6C6sky7MvW8'}\n"
     ]
    }
   ],
   "source": [
    "print(bob_packed_msg)"
   ]
  },
  {
   "cell_type": "code",
   "execution_count": 27,
   "metadata": {},
   "outputs": [],
   "source": [
    "bob_msg = await unpack(\n",
    "    resolvers_config=ResolversConfig(\n",
    "        secrets_resolver=secrets_resolver,\n",
    "        did_resolver=DIDResolverPeerDID()\n",
    "    ),\n",
    "    packed_msg= bob_packed_msg\n",
    ")"
   ]
  },
  {
   "cell_type": "code",
   "execution_count": 28,
   "metadata": {},
   "outputs": [
    {
     "name": "stdout",
     "output_type": "stream",
     "text": [
      "Message ID: 63bec765d33a66cd3e9b7dcd\n",
      "Argentina or Croacia at World Cup finals?\n"
     ]
    }
   ],
   "source": [
    "print(\"Message ID:\", msg_id)\n",
    "print(bob_msg.message.body[\"content\"])"
   ]
  },
  {
   "cell_type": "markdown",
   "metadata": {},
   "source": [
    "### 17. Alice acknowledge so the mediator can delete the message"
   ]
  },
  {
   "cell_type": "code",
   "execution_count": 29,
   "metadata": {},
   "outputs": [],
   "source": [
    "alice_ack = Message(\n",
    "    id = \"unique-id-293e9a922efffxxxffsss\",\n",
    "    type = \"https://didcomm.org/messagepickup/3.0/messages-received\",\n",
    "    body = {\"message_id_list\": [msg_id]}\n",
    ")"
   ]
  },
  {
   "cell_type": "code",
   "execution_count": 30,
   "metadata": {},
   "outputs": [],
   "source": [
    "alice_ack_packed_msg = await pack_encrypted(\n",
    "    resolvers_config = ResolversConfig(\n",
    "        secrets_resolver = secrets_resolver,\n",
    "        did_resolver = DIDResolverPeerDID()\n",
    "    ),\n",
    "    message = alice_ack,\n",
    "    to = mediator_did,\n",
    "    frm = alice_did_for_mediator,\n",
    "    sign_frm = None,\n",
    "    pack_config = PackEncryptedConfig(protect_sender_id=False)\n",
    ")\n",
    "headers = {\"Content-Type\": \"application/didcomm-encrypted+json\"}\n",
    "resp5 = requests.post(mediator_endpoint, headers=headers, data = alice_ack_packed_msg.packed_msg)"
   ]
  },
  {
   "cell_type": "code",
   "execution_count": 31,
   "metadata": {},
   "outputs": [
    {
     "name": "stdout",
     "output_type": "stream",
     "text": [
      "https://didcomm.org/messagepickup/3.0/status\n",
      "{'message_count': 0, 'live_delivery': False}\n"
     ]
    }
   ],
   "source": [
    "mediator_ack_status = await unpack(\n",
    "    resolvers_config=ResolversConfig(\n",
    "        secrets_resolver=secrets_resolver,\n",
    "        did_resolver=DIDResolverPeerDID()\n",
    "    ),\n",
    "    packed_msg= resp5.json()\n",
    ")\n",
    "print(mediator_ack_status.message.type)\n",
    "print(mediator_ack_status.message.body)"
   ]
  }
 ],
 "metadata": {
  "kernelspec": {
   "display_name": "Python 3 (ipykernel)",
   "language": "python",
   "name": "python3"
  },
  "language_info": {
   "codemirror_mode": {
    "name": "ipython",
    "version": 3
   },
   "file_extension": ".py",
   "mimetype": "text/x-python",
   "name": "python",
   "nbconvert_exporter": "python",
   "pygments_lexer": "ipython3",
   "version": "3.10.8"
  }
 },
 "nbformat": 4,
 "nbformat_minor": 2
}
